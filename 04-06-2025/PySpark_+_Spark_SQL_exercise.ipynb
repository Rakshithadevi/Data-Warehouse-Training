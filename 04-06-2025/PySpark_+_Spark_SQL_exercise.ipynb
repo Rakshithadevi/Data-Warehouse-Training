{
  "nbformat": 4,
  "nbformat_minor": 0,
  "metadata": {
    "colab": {
      "provenance": []
    },
    "kernelspec": {
      "name": "python3",
      "display_name": "Python 3"
    },
    "language_info": {
      "name": "python"
    }
  },
  "cells": [
    {
      "cell_type": "markdown",
      "source": [
        "PySpark + Spark SQL"
      ],
      "metadata": {
        "id": "Y1_8xU7pR3Eh"
      }
    },
    {
      "cell_type": "code",
      "execution_count": 2,
      "metadata": {
        "id": "LnQH74J5H4j2"
      },
      "outputs": [],
      "source": [
        "from pyspark.sql import SparkSession\n",
        "from pyspark.sql.functions import *\n",
        "\n",
        "spark = SparkSession.builder \\\n",
        "    .appName(\"PracticeProject\") \\\n",
        "    .enableHiveSupport() \\\n",
        "    .getOrCreate()\n",
        "\n",
        "spark.sql(\"CREATE DATABASE IF NOT EXISTS sales\")\n",
        "\n",
        "customers_data = [\n",
        "    (101, 'Ali', 'ali@gmail.com', 'Mumbai', '2022-05-10'),\n",
        "    (102, 'Neha', 'neha@yahoo.com', 'Delhi', '2023-01-15'),\n",
        "    (103, 'Ravi', 'ravi@hotmail.com', 'Bangalore', '2021-11-01'),\n",
        "    (104, 'Sneha', 'sneha@outlook.com', 'Hyderabad', '2020-07-22'),\n",
        "    (105, 'Amit', 'amit@gmail.com', 'Chennai', '2023-03-10'),\n",
        "]\n",
        "\n",
        "orders_data = [\n",
        "    (1, 101, 'Laptop', 'Electronics', 2, 50000.0, '2024-01-10'),\n",
        "    (2, 101, 'Mouse', 'Electronics', 1, 1200.0, '2024-01-15'),\n",
        "    (3, 102, 'Tablet', 'Electronics', 1, 20000.0, '2024-02-01'),\n",
        "    (4, 103, 'Bookshelf', 'Furniture', 1, 3500.0, '2024-02-10'),\n",
        "    (5, 104, 'Mixer', 'Appliances', 1, 5000.0, '2024-02-15'),\n",
        "    (6, 105, 'Notebook', 'Stationery', 5, 500.0, '2024-03-01'),\n",
        "    (7, 102, 'Phone', 'Electronics', 1, 30000.0, '2024-03-02'),\n",
        "]\n",
        "\n",
        "\n",
        "customers_df = spark.createDataFrame(customers_data, [\"CustomerID\", \"Name\", \"Email\", \"City\", \"SignupDate\"])\n",
        "orders_df = spark.createDataFrame(orders_data, [\"OrderID\", \"CustomerID\", \"Product\", \"Category\", \"Quantity\", \"Price\", \"OrderDate\"])\n",
        "\n",
        "\n",
        "customers_df.write.mode(\"overwrite\").saveAsTable(\"sales.customers\")\n",
        "orders_df.write.mode(\"overwrite\").saveAsTable(\"sales.orders\")\n"
      ]
    },
    {
      "cell_type": "markdown",
      "source": [
        "SECTION A: PySpark DataFrame Tasks"
      ],
      "metadata": {
        "id": "29ELsWtnQhBr"
      }
    },
    {
      "cell_type": "code",
      "source": [
        "# 1.Add a column\n",
        "orders_df = orders_df.withColumn(\"TotalAmount\", col(\"Price\") * col(\"Quantity\"))\n",
        "\n",
        "# 2.Filter\n",
        "orders_df.filter(col(\"TotalAmount\") > 10000).show()\n",
        "\n",
        "# 3.Standardize\n",
        "customers_df = customers_df.withColumn(\"City\", lower(col(\"City\")))\n",
        "\n",
        "# 4.Extract year\n",
        "orders_df = orders_df.withColumn(\"OrderYear\", year(to_date(\"OrderDate\")))\n",
        "\n",
        "# 5.Fill null values\n",
        "customers_df = customers_df.fillna({'Email': 'unknown@example.com'})\n",
        "\n",
        "# 6.Use when/otherwise\n",
        "orders_df = orders_df.withColumn(\n",
        "    \"CategoryType\",\n",
        "    when(col(\"TotalAmount\") < 5000, \"Low\")\n",
        "    .when((col(\"TotalAmount\") >= 5000) & (col(\"TotalAmount\") <= 20000), \"Medium\")\n",
        "    .otherwise(\"High\")\n",
        ")\n",
        "orders_df.show()\n"
      ],
      "metadata": {
        "colab": {
          "base_uri": "https://localhost:8080/"
        },
        "id": "IABZXQOpJq5Z",
        "outputId": "caf09afb-abef-43e0-aff2-5ff52e3ef396"
      },
      "execution_count": 3,
      "outputs": [
        {
          "output_type": "stream",
          "name": "stdout",
          "text": [
            "+-------+----------+-------+-----------+--------+-------+----------+-----------+\n",
            "|OrderID|CustomerID|Product|   Category|Quantity|  Price| OrderDate|TotalAmount|\n",
            "+-------+----------+-------+-----------+--------+-------+----------+-----------+\n",
            "|      1|       101| Laptop|Electronics|       2|50000.0|2024-01-10|   100000.0|\n",
            "|      3|       102| Tablet|Electronics|       1|20000.0|2024-02-01|    20000.0|\n",
            "|      7|       102|  Phone|Electronics|       1|30000.0|2024-03-02|    30000.0|\n",
            "+-------+----------+-------+-----------+--------+-------+----------+-----------+\n",
            "\n",
            "+-------+----------+---------+-----------+--------+-------+----------+-----------+---------+------------+\n",
            "|OrderID|CustomerID|  Product|   Category|Quantity|  Price| OrderDate|TotalAmount|OrderYear|CategoryType|\n",
            "+-------+----------+---------+-----------+--------+-------+----------+-----------+---------+------------+\n",
            "|      1|       101|   Laptop|Electronics|       2|50000.0|2024-01-10|   100000.0|     2024|        High|\n",
            "|      2|       101|    Mouse|Electronics|       1| 1200.0|2024-01-15|     1200.0|     2024|         Low|\n",
            "|      3|       102|   Tablet|Electronics|       1|20000.0|2024-02-01|    20000.0|     2024|      Medium|\n",
            "|      4|       103|Bookshelf|  Furniture|       1| 3500.0|2024-02-10|     3500.0|     2024|         Low|\n",
            "|      5|       104|    Mixer| Appliances|       1| 5000.0|2024-02-15|     5000.0|     2024|      Medium|\n",
            "|      6|       105| Notebook| Stationery|       5|  500.0|2024-03-01|     2500.0|     2024|         Low|\n",
            "|      7|       102|    Phone|Electronics|       1|30000.0|2024-03-02|    30000.0|     2024|        High|\n",
            "+-------+----------+---------+-----------+--------+-------+----------+-----------+---------+------------+\n",
            "\n"
          ]
        }
      ]
    },
    {
      "cell_type": "markdown",
      "source": [
        "SECTION B: Spark SQL Tasks"
      ],
      "metadata": {
        "id": "mg-v5Fb7RM1w"
      }
    },
    {
      "cell_type": "code",
      "source": [
        "# Register as SQL Tables (if not already)\n",
        "customers_df.createOrReplaceTempView(\"customers\")\n",
        "orders_df.createOrReplaceTempView(\"orders\")\n",
        "\n",
        "# 7. Orders by \"Ali\"\n",
        "spark.sql(\"\"\"\n",
        "SELECT o.* FROM orders o\n",
        "JOIN customers c ON o.CustomerID = c.CustomerID\n",
        "WHERE c.Name = 'Ali'\n",
        "\"\"\").show()\n",
        "\n",
        "# 8. Total Spending by Each Customer\n",
        "spark.sql(\"\"\"\n",
        "SELECT CustomerID, SUM(Price * Quantity) AS TotalSpent\n",
        "FROM orders\n",
        "GROUP BY CustomerID\n",
        "\"\"\").show()\n",
        "\n",
        "# 9. Highest Revenue Category\n",
        "spark.sql(\"\"\"\n",
        "SELECT Category, SUM(Price * Quantity) AS Revenue\n",
        "FROM orders\n",
        "GROUP BY Category\n",
        "ORDER BY Revenue DESC\n",
        "LIMIT 1\n",
        "\"\"\").show()\n",
        "\n",
        "# 10. View: CustomerName, Product, TotalAmount\n",
        "spark.sql(\"\"\"\n",
        "CREATE OR REPLACE TEMP VIEW customer_orders AS\n",
        "SELECT c.Name AS CustomerName, o.Product, o.TotalAmount\n",
        "FROM orders o\n",
        "JOIN customers c ON o.CustomerID = c.CustomerID\n",
        "\"\"\")\n",
        "\n",
        "# 11. Products ordered after Feb 2024\n",
        "spark.sql(\"\"\"\n",
        "SELECT * FROM customer_orders\n",
        "WHERE TotalAmount IS NOT NULL AND Product IN (\n",
        "    SELECT Product FROM orders WHERE OrderDate > '2024-02-01'\n",
        ")\n",
        "\"\"\").show()\n"
      ],
      "metadata": {
        "colab": {
          "base_uri": "https://localhost:8080/"
        },
        "id": "08KArtApKDSr",
        "outputId": "b4f31763-bc7b-4f1b-a61b-1e34326c77e4"
      },
      "execution_count": 4,
      "outputs": [
        {
          "output_type": "stream",
          "name": "stdout",
          "text": [
            "+-------+----------+-------+-----------+--------+-------+----------+-----------+---------+------------+\n",
            "|OrderID|CustomerID|Product|   Category|Quantity|  Price| OrderDate|TotalAmount|OrderYear|CategoryType|\n",
            "+-------+----------+-------+-----------+--------+-------+----------+-----------+---------+------------+\n",
            "|      1|       101| Laptop|Electronics|       2|50000.0|2024-01-10|   100000.0|     2024|        High|\n",
            "|      2|       101|  Mouse|Electronics|       1| 1200.0|2024-01-15|     1200.0|     2024|         Low|\n",
            "+-------+----------+-------+-----------+--------+-------+----------+-----------+---------+------------+\n",
            "\n",
            "+----------+----------+\n",
            "|CustomerID|TotalSpent|\n",
            "+----------+----------+\n",
            "|       101|  101200.0|\n",
            "|       102|   50000.0|\n",
            "|       103|    3500.0|\n",
            "|       104|    5000.0|\n",
            "|       105|    2500.0|\n",
            "+----------+----------+\n",
            "\n",
            "+-----------+--------+\n",
            "|   Category| Revenue|\n",
            "+-----------+--------+\n",
            "|Electronics|151200.0|\n",
            "+-----------+--------+\n",
            "\n",
            "+------------+---------+-----------+\n",
            "|CustomerName|  Product|TotalAmount|\n",
            "+------------+---------+-----------+\n",
            "|        Neha|    Phone|    30000.0|\n",
            "|        Ravi|Bookshelf|     3500.0|\n",
            "|       Sneha|    Mixer|     5000.0|\n",
            "|        Amit| Notebook|     2500.0|\n",
            "+------------+---------+-----------+\n",
            "\n"
          ]
        }
      ]
    },
    {
      "cell_type": "markdown",
      "source": [
        "SECTION C: Advanced Practice"
      ],
      "metadata": {
        "id": "VzlVWlKuRzlL"
      }
    },
    {
      "cell_type": "code",
      "source": [
        "# 12. Global Temp View\n",
        "customers_df.createOrReplaceGlobalTempView(\"customers\")\n",
        "\n",
        "# Query it\n",
        "spark.sql(\"SELECT * FROM global_temp.customers WHERE City = 'mumbai'\").show()\n",
        "\n",
        "# 13.Save transformed orders_df to Parquet\n",
        "orders_df.write.mode(\"overwrite\").parquet(\"/tmp/transformed_orders\")\n",
        "\n",
        "# 14.Read and count\n",
        "reloaded_df = spark.read.parquet(\"/tmp/transformed_orders\")\n",
        "print(\"Order count:\", reloaded_df.count())\n"
      ],
      "metadata": {
        "colab": {
          "base_uri": "https://localhost:8080/"
        },
        "id": "IgV6Bc3IKDVS",
        "outputId": "1ca54e79-85cf-4c18-fb6c-7657b1a4c258"
      },
      "execution_count": 5,
      "outputs": [
        {
          "output_type": "stream",
          "name": "stdout",
          "text": [
            "+----------+----+-------------+------+----------+\n",
            "|CustomerID|Name|        Email|  City|SignupDate|\n",
            "+----------+----+-------------+------+----------+\n",
            "|       101| Ali|ali@gmail.com|mumbai|2022-05-10|\n",
            "+----------+----+-------------+------+----------+\n",
            "\n",
            "Order count: 7\n"
          ]
        }
      ]
    },
    {
      "cell_type": "markdown",
      "source": [
        " SECTION D: UDF + Built-in Function Tasks"
      ],
      "metadata": {
        "id": "XALQ_M_ER1pm"
      }
    },
    {
      "cell_type": "code",
      "source": [
        "from pyspark.sql.functions import udf\n",
        "from pyspark.sql.types import StringType\n",
        "\n",
        "# 15.Mask Email UDF\n",
        "def mask_email(email):\n",
        "    parts = email.split('@')\n",
        "    return parts[0][0] + \"***@\" + parts[1] if len(parts) == 2 else email\n",
        "\n",
        "mask_udf = udf(mask_email, StringType())\n",
        "customers_df = customers_df.withColumn(\"MaskedEmail\", mask_udf(\"Email\"))\n",
        "customers_df.select(\"Email\", \"MaskedEmail\").show()\n",
        "\n",
        "# 16.concat_ws - Full Label\n",
        "customers_df = customers_df.withColumn(\"FullLabel\", concat_ws(\" from \", \"Name\", \"City\"))\n",
        "customers_df.select(\"FullLabel\").show()\n",
        "\n",
        "# 17.Clean product names\n",
        "orders_df = orders_df.withColumn(\"CleanProduct\", regexp_replace(\"Product\", \"[^a-zA-Z0-9]\", \"\"))\n",
        "orders_df.select(\"Product\", \"CleanProduct\").show()\n",
        "\n",
        "# 18.Customer age in days\n",
        "customers_df = customers_df.withColumn(\"SignupDate\", to_date(\"SignupDate\"))\n",
        "customers_df = customers_df.withColumn(\"DaysSinceSignup\", datediff(current_date(), col(\"SignupDate\")))\n",
        "customers_df.select(\"Name\", \"DaysSinceSignup\").show()\n"
      ],
      "metadata": {
        "colab": {
          "base_uri": "https://localhost:8080/"
        },
        "id": "t9nlzY2bKLhX",
        "outputId": "3e0cc406-7813-4fc3-8474-b038cffc6f0d"
      },
      "execution_count": 6,
      "outputs": [
        {
          "output_type": "stream",
          "name": "stdout",
          "text": [
            "+-----------------+----------------+\n",
            "|            Email|     MaskedEmail|\n",
            "+-----------------+----------------+\n",
            "|    ali@gmail.com|  a***@gmail.com|\n",
            "|   neha@yahoo.com|  n***@yahoo.com|\n",
            "| ravi@hotmail.com|r***@hotmail.com|\n",
            "|sneha@outlook.com|s***@outlook.com|\n",
            "|   amit@gmail.com|  a***@gmail.com|\n",
            "+-----------------+----------------+\n",
            "\n",
            "+--------------------+\n",
            "|           FullLabel|\n",
            "+--------------------+\n",
            "|     Ali from mumbai|\n",
            "|     Neha from delhi|\n",
            "| Ravi from bangalore|\n",
            "|Sneha from hyderabad|\n",
            "|   Amit from chennai|\n",
            "+--------------------+\n",
            "\n",
            "+---------+------------+\n",
            "|  Product|CleanProduct|\n",
            "+---------+------------+\n",
            "|   Laptop|      Laptop|\n",
            "|    Mouse|       Mouse|\n",
            "|   Tablet|      Tablet|\n",
            "|Bookshelf|   Bookshelf|\n",
            "|    Mixer|       Mixer|\n",
            "| Notebook|    Notebook|\n",
            "|    Phone|       Phone|\n",
            "+---------+------------+\n",
            "\n",
            "+-----+---------------+\n",
            "| Name|DaysSinceSignup|\n",
            "+-----+---------------+\n",
            "|  Ali|           1121|\n",
            "| Neha|            871|\n",
            "| Ravi|           1311|\n",
            "|Sneha|           1778|\n",
            "| Amit|            817|\n",
            "+-----+---------------+\n",
            "\n"
          ]
        }
      ]
    },
    {
      "cell_type": "code",
      "source": [],
      "metadata": {
        "id": "0KE4ZEMvKDYs"
      },
      "execution_count": null,
      "outputs": []
    }
  ]
}