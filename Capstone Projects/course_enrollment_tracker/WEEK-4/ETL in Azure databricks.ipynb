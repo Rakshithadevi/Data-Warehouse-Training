{
 "cells": [
  {
   "cell_type": "code",
   "execution_count": 0,
   "metadata": {
    "application/vnd.databricks.v1+cell": {
     "cellMetadata": {
      "byteLimit": 2048000,
      "rowLimit": 10000
     },
     "inputWidgets": {},
     "nuid": "f0f25733-989c-495f-98e8-123519475266",
     "showTitle": false,
     "tableResultSettingsMap": {},
     "title": ""
    }
   },
   "outputs": [
    {
     "output_type": "stream",
     "name": "stdout",
     "output_type": "stream",
     "text": [
      "root\n |-- student_id: string (nullable = true)\n |-- student_name: string (nullable = true)\n |-- enrollment_date: date (nullable = true)\n\nroot\n |-- course_id: string (nullable = true)\n |-- course_name: string (nullable = true)\n\nroot\n |-- student_id: string (nullable = true)\n |-- course_id: string (nullable = true)\n |-- enrollment_date: date (nullable = true)\n\nroot\n |-- student_id: string (nullable = true)\n |-- course_id: string (nullable = true)\n |-- completion: integer (nullable = true)\n\n"
     ]
    }
   ],
   "source": [
    "from pyspark.sql import SparkSession\n",
    "spark = SparkSession.builder.appName(\"Course Tracker Final Join\").getOrCreate()\n",
    "df_students = spark.read.csv(\"file:/Workspace/Shared/students.csv\", header=True, inferSchema=True)\n",
    "df_courses = spark.read.csv(\"file:/Workspace/Shared/courses.csv\", header=True, inferSchema=True)\n",
    "df_enrollments = spark.read.csv(\"file:/Workspace/Shared/enrollments.csv\", header=True, inferSchema=True)\n",
    "df_progress = spark.read.csv(\"file:/Workspace/Shared/progress.csv\", header=True, inferSchema=True)\n",
    "df_students.printSchema()\n",
    "df_courses.printSchema()\n",
    "df_enrollments.printSchema()\n",
    "df_progress.printSchema()\n"
   ]
  },
  {
   "cell_type": "code",
   "execution_count": 0,
   "metadata": {
    "application/vnd.databricks.v1+cell": {
     "cellMetadata": {
      "byteLimit": 2048000,
      "rowLimit": 10000
     },
     "inputWidgets": {},
     "nuid": "37f74dec-9b6d-46b5-a029-4333c65209cc",
     "showTitle": false,
     "tableResultSettingsMap": {},
     "title": ""
    }
   },
   "outputs": [],
   "source": [
    "final_df = df_enrollments.join(df_students, \"student_id\") \\\n",
    "    .join(df_courses, \"course_id\") \\\n",
    "    .join(df_progress, [\"student_id\", \"course_id\"]) \\\n",
    "    .select(\n",
    "        df_students[\"student_name\"],\n",
    "        df_courses[\"course_name\"],\n",
    "        df_enrollments[\"enrollment_date\"],\n",
    "        df_progress[\"completion\"]\n",
    "    )\n"
   ]
  },
  {
   "cell_type": "code",
   "execution_count": 0,
   "metadata": {
    "application/vnd.databricks.v1+cell": {
     "cellMetadata": {
      "byteLimit": 2048000,
      "rowLimit": 10000
     },
     "inputWidgets": {},
     "nuid": "14aaad42-7d7b-4116-a7b1-87000b0c8fd1",
     "showTitle": false,
     "tableResultSettingsMap": {},
     "title": ""
    }
   },
   "outputs": [],
   "source": [
    "final_df.write.format(\"delta\").mode(\"overwrite\").save(\"file:/Workspace/Shared/final_progress_table\")\n"
   ]
  }
 ],
 "metadata": {
  "application/vnd.databricks.v1+notebook": {
   "computePreferences": null,
   "dashboards": [],
   "environmentMetadata": {
    "base_environment": "",
    "environment_version": "2"
   },
   "inputWidgetPreferences": null,
   "language": "python",
   "notebookMetadata": {
    "pythonIndentUnit": 4
   },
   "notebookName": "ETL in Azure databricks",
   "widgets": {}
  },
  "language_info": {
   "name": "python"
  }
 },
 "nbformat": 4,
 "nbformat_minor": 0
}