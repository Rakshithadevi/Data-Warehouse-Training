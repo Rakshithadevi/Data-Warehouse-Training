{
 "cells": [
  {
   "cell_type": "code",
   "execution_count": 0,
   "metadata": {
    "application/vnd.databricks.v1+cell": {
     "cellMetadata": {
      "byteLimit": 2048000,
      "rowLimit": 10000
     },
     "inputWidgets": {},
     "nuid": "c3757f87-cd02-49e8-8ee6-43f78c3e4e62",
     "showTitle": false,
     "tableResultSettingsMap": {},
     "title": ""
    }
   },
   "outputs": [],
   "source": [
    "from pyspark.sql.functions import col, to_date\n",
    "subscriptions = (spark.read.option(\"header\", True)\n",
    "                           .csv(\"file:/Workspace/Shared/subscriptions.csv\")\n",
    "                           .withColumn(\"StartDate\", to_date(\"StartDate\"))\n",
    "                           .withColumn(\"EndDate\", to_date(\"EndDate\"))\n",
    "                           .withColumn(\"PriceUSD\", col(\"PriceUSD\").cast(\"double\"))\n",
    "                           .withColumn(\"IsActive\", col(\"IsActive\").cast(\"boolean\"))\n",
    "                           .withColumn(\"AutoRenew\", col(\"AutoRenew\").cast(\"boolean\")))\n",
    "\n",
    "subscriptions.write.format(\"delta\").mode(\"overwrite\").saveAsTable(\"subscriptions_delta\")\n",
    "from pyspark.sql.functions import to_timestamp\n",
    "\n",
    "user_activity = (spark.read.option(\"header\", True)\n",
    "                           .csv(\"file:/Workspace/Shared/user_activity.csv\")\n",
    "                           .withColumn(\"EventTime\", to_timestamp(\"EventTime\")))\n",
    "\n",
    "user_activity.write.format(\"delta\").mode(\"overwrite\").saveAsTable(\"user_activity_delta\")\n"
   ]
  },
  {
   "cell_type": "markdown",
   "metadata": {
    "application/vnd.databricks.v1+cell": {
     "cellMetadata": {},
     "inputWidgets": {},
     "nuid": "36ae34ac-c7d6-4938-885e-9edd5ab09838",
     "showTitle": false,
     "tableResultSettingsMap": {},
     "title": ""
    }
   },
   "source": [
    "Subscription Engagement Score"
   ]
  },
  {
   "cell_type": "code",
   "execution_count": 0,
   "metadata": {
    "application/vnd.databricks.v1+cell": {
     "cellMetadata": {
      "byteLimit": 2048000,
      "rowLimit": 10000
     },
     "inputWidgets": {},
     "nuid": "ddfc14c1-a410-41da-8c75-039e2b804526",
     "showTitle": false,
     "tableResultSettingsMap": {},
     "title": ""
    }
   },
   "outputs": [
    {
     "output_type": "stream",
     "name": "stdout",
     "output_type": "stream",
     "text": [
      "+--------------+------+------------------+\n|SubscriptionID|UserID|  engagement_score|\n+--------------+------+------------------+\n|        SUB001|  U001|0.6593406593406594|\n|        SUB002|  U002|               1.0|\n|        SUB003|  U003|0.9782608695652174|\n|        SUB004|  U001|2.6373626373626378|\n|        SUB005|  U004|0.3296703296703297|\n+--------------+------+------------------+\n\n"
     ]
    }
   ],
   "source": [
    "from pyspark.sql.functions import datediff, count\n",
    "subs = subscriptions.withColumn(\"active_days\", datediff(\"EndDate\", \"StartDate\"))\n",
    "events = user_activity.groupBy(\"UserID\").agg(count(\"*\").alias(\"events_per_user\"))\n",
    "engagement = (subs.join(events, \"UserID\", \"left\")\n",
    "                  .fillna(0, subset=[\"events_per_user\"])\n",
    "                  .withColumn(\"engagement_score\", (col(\"events_per_user\") / col(\"active_days\")) * col(\"PriceUSD\")))\n",
    "\n",
    "engagement.select(\"SubscriptionID\", \"UserID\", \"engagement_score\").show()\n"
   ]
  },
  {
   "cell_type": "markdown",
   "metadata": {
    "application/vnd.databricks.v1+cell": {
     "cellMetadata": {},
     "inputWidgets": {},
     "nuid": "b9952c58-88dc-45ad-a030-3e8ad5b4250a",
     "showTitle": false,
     "tableResultSettingsMap": {},
     "title": ""
    }
   },
   "source": [
    "Anomaly Detection via SQL"
   ]
  },
  {
   "cell_type": "code",
   "execution_count": 0,
   "metadata": {
    "application/vnd.databricks.v1+cell": {
     "cellMetadata": {
      "byteLimit": 2048000,
      "implicitDf": true,
      "rowLimit": 10000
     },
     "inputWidgets": {},
     "nuid": "cc7cabf0-a4bf-476d-bc81-8b0d86b4e77e",
     "showTitle": false,
     "tableResultSettingsMap": {},
     "title": ""
    }
   },
   "outputs": [
    {
     "output_type": "display_data",
     "data": {
      "text/html": [
       "<style scoped>\n",
       "  .table-result-container {\n",
       "    max-height: 300px;\n",
       "    overflow: auto;\n",
       "  }\n",
       "  table, th, td {\n",
       "    border: 1px solid black;\n",
       "    border-collapse: collapse;\n",
       "  }\n",
       "  th, td {\n",
       "    padding: 5px;\n",
       "  }\n",
       "  th {\n",
       "    text-align: left;\n",
       "  }\n",
       "</style><div class='table-result-container'><table class='table-result'><thead style='background-color: white'><tr></tr></thead><tbody></tbody></table></div>"
      ]
     },
     "metadata": {
      "application/vnd.databricks.v1+output": {
       "addedWidgets": {},
       "aggData": [],
       "aggError": "",
       "aggOverflow": false,
       "aggSchema": [],
       "aggSeriesLimitReached": false,
       "aggType": "",
       "arguments": {},
       "columnCustomDisplayInfos": {},
       "data": [],
       "datasetInfos": [],
       "dbfsResultPath": null,
       "isJsonSchema": true,
       "metadata": {
        "dataframeName": null
       },
       "overflow": false,
       "plotOptions": {
        "customPlotOptions": {},
        "displayType": "table",
        "pivotAggregation": null,
        "pivotColumns": null,
        "xColumns": null,
        "yColumns": null
       },
       "removedWidgets": [],
       "schema": [],
       "type": "table"
      }
     },
     "output_type": "display_data"
    }
   ],
   "source": [
    "%sql\n",
    "CREATE OR REPLACE VIEW inactive_recent_activity AS\n",
    "SELECT DISTINCT s.UserID, s.SubscriptionID\n",
    "FROM subscriptions_delta s\n",
    "JOIN user_activity_delta u ON s.UserID = u.UserID\n",
    "WHERE s.IsActive = false AND u.EventTime > s.EndDate;\n",
    "CREATE OR REPLACE VIEW autorenew_no_recent_events AS\n",
    "SELECT s.UserID, s.SubscriptionID\n",
    "FROM subscriptions_delta s\n",
    "LEFT JOIN user_activity_delta u ON s.UserID = u.UserID\n",
    "WHERE s.AutoRenew = true\n",
    "GROUP BY s.UserID, s.SubscriptionID\n",
    "HAVING MAX(u.EventTime) < current_date() - interval 30 days OR MAX(u.EventTime) IS NULL;\n"
   ]
  },
  {
   "cell_type": "markdown",
   "metadata": {
    "application/vnd.databricks.v1+cell": {
     "cellMetadata": {},
     "inputWidgets": {},
     "nuid": "0ffc6b51-b13e-48b2-992e-1fde5efa1b6b",
     "showTitle": false,
     "tableResultSettingsMap": {},
     "title": ""
    }
   },
   "source": [
    "Delta Lake + Merge Simulation"
   ]
  },
  {
   "cell_type": "code",
   "execution_count": 0,
   "metadata": {
    "application/vnd.databricks.v1+cell": {
     "cellMetadata": {
      "byteLimit": 2048000,
      "rowLimit": 10000
     },
     "inputWidgets": {},
     "nuid": "017a21ae-eb8d-460e-b977-8a68bab01fa5",
     "showTitle": false,
     "tableResultSettingsMap": {},
     "title": ""
    }
   },
   "outputs": [],
   "source": [
    "from delta.tables import DeltaTable\n",
    "subs_table = DeltaTable.forName(spark, \"subscriptions_delta\")\n",
    "subs_table.alias(\"target\").merge(\n",
    "    source=subscriptions.alias(\"source\").filter(\n",
    "        (col(\"PlanType\") == \"Pro\") & (col(\"StartDate\").between(\"2024-03-01\", \"2024-03-31\"))\n",
    "    ),\n",
    "    condition=\"target.SubscriptionID = source.SubscriptionID\"\n",
    ").whenMatchedUpdate(set={\"PriceUSD\": \"source.PriceUSD + 5\"}).execute()\n"
   ]
  },
  {
   "cell_type": "markdown",
   "metadata": {
    "application/vnd.databricks.v1+cell": {
     "cellMetadata": {},
     "inputWidgets": {},
     "nuid": "20837638-e282-46ae-972a-a9ad8364e64b",
     "showTitle": false,
     "tableResultSettingsMap": {},
     "title": ""
    }
   },
   "source": [
    "Time Travel Debugging\n",
    "\n"
   ]
  },
  {
   "cell_type": "code",
   "execution_count": 0,
   "metadata": {
    "application/vnd.databricks.v1+cell": {
     "cellMetadata": {
      "byteLimit": 2048000,
      "implicitDf": true,
      "rowLimit": 10000
     },
     "inputWidgets": {},
     "nuid": "b816550f-f208-4138-b80c-66f4a0f482a5",
     "showTitle": false,
     "tableResultSettingsMap": {},
     "title": ""
    }
   },
   "outputs": [
    {
     "output_type": "display_data",
     "data": {
      "text/html": [
       "<style scoped>\n",
       "  .table-result-container {\n",
       "    max-height: 300px;\n",
       "    overflow: auto;\n",
       "  }\n",
       "  table, th, td {\n",
       "    border: 1px solid black;\n",
       "    border-collapse: collapse;\n",
       "  }\n",
       "  th, td {\n",
       "    padding: 5px;\n",
       "  }\n",
       "  th {\n",
       "    text-align: left;\n",
       "  }\n",
       "</style><div class='table-result-container'><table class='table-result'><thead style='background-color: white'><tr><th>SubscriptionID</th><th>UserID</th><th>PlanType</th><th>StartDate</th><th>EndDate</th><th>PriceUSD</th><th>IsActive</th><th>AutoRenew</th></tr></thead><tbody><tr><td>SUB002</td><td>U002</td><td>Pro</td><td>2024-02-15</td><td>2024-05-15</td><td>90.0</td><td>true</td><td>false</td></tr><tr><td>SUB003</td><td>U003</td><td>Pro</td><td>2024-03-10</td><td>2024-06-10</td><td>95.0</td><td>false</td><td>false</td></tr></tbody></table></div>"
      ]
     },
     "metadata": {
      "application/vnd.databricks.v1+output": {
       "addedWidgets": {},
       "aggData": [],
       "aggError": "",
       "aggOverflow": false,
       "aggSchema": [],
       "aggSeriesLimitReached": false,
       "aggType": "",
       "arguments": {},
       "columnCustomDisplayInfos": {},
       "data": [
        [
         "SUB002",
         "U002",
         "Pro",
         "2024-02-15",
         "2024-05-15",
         90.0,
         true,
         false
        ],
        [
         "SUB003",
         "U003",
         "Pro",
         "2024-03-10",
         "2024-06-10",
         95.0,
         false,
         false
        ]
       ],
       "datasetInfos": [],
       "dbfsResultPath": null,
       "isJsonSchema": true,
       "metadata": {
        "createTempViewForImplicitDf": true,
        "dataframeName": "_sqldf",
        "executionCount": 16
       },
       "overflow": false,
       "plotOptions": {
        "customPlotOptions": {},
        "displayType": "table",
        "pivotAggregation": null,
        "pivotColumns": null,
        "xColumns": null,
        "yColumns": null
       },
       "removedWidgets": [],
       "schema": [
        {
         "metadata": "{}",
         "name": "SubscriptionID",
         "type": "\"string\""
        },
        {
         "metadata": "{}",
         "name": "UserID",
         "type": "\"string\""
        },
        {
         "metadata": "{}",
         "name": "PlanType",
         "type": "\"string\""
        },
        {
         "metadata": "{}",
         "name": "StartDate",
         "type": "\"date\""
        },
        {
         "metadata": "{}",
         "name": "EndDate",
         "type": "\"date\""
        },
        {
         "metadata": "{}",
         "name": "PriceUSD",
         "type": "\"double\""
        },
        {
         "metadata": "{}",
         "name": "IsActive",
         "type": "\"boolean\""
        },
        {
         "metadata": "{}",
         "name": "AutoRenew",
         "type": "\"boolean\""
        }
       ],
       "type": "table"
      }
     },
     "output_type": "display_data"
    }
   ],
   "source": [
    "%sql\n",
    "DESCRIBE HISTORY subscriptions_delta;\n",
    "SELECT * FROM subscriptions_delta VERSION AS OF 0 WHERE PlanType = 'Pro';\n",
    "SELECT * FROM subscriptions_delta WHERE PlanType = 'Pro';\n"
   ]
  },
  {
   "cell_type": "markdown",
   "metadata": {
    "application/vnd.databricks.v1+cell": {
     "cellMetadata": {},
     "inputWidgets": {},
     "nuid": "dc4eb41a-5e06-47f5-9cb3-9153b22e36ab",
     "showTitle": false,
     "tableResultSettingsMap": {},
     "title": ""
    }
   },
   "source": [
    "Build Tier Migration Table"
   ]
  },
  {
   "cell_type": "code",
   "execution_count": 0,
   "metadata": {
    "application/vnd.databricks.v1+cell": {
     "cellMetadata": {
      "byteLimit": 2048000,
      "rowLimit": 10000
     },
     "inputWidgets": {},
     "nuid": "10395644-9984-4d1c-92ad-7b35cea260fe",
     "showTitle": false,
     "tableResultSettingsMap": {},
     "title": ""
    }
   },
   "outputs": [
    {
     "output_type": "stream",
     "name": "stdout",
     "output_type": "stream",
     "text": [
      "+------+---------+--------+---------+\n|UserID|StartDate|PlanType|prev_plan|\n+------+---------+--------+---------+\n+------+---------+--------+---------+\n\n"
     ]
    }
   ],
   "source": [
    "from pyspark.sql.window import Window\n",
    "from pyspark.sql.functions import lag\n",
    "migrations = subscriptions.select(\"UserID\", \"StartDate\", \"PlanType\")\\\n",
    "    .withColumn(\"StartDate\", col(\"StartDate\").cast(\"date\"))\\\n",
    "    .orderBy(\"UserID\", \"StartDate\")\n",
    "\n",
    "window_spec = Window.partitionBy(\"UserID\").orderBy(\"StartDate\")\n",
    "migrations = migrations.withColumn(\"prev_plan\", lag(\"PlanType\").over(window_spec))\n",
    "tier_migration = migrations.filter(\n",
    "    ((col(\"prev_plan\") == \"Basic\") & (col(\"PlanType\") == \"Pro\")) |\n",
    "    ((col(\"prev_plan\") == \"Pro\") & (col(\"PlanType\") == \"Premium\"))\n",
    ")\n",
    "\n",
    "tier_migration.show()\n"
   ]
  },
  {
   "cell_type": "markdown",
   "metadata": {
    "application/vnd.databricks.v1+cell": {
     "cellMetadata": {},
     "inputWidgets": {},
     "nuid": "fcd38c72-02f8-436d-aa0d-34a957263f4c",
     "showTitle": false,
     "tableResultSettingsMap": {},
     "title": ""
    }
   },
   "source": [
    "Power Users Detection"
   ]
  },
  {
   "cell_type": "code",
   "execution_count": 0,
   "metadata": {
    "application/vnd.databricks.v1+cell": {
     "cellMetadata": {
      "byteLimit": 2048000,
      "rowLimit": 10000
     },
     "inputWidgets": {},
     "nuid": "c65b796b-1f27-4e0c-b095-ee02af5c50ad",
     "showTitle": false,
     "tableResultSettingsMap": {},
     "title": ""
    }
   },
   "outputs": [],
   "source": [
    "from pyspark.sql.functions import countDistinct, sum, when\n",
    "power_users = (user_activity.groupBy(\"UserID\")\n",
    "    .agg(\n",
    "        countDistinct(\"FeatureUsed\").alias(\"feature_count\"),\n",
    "        sum(when(col(\"EventType\") == \"login\", 1).otherwise(0)).alias(\"login_count\")\n",
    "    )\n",
    "    .filter((col(\"feature_count\") >= 2) & (col(\"login_count\") >= 3)))\n",
    "power_users.write.format(\"delta\").mode(\"overwrite\").saveAsTable(\"power_users\")\n"
   ]
  },
  {
   "cell_type": "markdown",
   "metadata": {
    "application/vnd.databricks.v1+cell": {
     "cellMetadata": {},
     "inputWidgets": {},
     "nuid": "7091cd15-1305-420e-be33-aaa8168d25d3",
     "showTitle": false,
     "tableResultSettingsMap": {},
     "title": ""
    }
   },
   "source": [
    "Session Replay View"
   ]
  },
  {
   "cell_type": "code",
   "execution_count": 0,
   "metadata": {
    "application/vnd.databricks.v1+cell": {
     "cellMetadata": {
      "byteLimit": 2048000,
      "rowLimit": 10000
     },
     "inputWidgets": {},
     "nuid": "2f70302e-0053-45cf-9767-87432db479f2",
     "showTitle": false,
     "tableResultSettingsMap": {},
     "title": ""
    }
   },
   "outputs": [
    {
     "output_type": "stream",
     "name": "stdout",
     "output_type": "stream",
     "text": [
      "+------+-------------------+-------------------+------------+\n|UserID|          EventTime|          next_time|duration_sec|\n+------+-------------------+-------------------+------------+\n|  U001|2024-04-07 10:22:00|2024-04-10 16:00:00|      279480|\n|  U004|2024-04-11 12:00:00|               NULL|        NULL|\n+------+-------------------+-------------------+------------+\n\n"
     ]
    }
   ],
   "source": [
    "from pyspark.sql.functions import lead, unix_timestamp\n",
    "session_events = user_activity.filter(col(\"EventType\").isin(\"login\", \"logout\"))\n",
    "window_spec = Window.partitionBy(\"UserID\").orderBy(\"EventTime\")\n",
    "session_trace = (session_events.withColumn(\"next_event\", lead(\"EventType\").over(window_spec))\n",
    "                                 .withColumn(\"next_time\", lead(\"EventTime\").over(window_spec))\n",
    "                                 .withColumn(\"duration_sec\", unix_timestamp(\"next_time\") - unix_timestamp(\"EventTime\"))\n",
    "                                 .filter(col(\"EventType\") == \"login\"))\n",
    "\n",
    "session_trace.select(\"UserID\", \"EventTime\", \"next_time\", \"duration_sec\").show()\n"
   ]
  }
 ],
 "metadata": {
  "application/vnd.databricks.v1+notebook": {
   "computePreferences": null,
   "dashboards": [],
   "environmentMetadata": {
    "base_environment": "",
    "environment_version": "2"
   },
   "inputWidgetPreferences": null,
   "language": "python",
   "notebookMetadata": {
    "mostRecentlyExecutedCommandWithImplicitDF": {
     "commandId": 6238804050856507,
     "dataframes": [
      "_sqldf"
     ]
    },
    "pythonIndentUnit": 4
   },
   "notebookName": "june 16 set-2",
   "widgets": {}
  },
  "language_info": {
   "name": "python"
  }
 },
 "nbformat": 4,
 "nbformat_minor": 0
}