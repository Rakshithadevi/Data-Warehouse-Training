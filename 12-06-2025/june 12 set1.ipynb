{
 "cells": [
  {
   "cell_type": "code",
   "execution_count": 0,
   "metadata": {
    "application/vnd.databricks.v1+cell": {
     "cellMetadata": {
      "byteLimit": 2048000,
      "rowLimit": 10000
     },
     "inputWidgets": {},
     "nuid": "e53d4ceb-dbce-468d-9b1e-5411fd7e38b9",
     "showTitle": false,
     "tableResultSettingsMap": {},
     "title": ""
    }
   },
   "outputs": [
    {
     "output_type": "stream",
     "name": "stdout",
     "output_type": "stream",
     "text": [
      "+-------+--------+--------------------------------------------------------------+------+------+\n|OrderID|Customer|Items                                                         |Region|Amount|\n+-------+--------+--------------------------------------------------------------+------+------+\n|101    |Ali     |[{Product -> Laptop, Qty -> 1}, {Product -> Mouse, Qty -> 2}] |Asia  |1200.0|\n|102    |Zara    |[{Product -> Tablet, Qty -> 1}]                               |Europe|650.0 |\n|103    |Mohan   |[{Product -> Phone, Qty -> 2}, {Product -> Charger, Qty -> 1}]|Asia  |890.0 |\n|104    |Sara    |[{Product -> Desk, Qty -> 1}]                                 |US    |450.0 |\n+-------+--------+--------------------------------------------------------------+------+------+\n\n"
     ]
    }
   ],
   "source": [
    "from pyspark.sql import Row\n",
    "from pyspark.sql.functions import explode, col, when\n",
    "data = [\n",
    "    Row(OrderID=101, Customer=\"Ali\", Items=[{\"Product\": \"Laptop\", \"Qty\": 1}, {\"Product\": \"Mouse\", \"Qty\": 2}], Region=\"Asia\", Amount=1200.0),\n",
    "    Row(OrderID=102, Customer=\"Zara\", Items=[{\"Product\": \"Tablet\", \"Qty\": 1}], Region=\"Europe\", Amount=650.0),\n",
    "    Row(OrderID=103, Customer=\"Mohan\", Items=[{\"Product\": \"Phone\", \"Qty\": 2}, {\"Product\": \"Charger\", \"Qty\": 1}], Region=\"Asia\", Amount=890.0),\n",
    "    Row(OrderID=104, Customer=\"Sara\", Items=[{\"Product\": \"Desk\", \"Qty\": 1}], Region=\"US\", Amount=450.0)\n",
    "]\n",
    "\n",
    "df_sales = spark.createDataFrame(data)\n",
    "df_sales.show(truncate=False)\n"
   ]
  },
  {
   "cell_type": "markdown",
   "metadata": {
    "application/vnd.databricks.v1+cell": {
     "cellMetadata": {},
     "inputWidgets": {},
     "nuid": "5ba9be5b-4f86-4568-ba6f-accd1db418e3",
     "showTitle": false,
     "tableResultSettingsMap": {},
     "title": ""
    }
   },
   "source": [
    "Working with JSON & Nested Fields"
   ]
  },
  {
   "cell_type": "code",
   "execution_count": 0,
   "metadata": {
    "application/vnd.databricks.v1+cell": {
     "cellMetadata": {
      "byteLimit": 2048000,
      "rowLimit": 10000
     },
     "inputWidgets": {},
     "nuid": "71ca8984-9e45-4480-bded-07181070787b",
     "showTitle": false,
     "tableResultSettingsMap": {},
     "title": ""
    }
   },
   "outputs": [
    {
     "output_type": "stream",
     "name": "stdout",
     "output_type": "stream",
     "text": [
      "+-------+--------+------+------+-------+---+\n|OrderID|Customer|Region|Amount|Product|Qty|\n+-------+--------+------+------+-------+---+\n|101    |Ali     |Asia  |1200.0|Laptop |1  |\n|101    |Ali     |Asia  |1200.0|Mouse  |2  |\n|102    |Zara    |Europe|650.0 |Tablet |1  |\n|103    |Mohan   |Asia  |890.0 |Phone  |2  |\n|103    |Mohan   |Asia  |890.0 |Charger|1  |\n|104    |Sara    |US    |450.0 |Desk   |1  |\n+-------+--------+------+------+-------+---+\n\n"
     ]
    }
   ],
   "source": [
    "df_exploded = df_sales.withColumn(\"Item\", explode(\"Items\")) \\\n",
    "    .withColumn(\"Product\", col(\"Item.Product\")) \\\n",
    "    .withColumn(\"Qty\", col(\"Item.Qty\")) \\\n",
    "    .drop(\"Items\", \"Item\")\n",
    "\n",
    "df_exploded.show(truncate=False)\n"
   ]
  },
  {
   "cell_type": "code",
   "execution_count": 0,
   "metadata": {
    "application/vnd.databricks.v1+cell": {
     "cellMetadata": {
      "byteLimit": 2048000,
      "rowLimit": 10000
     },
     "inputWidgets": {},
     "nuid": "9dfdbb40-e834-46af-b05e-7d15770f2cde",
     "showTitle": false,
     "tableResultSettingsMap": {},
     "title": ""
    }
   },
   "outputs": [
    {
     "output_type": "stream",
     "name": "stdout",
     "output_type": "stream",
     "text": [
      "+-------+--------+\n|Product|TotalQty|\n+-------+--------+\n| Laptop|       1|\n|  Mouse|       2|\n| Tablet|       1|\n|  Phone|       2|\n|Charger|       1|\n|   Desk|       1|\n+-------+--------+\n\n+------+----------+\n|Region|OrderCount|\n+------+----------+\n|  Asia|         2|\n|Europe|         1|\n|    US|         1|\n+------+----------+\n\n"
     ]
    }
   ],
   "source": [
    "from pyspark.sql.types import IntegerType\n",
    "df_exploded = df_exploded.withColumn(\"Qty\", col(\"Qty\").cast(IntegerType()))\n",
    "\n",
    "df_exploded.groupBy(\"Product\").sum(\"Qty\").withColumnRenamed(\"sum(Qty)\", \"TotalQty\").show()\n",
    "df_sales.groupBy(\"Region\").count().withColumnRenamed(\"count\", \"OrderCount\").show()\n"
   ]
  },
  {
   "cell_type": "markdown",
   "metadata": {
    "application/vnd.databricks.v1+cell": {
     "cellMetadata": {},
     "inputWidgets": {},
     "nuid": "e760f253-12e3-4d7a-b649-f0f377674f91",
     "showTitle": false,
     "tableResultSettingsMap": {},
     "title": ""
    }
   },
   "source": [
    "Using when and otherwise"
   ]
  },
  {
   "cell_type": "code",
   "execution_count": 0,
   "metadata": {
    "application/vnd.databricks.v1+cell": {
     "cellMetadata": {
      "byteLimit": 2048000,
      "rowLimit": 10000
     },
     "inputWidgets": {},
     "nuid": "1f3d6e1e-acb6-40ac-afd6-960423fc8916",
     "showTitle": false,
     "tableResultSettingsMap": {},
     "title": ""
    }
   },
   "outputs": [
    {
     "output_type": "stream",
     "name": "stdout",
     "output_type": "stream",
     "text": [
      "+-------+------+--------------+------------+\n|OrderID|Amount|HighValueOrder|ShippingZone|\n+-------+------+--------------+------------+\n|    101|1200.0|           Yes|      Zone A|\n|    102| 650.0|            No|      Zone B|\n|    103| 890.0|            No|      Zone A|\n|    104| 450.0|            No|      Zone C|\n+-------+------+--------------+------------+\n\n"
     ]
    }
   ],
   "source": [
    "df_sales = df_sales.withColumn(\n",
    "    \"HighValueOrder\",\n",
    "    when(col(\"Amount\") > 1000, \"Yes\").otherwise(\"No\")\n",
    ")\n",
    "\n",
    "df_sales = df_sales.withColumn(\n",
    "    \"ShippingZone\",\n",
    "    when(col(\"Region\") == \"Asia\", \"Zone A\")\n",
    "    .when(col(\"Region\") == \"Europe\", \"Zone B\")\n",
    "    .when(col(\"Region\") == \"US\", \"Zone C\")\n",
    "    .otherwise(\"Unknown\")\n",
    ")\n",
    "\n",
    "df_sales.select(\"OrderID\", \"Amount\", \"HighValueOrder\", \"ShippingZone\").show()\n"
   ]
  },
  {
   "cell_type": "markdown",
   "metadata": {
    "application/vnd.databricks.v1+cell": {
     "cellMetadata": {},
     "inputWidgets": {},
     "nuid": "02d189f1-44d5-4cfc-8779-3acf88bbaf09",
     "showTitle": false,
     "tableResultSettingsMap": {},
     "title": ""
    }
   },
   "source": [
    "Temporary & Permanent Views"
   ]
  },
  {
   "cell_type": "code",
   "execution_count": 0,
   "metadata": {
    "application/vnd.databricks.v1+cell": {
     "cellMetadata": {
      "byteLimit": 2048000,
      "rowLimit": 10000
     },
     "inputWidgets": {},
     "nuid": "3f4b1fde-7a7b-436a-9e51-9df00fcabc8b",
     "showTitle": false,
     "tableResultSettingsMap": {},
     "title": ""
    }
   },
   "outputs": [
    {
     "output_type": "stream",
     "name": "stdout",
     "output_type": "stream",
     "text": [
      "+------+----------+---------+\n|Region|OrderCount|AvgAmount|\n+------+----------+---------+\n|  Asia|         2|   1045.0|\n|Europe|         1|    650.0|\n|    US|         1|    450.0|\n+------+----------+---------+\n\n+-------+--------+--------------------+------+------+--------------+------------+\n|OrderID|Customer|               Items|Region|Amount|HighValueOrder|ShippingZone|\n+-------+--------+--------------------+------+------+--------------+------------+\n|    103|   Mohan|[{Product -> Phon...|  Asia| 890.0|            No|      Zone A|\n|    101|     Ali|[{Product -> Lapt...|  Asia|1200.0|           Yes|      Zone A|\n|    102|    Zara|[{Product -> Tabl...|Europe| 650.0|            No|      Zone B|\n|    104|    Sara|[{Product -> Desk...|    US| 450.0|            No|      Zone C|\n+-------+--------+--------------------+------+------+--------------+------------+\n\n"
     ]
    }
   ],
   "source": [
    "df_sales.createOrReplaceTempView(\"sales_view\")\n",
    "spark.sql(\"\"\"\n",
    "SELECT Region, COUNT(*) AS OrderCount, AVG(Amount) AS AvgAmount\n",
    "FROM sales_view\n",
    "GROUP BY Region\n",
    "\"\"\").show()\n",
    "df_sales.write.mode(\"overwrite\").saveAsTable(\"sales_permanent_view\")\n",
    "spark.sql(\"SELECT * FROM sales_permanent_view\").show()\n"
   ]
  },
  {
   "cell_type": "markdown",
   "metadata": {
    "application/vnd.databricks.v1+cell": {
     "cellMetadata": {},
     "inputWidgets": {},
     "nuid": "c7183009-42f4-4bc8-bda1-039e7dc96689",
     "showTitle": false,
     "tableResultSettingsMap": {},
     "title": ""
    }
   },
   "source": [
    "SQL Queries via Spark"
   ]
  },
  {
   "cell_type": "code",
   "execution_count": 0,
   "metadata": {
    "application/vnd.databricks.v1+cell": {
     "cellMetadata": {
      "byteLimit": 2048000,
      "rowLimit": 10000
     },
     "inputWidgets": {},
     "nuid": "18d8a0dc-88e4-4332-88c5-fa7291489e2e",
     "showTitle": false,
     "tableResultSettingsMap": {},
     "title": ""
    }
   },
   "outputs": [
    {
     "output_type": "stream",
     "name": "stdout",
     "output_type": "stream",
     "text": [
      "+-------+--------+--------------------------------------------------------------+------+------+--------------+------------+\n|OrderID|Customer|Items                                                         |Region|Amount|HighValueOrder|ShippingZone|\n+-------+--------+--------------------------------------------------------------+------+------+--------------+------------+\n|101    |Ali     |[{Product -> Laptop, Qty -> 1}, {Product -> Mouse, Qty -> 2}] |Asia  |1200.0|Yes           |Zone A      |\n|103    |Mohan   |[{Product -> Phone, Qty -> 2}, {Product -> Charger, Qty -> 1}]|Asia  |890.0 |No            |Zone A      |\n+-------+--------+--------------------------------------------------------------+------+------+--------------+------------+\n\n"
     ]
    }
   ],
   "source": [
    "spark.sql(\"\"\"\n",
    "SELECT *\n",
    "FROM sales_view\n",
    "WHERE size(Items) > 1\n",
    "\"\"\").show(truncate=False)\n"
   ]
  },
  {
   "cell_type": "code",
   "execution_count": 0,
   "metadata": {
    "application/vnd.databricks.v1+cell": {
     "cellMetadata": {
      "byteLimit": 2048000,
      "rowLimit": 10000
     },
     "inputWidgets": {},
     "nuid": "cbbdc970-1426-4c63-8c55-64acbded3fe7",
     "showTitle": false,
     "tableResultSettingsMap": {},
     "title": ""
    }
   },
   "outputs": [
    {
     "output_type": "stream",
     "name": "stdout",
     "output_type": "stream",
     "text": [
      "+--------+\n|Customer|\n+--------+\n|     Ali|\n|   Mohan|\n+--------+\n\n"
     ]
    }
   ],
   "source": [
    "spark.sql(\"\"\"\n",
    "SELECT Customer\n",
    "FROM sales_view\n",
    "WHERE Amount > 800\n",
    "\"\"\").show()\n"
   ]
  },
  {
   "cell_type": "markdown",
   "metadata": {
    "application/vnd.databricks.v1+cell": {
     "cellMetadata": {},
     "inputWidgets": {},
     "nuid": "8b76ec30-cdb8-47fb-914f-28736f6c2067",
     "showTitle": false,
     "tableResultSettingsMap": {},
     "title": ""
    }
   },
   "source": [
    "Saving as Parquet and Reading Again"
   ]
  },
  {
   "cell_type": "code",
   "execution_count": 0,
   "metadata": {
    "application/vnd.databricks.v1+cell": {
     "cellMetadata": {
      "byteLimit": 2048000,
      "rowLimit": 10000
     },
     "inputWidgets": {},
     "nuid": "c274ba69-8919-4c40-9054-ea74762a02ec",
     "showTitle": false,
     "tableResultSettingsMap": {},
     "title": ""
    }
   },
   "outputs": [
    {
     "output_type": "stream",
     "name": "stdout",
     "output_type": "stream",
     "text": [
      "+-------+--------+\n|Product|TotalQty|\n+-------+--------+\n|  Phone|       2|\n|Charger|       1|\n| Laptop|       1|\n|  Mouse|       2|\n| Tablet|       1|\n|   Desk|       1|\n+-------+--------+\n\n"
     ]
    }
   ],
   "source": [
    "\n",
    "df_exploded.write.mode(\"overwrite\").partitionBy(\"Region\").parquet(\"/dbfs/FileStore/sales_data_parquet\")\n",
    "df_loaded = spark.read.parquet(\"/dbfs/FileStore/sales_data_parquet\")\n",
    "df_loaded.groupBy(\"Product\").sum(\"Qty\").withColumnRenamed(\"sum(Qty)\", \"TotalQty\").show()\n"
   ]
  }
 ],
 "metadata": {
  "application/vnd.databricks.v1+notebook": {
   "computePreferences": null,
   "dashboards": [],
   "environmentMetadata": {
    "base_environment": "",
    "environment_version": "2"
   },
   "inputWidgetPreferences": null,
   "language": "python",
   "notebookMetadata": {
    "mostRecentlyExecutedCommandWithImplicitDF": {
     "commandId": 5906154821234137,
     "dataframes": [
      "_sqldf"
     ]
    },
    "pythonIndentUnit": 4
   },
   "notebookName": "june 12 set1",
   "widgets": {}
  },
  "language_info": {
   "name": "python"
  }
 },
 "nbformat": 4,
 "nbformat_minor": 0
}