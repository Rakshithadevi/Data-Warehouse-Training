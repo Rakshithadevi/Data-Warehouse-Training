{
  "nbformat": 4,
  "nbformat_minor": 0,
  "metadata": {
    "colab": {
      "provenance": []
    },
    "kernelspec": {
      "name": "python3",
      "display_name": "Python 3"
    },
    "language_info": {
      "name": "python"
    }
  },
  "cells": [
    {
      "cell_type": "code",
      "execution_count": 2,
      "metadata": {
        "colab": {
          "base_uri": "https://localhost:8080/",
          "height": 219
        },
        "id": "-Co_HfeLAKgm",
        "outputId": "1fa4bdb7-4698-4689-8cb3-49ad2074607f"
      },
      "outputs": [
        {
          "output_type": "execute_result",
          "data": {
            "text/plain": [
              "<pyspark.sql.session.SparkSession at 0x7d1e101bc650>"
            ],
            "text/html": [
              "\n",
              "            <div>\n",
              "                <p><b>SparkSession - in-memory</b></p>\n",
              "                \n",
              "        <div>\n",
              "            <p><b>SparkContext</b></p>\n",
              "\n",
              "            <p><a href=\"http://44835888090a:4040\">Spark UI</a></p>\n",
              "\n",
              "            <dl>\n",
              "              <dt>Version</dt>\n",
              "                <dd><code>v3.5.1</code></dd>\n",
              "              <dt>Master</dt>\n",
              "                <dd><code>local[*]</code></dd>\n",
              "              <dt>AppName</dt>\n",
              "                <dd><code>exercise</code></dd>\n",
              "            </dl>\n",
              "        </div>\n",
              "        \n",
              "            </div>\n",
              "        "
            ]
          },
          "metadata": {},
          "execution_count": 2
        }
      ],
      "source": [
        "from pyspark.sql import SparkSession\n",
        "spark=SparkSession.builder.appName(\"exercise\").getOrCreate()\n",
        "spark"
      ]
    },
    {
      "cell_type": "code",
      "source": [
        "from google.colab import drive\n",
        "drive.mount('/content/drive')\n",
        "df = spark.read.csv(\"/content/drive/MyDrive/Sales_Dataset__500_Records_.csv\", header=True, inferSchema=True)\n",
        "df.show()"
      ],
      "metadata": {
        "colab": {
          "base_uri": "https://localhost:8080/"
        },
        "id": "aDdqHqJOBOJE",
        "outputId": "db124dbb-45e4-4460-d4b0-eda0f4c2aeb4"
      },
      "execution_count": 39,
      "outputs": [
        {
          "output_type": "stream",
          "name": "stdout",
          "text": [
            "Drive already mounted at /content/drive; to attempt to forcibly remount, call drive.mount(\"/content/drive\", force_remount=True).\n",
            "+-------+------------------+---------------+------+----------+--------------+--------+-----------------+-----------+-------------+\n",
            "|OrderID|      CustomerName|ProductCategory|Amount| OrderDate|DeliveryStatus|Discount|             City|PaymentMode|CustomerSince|\n",
            "+-------+------------------+---------------+------+----------+--------------+--------+-----------------+-----------+-------------+\n",
            "|   2824|     Donald Walker|          Books|783.04|2024-12-26|      Returned|    0.15|     Lake Joyside|Credit Card|   2020-10-15|\n",
            "|   7912|      Brandon Hall|      Groceries| 905.0|2024-09-12|     Cancelled|    0.03|    New Jamesside|     Wallet|   2022-03-15|\n",
            "|   4611|      Donald Booth|        Fashion|657.96|2025-01-12|      Returned|    0.01|     Lake Roberto|     Wallet|   2021-08-07|\n",
            "|   3547|    Phillip Garcia|        Fashion|606.89|2024-03-24|      Returned|    0.15| West Melanieview|     Wallet|   2020-08-08|\n",
            "|   8527|      Valerie Gray|           Toys| 77.87|2024-08-04|     Delivered|    0.17|        Mariastad|       Cash|   2022-11-15|\n",
            "|   4150|       Amber Perez|          Books|352.37|2024-01-13|     Cancelled|    0.24|  Port Jesseville|       Cash|   2022-01-13|\n",
            "|   5554|        Roy Martin|           Toys|148.33|2024-03-04|     Cancelled|    0.27|      Lake Joseph|       Cash|   2023-04-29|\n",
            "|   2169|    Carolyn Daniel|    Electronics| 14.09|2023-10-07|     Delivered|    0.25|         Grayside|Credit Card|   2021-05-09|\n",
            "|   6313|       Patty Perez|      Groceries| 79.83|2023-06-27|     Cancelled|    0.12|      Richardland|Credit Card|   2021-04-25|\n",
            "|   6155|Jonathan Wilkerson|        Fashion|882.68|2024-10-14|     Cancelled|    0.27|       Thomasberg|       Cash|   2021-06-20|\n",
            "|   9830|       Kevin Hurst|          Books|870.55|2024-04-08|     Delivered|    0.22|      Jeffreyberg|     Wallet|   2022-08-02|\n",
            "|   9085| Anthony Rodriguez|      Groceries|921.73|2024-10-02|     Cancelled|    0.03|        Port Erin|        UPI|   2022-12-15|\n",
            "|   2040|     Kyle Mcdonald|           Toys|327.52|2023-12-15|      Returned|    0.06|Lake Jenniferside|     Wallet|   2021-07-21|\n",
            "|   6573|    Jeffrey Chavez|          Books|676.02|2024-12-14|     Cancelled|    0.19|      Teresaburgh|     Wallet|   2022-07-30|\n",
            "|   2743|  Elizabeth Fowler|    Electronics| 47.06|2024-09-18|     Delivered|    0.13|   East Nathaniel|       Cash|   2021-02-07|\n",
            "|   9837|     Tammy Sellers|          Books| 46.15|2024-09-10|     Cancelled|    0.05|       Tracyville|        UPI|   2021-12-17|\n",
            "|   6038|     David Bradley|        Fashion|348.51|2023-08-03|      Returned|    0.23|    Lake Toddland|        UPI|   2022-09-07|\n",
            "|   3060|       John Pierce|           Toys|362.09|2023-12-25|      Returned|    0.03|       Brandtside|       Cash|   2023-05-09|\n",
            "|   4295|   Jennifer Powers|    Electronics|684.26|2024-03-19|     Cancelled|    0.21|         Lammouth|        UPI|   2020-12-06|\n",
            "|   5061|    George Chapman|    Electronics|251.89|2023-11-28|       Pending|    0.27|       North Chad|       Cash|   2023-02-07|\n",
            "+-------+------------------+---------------+------+----------+--------------+--------+-----------------+-----------+-------------+\n",
            "only showing top 20 rows\n",
            "\n"
          ]
        }
      ]
    },
    {
      "cell_type": "markdown",
      "source": [
        "1. DataFrame Creation and Inspection"
      ],
      "metadata": {
        "id": "a-ACbkpNCcsE"
      }
    },
    {
      "cell_type": "code",
      "source": [
        "df.tail(5)"
      ],
      "metadata": {
        "colab": {
          "base_uri": "https://localhost:8080/"
        },
        "id": "laDxGf_LBOMH",
        "outputId": "7bad2b64-ac4b-4ae9-a0c7-9dd6a4316ac0"
      },
      "execution_count": 10,
      "outputs": [
        {
          "output_type": "execute_result",
          "data": {
            "text/plain": [
              "[Row(OrderID=2930, CustomerName='Jaime Harris', ProductCategory='Fashion', Amount=680.0, OrderDate=datetime.date(2025, 2, 16), DeliveryStatus='Returned', Discount=0.2, City='Robertville', PaymentMode='Cash', CustomerSince=datetime.date(2021, 1, 28)),\n",
              " Row(OrderID=7980, CustomerName='Dawn Wyatt', ProductCategory='Fashion', Amount=285.32, OrderDate=datetime.date(2024, 4, 26), DeliveryStatus='Cancelled', Discount=0.06, City='Cherylfurt', PaymentMode='UPI', CustomerSince=datetime.date(2021, 4, 14)),\n",
              " Row(OrderID=7770, CustomerName='Kristin White', ProductCategory='Groceries', Amount=792.11, OrderDate=datetime.date(2024, 8, 10), DeliveryStatus='Returned', Discount=0.07, City='Kingport', PaymentMode='UPI', CustomerSince=datetime.date(2022, 11, 16)),\n",
              " Row(OrderID=6641, CustomerName='Jennifer Taylor', ProductCategory='Toys', Amount=578.49, OrderDate=datetime.date(2025, 4, 3), DeliveryStatus='Delivered', Discount=0.1, City='Lake Jerryburgh', PaymentMode='Cash', CustomerSince=datetime.date(2020, 11, 4)),\n",
              " Row(OrderID=4513, CustomerName='Rachel Owen', ProductCategory='Electronics', Amount=904.97, OrderDate=datetime.date(2024, 9, 21), DeliveryStatus='Delivered', Discount=0.12, City='East Paultown', PaymentMode='Cash', CustomerSince=datetime.date(2020, 10, 21))]"
            ]
          },
          "metadata": {},
          "execution_count": 10
        }
      ]
    },
    {
      "cell_type": "code",
      "source": [
        "df.show(-5)"
      ],
      "metadata": {
        "colab": {
          "base_uri": "https://localhost:8080/"
        },
        "id": "FyqztkewBOPO",
        "outputId": "fda96e68-29f7-496e-f056-9a000e85e0b6"
      },
      "execution_count": 22,
      "outputs": [
        {
          "output_type": "stream",
          "name": "stdout",
          "text": [
            "+-------+------------+---------------+-----------+---------+--------------+--------+----+-----------+-----------+\n",
            "|OrderID|CustomerName|ProductCategory|OrderAmount|OrderDate|DeliveryStatus|Discount|City|PaymentMode|FinalAmount|\n",
            "+-------+------------+---------------+-----------+---------+--------------+--------+----+-----------+-----------+\n",
            "+-------+------------+---------------+-----------+---------+--------------+--------+----+-----------+-----------+\n",
            "only showing top 0 rows\n",
            "\n"
          ]
        }
      ]
    },
    {
      "cell_type": "code",
      "source": [
        "df.printSchema()\n",
        "df.dtypes"
      ],
      "metadata": {
        "colab": {
          "base_uri": "https://localhost:8080/"
        },
        "id": "VLDPzvx0BOR7",
        "outputId": "06f08f9a-22f4-46bf-caa2-77fe2fe0c985"
      },
      "execution_count": 9,
      "outputs": [
        {
          "output_type": "stream",
          "name": "stdout",
          "text": [
            "root\n",
            " |-- OrderID: integer (nullable = true)\n",
            " |-- CustomerName: string (nullable = true)\n",
            " |-- ProductCategory: string (nullable = true)\n",
            " |-- Amount: double (nullable = true)\n",
            " |-- OrderDate: date (nullable = true)\n",
            " |-- DeliveryStatus: string (nullable = true)\n",
            " |-- Discount: double (nullable = true)\n",
            " |-- City: string (nullable = true)\n",
            " |-- PaymentMode: string (nullable = true)\n",
            " |-- CustomerSince: date (nullable = true)\n",
            "\n"
          ]
        },
        {
          "output_type": "execute_result",
          "data": {
            "text/plain": [
              "[('OrderID', 'int'),\n",
              " ('CustomerName', 'string'),\n",
              " ('ProductCategory', 'string'),\n",
              " ('Amount', 'double'),\n",
              " ('OrderDate', 'date'),\n",
              " ('DeliveryStatus', 'string'),\n",
              " ('Discount', 'double'),\n",
              " ('City', 'string'),\n",
              " ('PaymentMode', 'string'),\n",
              " ('CustomerSince', 'date')]"
            ]
          },
          "metadata": {},
          "execution_count": 9
        }
      ]
    },
    {
      "cell_type": "markdown",
      "source": [
        "2.Selection, Renaming, and Filtering"
      ],
      "metadata": {
        "id": "xomBu0ujDBX_"
      }
    },
    {
      "cell_type": "code",
      "source": [
        "df.select(\"OrderID\", \"CustomerName\", \"Amount\").show()\n"
      ],
      "metadata": {
        "colab": {
          "base_uri": "https://localhost:8080/"
        },
        "id": "ckGO6O2gBOXn",
        "outputId": "44c0ba82-30d5-4e5c-f4af-3624a098eda8"
      },
      "execution_count": 11,
      "outputs": [
        {
          "output_type": "stream",
          "name": "stdout",
          "text": [
            "+-------+------------------+------+\n",
            "|OrderID|      CustomerName|Amount|\n",
            "+-------+------------------+------+\n",
            "|   2824|     Donald Walker|783.04|\n",
            "|   7912|      Brandon Hall| 905.0|\n",
            "|   4611|      Donald Booth|657.96|\n",
            "|   3547|    Phillip Garcia|606.89|\n",
            "|   8527|      Valerie Gray| 77.87|\n",
            "|   4150|       Amber Perez|352.37|\n",
            "|   5554|        Roy Martin|148.33|\n",
            "|   2169|    Carolyn Daniel| 14.09|\n",
            "|   6313|       Patty Perez| 79.83|\n",
            "|   6155|Jonathan Wilkerson|882.68|\n",
            "|   9830|       Kevin Hurst|870.55|\n",
            "|   9085| Anthony Rodriguez|921.73|\n",
            "|   2040|     Kyle Mcdonald|327.52|\n",
            "|   6573|    Jeffrey Chavez|676.02|\n",
            "|   2743|  Elizabeth Fowler| 47.06|\n",
            "|   9837|     Tammy Sellers| 46.15|\n",
            "|   6038|     David Bradley|348.51|\n",
            "|   3060|       John Pierce|362.09|\n",
            "|   4295|   Jennifer Powers|684.26|\n",
            "|   5061|    George Chapman|251.89|\n",
            "+-------+------------------+------+\n",
            "only showing top 20 rows\n",
            "\n"
          ]
        }
      ]
    },
    {
      "cell_type": "code",
      "source": [
        "df = df.withColumnRenamed(\"Amount\", \"OrderAmount\")\n"
      ],
      "metadata": {
        "id": "xQ1DB-5NBOae"
      },
      "execution_count": 12,
      "outputs": []
    },
    {
      "cell_type": "code",
      "source": [
        "from pyspark.sql.functions import col\n",
        "df.filter(col(\"OrderAmount\") > 500).show()"
      ],
      "metadata": {
        "colab": {
          "base_uri": "https://localhost:8080/"
        },
        "id": "092QJO3cBOdk",
        "outputId": "977ec2ca-5fb1-4fd6-9945-e0710227cb11"
      },
      "execution_count": 14,
      "outputs": [
        {
          "output_type": "stream",
          "name": "stdout",
          "text": [
            "+-------+------------------+---------------+-----------+----------+--------------+--------+-----------------+-----------+-------------+\n",
            "|OrderID|      CustomerName|ProductCategory|OrderAmount| OrderDate|DeliveryStatus|Discount|             City|PaymentMode|CustomerSince|\n",
            "+-------+------------------+---------------+-----------+----------+--------------+--------+-----------------+-----------+-------------+\n",
            "|   2824|     Donald Walker|          Books|     783.04|2024-12-26|      Returned|    0.15|     Lake Joyside|Credit Card|   2020-10-15|\n",
            "|   7912|      Brandon Hall|      Groceries|      905.0|2024-09-12|     Cancelled|    0.03|    New Jamesside|     Wallet|   2022-03-15|\n",
            "|   4611|      Donald Booth|        Fashion|     657.96|2025-01-12|      Returned|    0.01|     Lake Roberto|     Wallet|   2021-08-07|\n",
            "|   3547|    Phillip Garcia|        Fashion|     606.89|2024-03-24|      Returned|    0.15| West Melanieview|     Wallet|   2020-08-08|\n",
            "|   6155|Jonathan Wilkerson|        Fashion|     882.68|2024-10-14|     Cancelled|    0.27|       Thomasberg|       Cash|   2021-06-20|\n",
            "|   9830|       Kevin Hurst|          Books|     870.55|2024-04-08|     Delivered|    0.22|      Jeffreyberg|     Wallet|   2022-08-02|\n",
            "|   9085| Anthony Rodriguez|      Groceries|     921.73|2024-10-02|     Cancelled|    0.03|        Port Erin|        UPI|   2022-12-15|\n",
            "|   6573|    Jeffrey Chavez|          Books|     676.02|2024-12-14|     Cancelled|    0.19|      Teresaburgh|     Wallet|   2022-07-30|\n",
            "|   4295|   Jennifer Powers|    Electronics|     684.26|2024-03-19|     Cancelled|    0.21|         Lammouth|        UPI|   2020-12-06|\n",
            "|   1964|      Taylor Heath|           Toys|      578.5|2023-07-28|     Cancelled|    0.01|   West Elizabeth|       Cash|   2021-04-30|\n",
            "|   9834|    Timothy Duncan|    Electronics|     944.55|2024-06-04|     Cancelled|    0.07|      Port Thomas|     Wallet|   2022-02-24|\n",
            "|   3296|     Donald Wright|        Fashion|     579.99|2025-05-20|     Cancelled|    0.25|South Lindseyside|     Wallet|   2020-11-01|\n",
            "|   4502|  Stephanie Martin|    Electronics|     656.32|2023-06-04|       Pending|     0.2|       Bakermouth|Credit Card|   2021-08-19|\n",
            "|   1931|      Angela Lopez|    Electronics|     686.21|2024-09-07|     Cancelled|    0.17|Lake Michellefurt|        UPI|   2020-12-05|\n",
            "|   5033|     Amanda Miller|           Toys|     552.76|2024-10-25|       Pending|    0.21|     Sarahborough|     Wallet|   2023-04-08|\n",
            "|   6147|      James Powers|           Toys|     561.91|2024-01-22|     Cancelled|    0.05|      Stewartland|Credit Card|   2020-06-16|\n",
            "|   2127|      Jaclyn Moore|      Groceries|     933.32|2025-03-11|      Returned|    0.01|      Cherylhaven|       Cash|   2020-06-14|\n",
            "|   5905|   Ashley Humphrey|          Books|     844.87|2023-12-25|       Pending|    0.28|  North Juliaberg|       Cash|   2021-07-30|\n",
            "|   2512|   Sandra Williams|           Toys|     630.21|2024-02-17|       Pending|    0.08|        Lake Tina|        UPI|   2021-02-08|\n",
            "|   8239|     Jessica Smith|          Books|     610.08|2023-07-31|     Delivered|    0.09|        New Barry|        UPI|   2021-12-27|\n",
            "+-------+------------------+---------------+-----------+----------+--------------+--------+-----------------+-----------+-------------+\n",
            "only showing top 20 rows\n",
            "\n"
          ]
        }
      ]
    },
    {
      "cell_type": "code",
      "source": [
        "df.filter(col(\"City\") == \"New York\").show()"
      ],
      "metadata": {
        "colab": {
          "base_uri": "https://localhost:8080/"
        },
        "id": "GFhaxPeqBOhC",
        "outputId": "d9bb0134-9427-4b04-ccc0-c02d7f9a0bce"
      },
      "execution_count": 17,
      "outputs": [
        {
          "output_type": "stream",
          "name": "stdout",
          "text": [
            "+-------+------------+---------------+-----------+---------+--------------+--------+----+-----------+-------------+\n",
            "|OrderID|CustomerName|ProductCategory|OrderAmount|OrderDate|DeliveryStatus|Discount|City|PaymentMode|CustomerSince|\n",
            "+-------+------------+---------------+-----------+---------+--------------+--------+----+-----------+-------------+\n",
            "+-------+------------+---------------+-----------+---------+--------------+--------+----+-----------+-------------+\n",
            "\n"
          ]
        }
      ]
    },
    {
      "cell_type": "markdown",
      "source": [
        "3. Data Manipulation"
      ],
      "metadata": {
        "id": "xco13f39Dxd4"
      }
    },
    {
      "cell_type": "code",
      "source": [
        "df = df.drop(\"CustomerSince\")"
      ],
      "metadata": {
        "id": "ymnkVGzSDvcB"
      },
      "execution_count": 18,
      "outputs": []
    },
    {
      "cell_type": "code",
      "source": [
        "df = df.withColumn(\"FinalAmount\", col(\"OrderAmount\") - (col(\"OrderAmount\") * col(\"Discount\")))"
      ],
      "metadata": {
        "id": "VkOTqAsfDvhO"
      },
      "execution_count": 19,
      "outputs": []
    },
    {
      "cell_type": "code",
      "source": [
        "df.orderBy(col(\"FinalAmount\").desc()).show()"
      ],
      "metadata": {
        "colab": {
          "base_uri": "https://localhost:8080/"
        },
        "id": "aONtbbcFDvj9",
        "outputId": "1bb3323f-e289-4830-cfec-8e1225f5ce2e"
      },
      "execution_count": 20,
      "outputs": [
        {
          "output_type": "stream",
          "name": "stdout",
          "text": [
            "+-------+-----------------+---------------+-----------+----------+--------------+--------+-----------------+-----------+-----------------+\n",
            "|OrderID|     CustomerName|ProductCategory|OrderAmount| OrderDate|DeliveryStatus|Discount|             City|PaymentMode|      FinalAmount|\n",
            "+-------+-----------------+---------------+-----------+----------+--------------+--------+-----------------+-----------+-----------------+\n",
            "|   5573|   Jordan Frazier|          Books|     981.05|2025-03-19|     Cancelled|    0.02|      Sheilaville|       Cash|          961.429|\n",
            "|   8474|      Heidi Brown|    Electronics|     968.91|2023-11-23|     Cancelled|    0.02|       Riverafort|       Cash|         949.5318|\n",
            "|   8889|      Karen Garza|          Books|      998.3|2024-10-17|     Cancelled|    0.06|       Johnsonton|Credit Card|938.4019999999999|\n",
            "|   2127|     Jaclyn Moore|      Groceries|     933.32|2025-03-11|      Returned|    0.01|      Cherylhaven|       Cash|         923.9868|\n",
            "|   9806|    Samantha Gill|      Groceries|     993.17|2024-11-12|     Cancelled|    0.07|     New Seanstad|     Wallet|         923.6481|\n",
            "|   5593|   Kristy Johnson|        Fashion|     961.35|2025-05-24|      Returned|    0.05|    Alexisborough|       Cash|         913.2825|\n",
            "|   2120| Alejandra Santos|    Electronics|     948.84|2024-05-09|      Returned|    0.04|     Jenniferberg|     Wallet|         910.8864|\n",
            "|   5949|Dr. Michael Evans|           Toys|     918.14|2023-07-29|       Pending|    0.01|   East Scottfort|     Wallet|908.9585999999999|\n",
            "|   1422|    Hunter Kramer|          Books|      973.2|2024-09-02|      Returned|    0.07|       Alfredview|       Cash|          905.076|\n",
            "|   2904|   Michelle Burns|        Fashion|     922.29|2025-05-01|      Returned|    0.02|      Stokesmouth|Credit Card|         903.8442|\n",
            "|   7566|    Jesus Houston|        Fashion|     899.31|2024-11-19|     Delivered|     0.0|       Marshburgh|Credit Card|           899.31|\n",
            "|   7511|      Regina Diaz|           Toys|     932.21|2025-02-06|     Cancelled|    0.04|        Smithside|       Cash|         894.9216|\n",
            "|   9085|Anthony Rodriguez|      Groceries|     921.73|2024-10-02|     Cancelled|    0.03|        Port Erin|        UPI|894.0781000000001|\n",
            "|   1436|     James Brooks|      Groceries|     978.96|2024-03-28|     Cancelled|    0.09|West Jeffreymouth|Credit Card|         890.8536|\n",
            "|   6008|  Brittany Knight|          Books|     903.71|2025-02-19|       Pending|    0.02|       Susanburgh|       Cash|         885.6358|\n",
            "|   9834|   Timothy Duncan|    Electronics|     944.55|2024-06-04|     Cancelled|    0.07|      Port Thomas|     Wallet|878.4314999999999|\n",
            "|   8253|  Kevin Patterson|          Books|     998.21|2024-08-17|     Cancelled|    0.12|   New Susanville|        UPI|         878.4248|\n",
            "|   7912|     Brandon Hall|      Groceries|      905.0|2024-09-12|     Cancelled|    0.03|    New Jamesside|     Wallet|           877.85|\n",
            "|   1654|   Frank Williams|          Books|     903.78|2025-05-27|     Cancelled|    0.03|       Tracyshire|     Wallet|         876.6666|\n",
            "|   9239|    Tracy Montoya|    Electronics|     897.41|2025-02-14|     Cancelled|    0.04|        Port John|     Wallet|         861.5136|\n",
            "+-------+-----------------+---------------+-----------+----------+--------------+--------+-----------------+-----------+-----------------+\n",
            "only showing top 20 rows\n",
            "\n"
          ]
        }
      ]
    },
    {
      "cell_type": "code",
      "source": [
        "from pyspark.sql.functions import expr\n",
        "df = df.replace(\"Cancelled\", \"Order Cancelled\", subset=[\"DeliveryStatus\"])\n",
        "df.select(\"DeliveryStatus\").distinct().show()"
      ],
      "metadata": {
        "colab": {
          "base_uri": "https://localhost:8080/"
        },
        "id": "3kRmwQOqDvnE",
        "outputId": "e5592ad3-4a07-4ced-8cf9-61aa41241e45"
      },
      "execution_count": 26,
      "outputs": [
        {
          "output_type": "stream",
          "name": "stdout",
          "text": [
            "+---------------+\n",
            "| DeliveryStatus|\n",
            "+---------------+\n",
            "|       Returned|\n",
            "|      Delivered|\n",
            "|Order Cancelled|\n",
            "|        Pending|\n",
            "+---------------+\n",
            "\n"
          ]
        }
      ]
    },
    {
      "cell_type": "markdown",
      "source": [
        "4. Aggregations and GroupBy"
      ],
      "metadata": {
        "id": "s4Kehyc_E8PB"
      }
    },
    {
      "cell_type": "code",
      "source": [
        "df.groupBy(\"DeliveryStatus\").count().show()"
      ],
      "metadata": {
        "colab": {
          "base_uri": "https://localhost:8080/"
        },
        "id": "H9BvGs8LDvqZ",
        "outputId": "d31601d8-5c3b-4b4f-9b52-f75f0883af62"
      },
      "execution_count": 27,
      "outputs": [
        {
          "output_type": "stream",
          "name": "stdout",
          "text": [
            "+---------------+-----+\n",
            "| DeliveryStatus|count|\n",
            "+---------------+-----+\n",
            "|       Returned|  117|\n",
            "|      Delivered|  119|\n",
            "|Order Cancelled|  149|\n",
            "|        Pending|  115|\n",
            "+---------------+-----+\n",
            "\n"
          ]
        }
      ]
    },
    {
      "cell_type": "code",
      "source": [
        "from pyspark.sql.functions import avg\n",
        "df.groupBy(\"ProductCategory\").agg(avg(\"OrderAmount\").alias(\"AvgAmount\")).show()\n"
      ],
      "metadata": {
        "colab": {
          "base_uri": "https://localhost:8080/"
        },
        "id": "T8zcwnL7Dvtw",
        "outputId": "221c8755-37b9-4e1c-df8c-9fa21c86a07c"
      },
      "execution_count": 28,
      "outputs": [
        {
          "output_type": "stream",
          "name": "stdout",
          "text": [
            "+---------------+------------------+\n",
            "|ProductCategory|         AvgAmount|\n",
            "+---------------+------------------+\n",
            "|        Fashion| 500.6308235294116|\n",
            "|      Groceries|459.51786407766957|\n",
            "|    Electronics|           551.745|\n",
            "|          Books| 568.6003773584907|\n",
            "|           Toys| 534.2837499999999|\n",
            "+---------------+------------------+\n",
            "\n"
          ]
        }
      ]
    },
    {
      "cell_type": "code",
      "source": [
        "from pyspark.sql.functions import sum\n",
        "df.groupBy(\"City\").agg(sum(\"FinalAmount\").alias(\"TotalSales\")).show()"
      ],
      "metadata": {
        "colab": {
          "base_uri": "https://localhost:8080/"
        },
        "id": "C6uEhdc5Dvwd",
        "outputId": "013fdd3e-f72b-4086-86d0-3d0736e9e1f5"
      },
      "execution_count": 29,
      "outputs": [
        {
          "output_type": "stream",
          "name": "stdout",
          "text": [
            "+----------------+------------------+\n",
            "|            City|        TotalSales|\n",
            "+----------------+------------------+\n",
            "|     Ramseymouth| 738.2281999999999|\n",
            "|East Edwardshire|230.09539999999998|\n",
            "|      Thomasberg| 644.3563999999999|\n",
            "|     Laurenville|          321.9384|\n",
            "| South Colinstad|           629.016|\n",
            "|    Lake Douglas|           780.072|\n",
            "|   Williamsmouth|            9.8098|\n",
            "|      Gordonport|          381.0926|\n",
            "|  West Dawnmouth|            10.496|\n",
            "|        Seanbury|          627.0803|\n",
            "|     Sheilaville|           961.429|\n",
            "|       Mollybury|            222.02|\n",
            "|       Lisaville|43.405499999999996|\n",
            "| Lake Jerrymouth|          395.9298|\n",
            "|       Perezfort|            734.04|\n",
            "|Port Nicoleshire|111.03739999999999|\n",
            "|  South Samantha|          169.8004|\n",
            "|     Port Willie|          780.2487|\n",
            "|     Waltersfort|           386.967|\n",
            "|       Youngbury|           268.524|\n",
            "+----------------+------------------+\n",
            "only showing top 20 rows\n",
            "\n"
          ]
        }
      ]
    },
    {
      "cell_type": "markdown",
      "source": [
        " 5. Null Handling & Conditional Tagging"
      ],
      "metadata": {
        "id": "ZOoR2WB0FNVb"
      }
    },
    {
      "cell_type": "code",
      "source": [
        "from pyspark.sql.functions import when\n",
        "from pyspark.sql.functions import lit\n",
        "df_with_nulls = df.withColumn(\"City\", when(col(\"City\") == \"New York\", lit(None)).otherwise(col(\"City\")))\n"
      ],
      "metadata": {
        "id": "XTicqZvhDvz5"
      },
      "execution_count": 31,
      "outputs": []
    },
    {
      "cell_type": "code",
      "source": [
        "df_with_nulls.fillna({\"City\": \"Unknown\"}).show()\n",
        "df_with_nulls.dropna(subset=[\"City\"]).show()"
      ],
      "metadata": {
        "colab": {
          "base_uri": "https://localhost:8080/"
        },
        "id": "FX-DLiF_FXTI",
        "outputId": "0bd77532-db6a-4074-daa8-8210bfb56c2a"
      },
      "execution_count": 32,
      "outputs": [
        {
          "output_type": "stream",
          "name": "stdout",
          "text": [
            "+-------+------------------+---------------+-----------+----------+---------------+--------+-----------------+-----------+------------------+\n",
            "|OrderID|      CustomerName|ProductCategory|OrderAmount| OrderDate| DeliveryStatus|Discount|             City|PaymentMode|       FinalAmount|\n",
            "+-------+------------------+---------------+-----------+----------+---------------+--------+-----------------+-----------+------------------+\n",
            "|   2824|     Donald Walker|          Books|     783.04|2024-12-26|       Returned|    0.15|     Lake Joyside|Credit Card|           665.584|\n",
            "|   7912|      Brandon Hall|      Groceries|      905.0|2024-09-12|Order Cancelled|    0.03|    New Jamesside|     Wallet|            877.85|\n",
            "|   4611|      Donald Booth|        Fashion|     657.96|2025-01-12|       Returned|    0.01|     Lake Roberto|     Wallet|          651.3804|\n",
            "|   3547|    Phillip Garcia|        Fashion|     606.89|2024-03-24|       Returned|    0.15| West Melanieview|     Wallet|          515.8565|\n",
            "|   8527|      Valerie Gray|           Toys|      77.87|2024-08-04|      Delivered|    0.17|        Mariastad|       Cash| 64.63210000000001|\n",
            "|   4150|       Amber Perez|          Books|     352.37|2024-01-13|Order Cancelled|    0.24|  Port Jesseville|       Cash|          267.8012|\n",
            "|   5554|        Roy Martin|           Toys|     148.33|2024-03-04|Order Cancelled|    0.27|      Lake Joseph|       Cash|          108.2809|\n",
            "|   2169|    Carolyn Daniel|    Electronics|      14.09|2023-10-07|      Delivered|    0.25|         Grayside|Credit Card|10.567499999999999|\n",
            "|   6313|       Patty Perez|      Groceries|      79.83|2023-06-27|Order Cancelled|    0.12|      Richardland|Credit Card|           70.2504|\n",
            "|   6155|Jonathan Wilkerson|        Fashion|     882.68|2024-10-14|Order Cancelled|    0.27|       Thomasberg|       Cash| 644.3563999999999|\n",
            "|   9830|       Kevin Hurst|          Books|     870.55|2024-04-08|      Delivered|    0.22|      Jeffreyberg|     Wallet|           679.029|\n",
            "|   9085| Anthony Rodriguez|      Groceries|     921.73|2024-10-02|Order Cancelled|    0.03|        Port Erin|        UPI| 894.0781000000001|\n",
            "|   2040|     Kyle Mcdonald|           Toys|     327.52|2023-12-15|       Returned|    0.06|Lake Jenniferside|     Wallet|307.86879999999996|\n",
            "|   6573|    Jeffrey Chavez|          Books|     676.02|2024-12-14|Order Cancelled|    0.19|      Teresaburgh|     Wallet|          547.5762|\n",
            "|   2743|  Elizabeth Fowler|    Electronics|      47.06|2024-09-18|      Delivered|    0.13|   East Nathaniel|       Cash|           40.9422|\n",
            "|   9837|     Tammy Sellers|          Books|      46.15|2024-09-10|Order Cancelled|    0.05|       Tracyville|        UPI|           43.8425|\n",
            "|   6038|     David Bradley|        Fashion|     348.51|2023-08-03|       Returned|    0.23|    Lake Toddland|        UPI|268.35269999999997|\n",
            "|   3060|       John Pierce|           Toys|     362.09|2023-12-25|       Returned|    0.03|       Brandtside|       Cash|351.22729999999996|\n",
            "|   4295|   Jennifer Powers|    Electronics|     684.26|2024-03-19|Order Cancelled|    0.21|         Lammouth|        UPI|          540.5654|\n",
            "|   5061|    George Chapman|    Electronics|     251.89|2023-11-28|        Pending|    0.27|       North Chad|       Cash|183.87969999999999|\n",
            "+-------+------------------+---------------+-----------+----------+---------------+--------+-----------------+-----------+------------------+\n",
            "only showing top 20 rows\n",
            "\n",
            "+-------+------------------+---------------+-----------+----------+---------------+--------+-----------------+-----------+------------------+\n",
            "|OrderID|      CustomerName|ProductCategory|OrderAmount| OrderDate| DeliveryStatus|Discount|             City|PaymentMode|       FinalAmount|\n",
            "+-------+------------------+---------------+-----------+----------+---------------+--------+-----------------+-----------+------------------+\n",
            "|   2824|     Donald Walker|          Books|     783.04|2024-12-26|       Returned|    0.15|     Lake Joyside|Credit Card|           665.584|\n",
            "|   7912|      Brandon Hall|      Groceries|      905.0|2024-09-12|Order Cancelled|    0.03|    New Jamesside|     Wallet|            877.85|\n",
            "|   4611|      Donald Booth|        Fashion|     657.96|2025-01-12|       Returned|    0.01|     Lake Roberto|     Wallet|          651.3804|\n",
            "|   3547|    Phillip Garcia|        Fashion|     606.89|2024-03-24|       Returned|    0.15| West Melanieview|     Wallet|          515.8565|\n",
            "|   8527|      Valerie Gray|           Toys|      77.87|2024-08-04|      Delivered|    0.17|        Mariastad|       Cash| 64.63210000000001|\n",
            "|   4150|       Amber Perez|          Books|     352.37|2024-01-13|Order Cancelled|    0.24|  Port Jesseville|       Cash|          267.8012|\n",
            "|   5554|        Roy Martin|           Toys|     148.33|2024-03-04|Order Cancelled|    0.27|      Lake Joseph|       Cash|          108.2809|\n",
            "|   2169|    Carolyn Daniel|    Electronics|      14.09|2023-10-07|      Delivered|    0.25|         Grayside|Credit Card|10.567499999999999|\n",
            "|   6313|       Patty Perez|      Groceries|      79.83|2023-06-27|Order Cancelled|    0.12|      Richardland|Credit Card|           70.2504|\n",
            "|   6155|Jonathan Wilkerson|        Fashion|     882.68|2024-10-14|Order Cancelled|    0.27|       Thomasberg|       Cash| 644.3563999999999|\n",
            "|   9830|       Kevin Hurst|          Books|     870.55|2024-04-08|      Delivered|    0.22|      Jeffreyberg|     Wallet|           679.029|\n",
            "|   9085| Anthony Rodriguez|      Groceries|     921.73|2024-10-02|Order Cancelled|    0.03|        Port Erin|        UPI| 894.0781000000001|\n",
            "|   2040|     Kyle Mcdonald|           Toys|     327.52|2023-12-15|       Returned|    0.06|Lake Jenniferside|     Wallet|307.86879999999996|\n",
            "|   6573|    Jeffrey Chavez|          Books|     676.02|2024-12-14|Order Cancelled|    0.19|      Teresaburgh|     Wallet|          547.5762|\n",
            "|   2743|  Elizabeth Fowler|    Electronics|      47.06|2024-09-18|      Delivered|    0.13|   East Nathaniel|       Cash|           40.9422|\n",
            "|   9837|     Tammy Sellers|          Books|      46.15|2024-09-10|Order Cancelled|    0.05|       Tracyville|        UPI|           43.8425|\n",
            "|   6038|     David Bradley|        Fashion|     348.51|2023-08-03|       Returned|    0.23|    Lake Toddland|        UPI|268.35269999999997|\n",
            "|   3060|       John Pierce|           Toys|     362.09|2023-12-25|       Returned|    0.03|       Brandtside|       Cash|351.22729999999996|\n",
            "|   4295|   Jennifer Powers|    Electronics|     684.26|2024-03-19|Order Cancelled|    0.21|         Lammouth|        UPI|          540.5654|\n",
            "|   5061|    George Chapman|    Electronics|     251.89|2023-11-28|        Pending|    0.27|       North Chad|       Cash|183.87969999999999|\n",
            "+-------+------------------+---------------+-----------+----------+---------------+--------+-----------------+-----------+------------------+\n",
            "only showing top 20 rows\n",
            "\n"
          ]
        }
      ]
    },
    {
      "cell_type": "code",
      "source": [
        "df = df.withColumn(\"HighValue\", when(col(\"OrderAmount\") > 800, \"Yes\").otherwise(\"No\"))\n",
        "df.select(\"CustomerName\", \"OrderAmount\", \"HighValue\").show()"
      ],
      "metadata": {
        "colab": {
          "base_uri": "https://localhost:8080/"
        },
        "id": "ETw1l2uxFXYa",
        "outputId": "dd5a1605-14b1-4c01-f37f-a4f0ad2ef891"
      },
      "execution_count": 33,
      "outputs": [
        {
          "output_type": "stream",
          "name": "stdout",
          "text": [
            "+------------------+-----------+---------+\n",
            "|      CustomerName|OrderAmount|HighValue|\n",
            "+------------------+-----------+---------+\n",
            "|     Donald Walker|     783.04|       No|\n",
            "|      Brandon Hall|      905.0|      Yes|\n",
            "|      Donald Booth|     657.96|       No|\n",
            "|    Phillip Garcia|     606.89|       No|\n",
            "|      Valerie Gray|      77.87|       No|\n",
            "|       Amber Perez|     352.37|       No|\n",
            "|        Roy Martin|     148.33|       No|\n",
            "|    Carolyn Daniel|      14.09|       No|\n",
            "|       Patty Perez|      79.83|       No|\n",
            "|Jonathan Wilkerson|     882.68|      Yes|\n",
            "|       Kevin Hurst|     870.55|      Yes|\n",
            "| Anthony Rodriguez|     921.73|      Yes|\n",
            "|     Kyle Mcdonald|     327.52|       No|\n",
            "|    Jeffrey Chavez|     676.02|       No|\n",
            "|  Elizabeth Fowler|      47.06|       No|\n",
            "|     Tammy Sellers|      46.15|       No|\n",
            "|     David Bradley|     348.51|       No|\n",
            "|       John Pierce|     362.09|       No|\n",
            "|   Jennifer Powers|     684.26|       No|\n",
            "|    George Chapman|     251.89|       No|\n",
            "+------------------+-----------+---------+\n",
            "only showing top 20 rows\n",
            "\n"
          ]
        }
      ]
    },
    {
      "cell_type": "markdown",
      "source": [
        "6. Date & Time Functions"
      ],
      "metadata": {
        "id": "e_dv0yzZGSRs"
      }
    },
    {
      "cell_type": "code",
      "source": [
        "from pyspark.sql.functions import year, month, current_date, datediff\n",
        "df.select(\"OrderDate\", year(\"OrderDate\").alias(\"Year\"), month(\"OrderDate\").alias(\"Month\")).show()\n"
      ],
      "metadata": {
        "colab": {
          "base_uri": "https://localhost:8080/"
        },
        "id": "YacEZ3xfFXbv",
        "outputId": "95f675c7-4fd5-4b9b-c467-48cfbc75b8f0"
      },
      "execution_count": 34,
      "outputs": [
        {
          "output_type": "stream",
          "name": "stdout",
          "text": [
            "+----------+----+-----+\n",
            "| OrderDate|Year|Month|\n",
            "+----------+----+-----+\n",
            "|2024-12-26|2024|   12|\n",
            "|2024-09-12|2024|    9|\n",
            "|2025-01-12|2025|    1|\n",
            "|2024-03-24|2024|    3|\n",
            "|2024-08-04|2024|    8|\n",
            "|2024-01-13|2024|    1|\n",
            "|2024-03-04|2024|    3|\n",
            "|2023-10-07|2023|   10|\n",
            "|2023-06-27|2023|    6|\n",
            "|2024-10-14|2024|   10|\n",
            "|2024-04-08|2024|    4|\n",
            "|2024-10-02|2024|   10|\n",
            "|2023-12-15|2023|   12|\n",
            "|2024-12-14|2024|   12|\n",
            "|2024-09-18|2024|    9|\n",
            "|2024-09-10|2024|    9|\n",
            "|2023-08-03|2023|    8|\n",
            "|2023-12-25|2023|   12|\n",
            "|2024-03-19|2024|    3|\n",
            "|2023-11-28|2023|   11|\n",
            "+----------+----+-----+\n",
            "only showing top 20 rows\n",
            "\n"
          ]
        }
      ]
    },
    {
      "cell_type": "code",
      "source": [
        "from pyspark.sql.functions import to_date, datediff, current_date\n",
        "\n",
        "df = df.withColumn(\"LoyaltyYears\", datediff(current_date(), col(\"CustomerSince\")) / 365)\n",
        "df.select(\"CustomerName\", \"CustomerSince\", \"LoyaltyYears\").show()"
      ],
      "metadata": {
        "colab": {
          "base_uri": "https://localhost:8080/"
        },
        "id": "gT2Eg1hMFXea",
        "outputId": "d21cf40d-bd07-4327-8db8-62d9db3be8ef"
      },
      "execution_count": 41,
      "outputs": [
        {
          "output_type": "stream",
          "name": "stdout",
          "text": [
            "+------------------+-------------+------------------+\n",
            "|      CustomerName|CustomerSince|      LoyaltyYears|\n",
            "+------------------+-------------+------------------+\n",
            "|     Donald Walker|   2020-10-15| 4.635616438356164|\n",
            "|      Brandon Hall|   2022-03-15| 3.221917808219178|\n",
            "|      Donald Booth|   2021-08-07| 3.824657534246575|\n",
            "|    Phillip Garcia|   2020-08-08| 4.821917808219178|\n",
            "|      Valerie Gray|   2022-11-15|2.5506849315068494|\n",
            "|       Amber Perez|   2022-01-13| 3.389041095890411|\n",
            "|        Roy Martin|   2023-04-29|2.0986301369863014|\n",
            "|    Carolyn Daniel|   2021-05-09| 4.071232876712329|\n",
            "|       Patty Perez|   2021-04-25| 4.109589041095891|\n",
            "|Jonathan Wilkerson|   2021-06-20| 3.956164383561644|\n",
            "|       Kevin Hurst|   2022-08-02|2.8383561643835615|\n",
            "| Anthony Rodriguez|   2022-12-15|2.4684931506849317|\n",
            "|     Kyle Mcdonald|   2021-07-21| 3.871232876712329|\n",
            "|    Jeffrey Chavez|   2022-07-30|2.8465753424657536|\n",
            "|  Elizabeth Fowler|   2021-02-07|  4.32054794520548|\n",
            "|     Tammy Sellers|   2021-12-17| 3.463013698630137|\n",
            "|     David Bradley|   2022-09-07|  2.73972602739726|\n",
            "|       John Pierce|   2023-05-09|2.0712328767123287|\n",
            "|   Jennifer Powers|   2020-12-06| 4.493150684931507|\n",
            "|    George Chapman|   2023-02-07|2.3205479452054796|\n",
            "+------------------+-------------+------------------+\n",
            "only showing top 20 rows\n",
            "\n"
          ]
        }
      ]
    },
    {
      "cell_type": "markdown",
      "source": [
        "7. Joins and Unions"
      ],
      "metadata": {
        "id": "agLZo1s-KEGh"
      }
    },
    {
      "cell_type": "code",
      "source": [
        "region_data = [(\"New York\", \"East\"), (\"Los Angeles\", \"West\"), (\"Chicago\", \"Central\")]\n",
        "region_df = spark.createDataFrame(region_data, [\"City\", \"Region\"])\n"
      ],
      "metadata": {
        "id": "HS-2Apo6FXhX"
      },
      "execution_count": 42,
      "outputs": []
    },
    {
      "cell_type": "code",
      "source": [
        "df.join(region_df, on=\"City\", how=\"inner\").show()\n",
        "df.join(region_df, on=\"City\", how=\"left\").show()"
      ],
      "metadata": {
        "colab": {
          "base_uri": "https://localhost:8080/"
        },
        "id": "h8F8H9aZFXku",
        "outputId": "3bda72f0-56dd-4e29-dc82-4e5cf885f4eb"
      },
      "execution_count": 43,
      "outputs": [
        {
          "output_type": "stream",
          "name": "stdout",
          "text": [
            "+----+-------+------------+---------------+------+---------+--------------+--------+-----------+-------------+-----------------+------------+------+\n",
            "|City|OrderID|CustomerName|ProductCategory|Amount|OrderDate|DeliveryStatus|Discount|PaymentMode|CustomerSince|CustomerSinceDate|LoyaltyYears|Region|\n",
            "+----+-------+------------+---------------+------+---------+--------------+--------+-----------+-------------+-----------------+------------+------+\n",
            "+----+-------+------------+---------------+------+---------+--------------+--------+-----------+-------------+-----------------+------------+------+\n",
            "\n",
            "+-----------------+-------+------------------+---------------+------+----------+--------------+--------+-----------+-------------+-----------------+------------------+------+\n",
            "|             City|OrderID|      CustomerName|ProductCategory|Amount| OrderDate|DeliveryStatus|Discount|PaymentMode|CustomerSince|CustomerSinceDate|      LoyaltyYears|Region|\n",
            "+-----------------+-------+------------------+---------------+------+----------+--------------+--------+-----------+-------------+-----------------+------------------+------+\n",
            "|       Thomasberg|   6155|Jonathan Wilkerson|        Fashion|882.68|2024-10-14|     Cancelled|    0.27|       Cash|   2021-06-20|       2021-06-20| 3.956164383561644|  NULL|\n",
            "|   East Nathaniel|   2743|  Elizabeth Fowler|    Electronics| 47.06|2024-09-18|     Delivered|    0.13|       Cash|   2021-02-07|       2021-02-07|  4.32054794520548|  NULL|\n",
            "|  Port Jesseville|   4150|       Amber Perez|          Books|352.37|2024-01-13|     Cancelled|    0.24|       Cash|   2022-01-13|       2022-01-13| 3.389041095890411|  NULL|\n",
            "|       North Chad|   5061|    George Chapman|    Electronics|251.89|2023-11-28|       Pending|    0.27|       Cash|   2023-02-07|       2023-02-07|2.3205479452054796|  NULL|\n",
            "|    Lake Toddland|   6038|     David Bradley|        Fashion|348.51|2023-08-03|      Returned|    0.23|        UPI|   2022-09-07|       2022-09-07|  2.73972602739726|  NULL|\n",
            "|     Lake Joyside|   2824|     Donald Walker|          Books|783.04|2024-12-26|      Returned|    0.15|Credit Card|   2020-10-15|       2020-10-15| 4.635616438356164|  NULL|\n",
            "|       Brandtside|   3060|       John Pierce|           Toys|362.09|2023-12-25|      Returned|    0.03|       Cash|   2023-05-09|       2023-05-09|2.0712328767123287|  NULL|\n",
            "|   West Elizabeth|   1964|      Taylor Heath|           Toys| 578.5|2023-07-28|     Cancelled|    0.01|       Cash|   2021-04-30|       2021-04-30| 4.095890410958904|  NULL|\n",
            "|Lake Jenniferside|   2040|     Kyle Mcdonald|           Toys|327.52|2023-12-15|      Returned|    0.06|     Wallet|   2021-07-21|       2021-07-21| 3.871232876712329|  NULL|\n",
            "|        Port Erin|   9085| Anthony Rodriguez|      Groceries|921.73|2024-10-02|     Cancelled|    0.03|        UPI|   2022-12-15|       2022-12-15|2.4684931506849317|  NULL|\n",
            "|      Teresaburgh|   6573|    Jeffrey Chavez|          Books|676.02|2024-12-14|     Cancelled|    0.19|     Wallet|   2022-07-30|       2022-07-30|2.8465753424657536|  NULL|\n",
            "|     Lake Roberto|   4611|      Donald Booth|        Fashion|657.96|2025-01-12|      Returned|    0.01|     Wallet|   2021-08-07|       2021-08-07| 3.824657534246575|  NULL|\n",
            "|       Tracyville|   9837|     Tammy Sellers|          Books| 46.15|2024-09-10|     Cancelled|    0.05|        UPI|   2021-12-17|       2021-12-17| 3.463013698630137|  NULL|\n",
            "|      Jeffreyberg|   9830|       Kevin Hurst|          Books|870.55|2024-04-08|     Delivered|    0.22|     Wallet|   2022-08-02|       2022-08-02|2.8383561643835615|  NULL|\n",
            "|      Lake Joseph|   5554|        Roy Martin|           Toys|148.33|2024-03-04|     Cancelled|    0.27|       Cash|   2023-04-29|       2023-04-29|2.0986301369863014|  NULL|\n",
            "| West Melanieview|   3547|    Phillip Garcia|        Fashion|606.89|2024-03-24|      Returned|    0.15|     Wallet|   2020-08-08|       2020-08-08| 4.821917808219178|  NULL|\n",
            "|    New Jamesside|   7912|      Brandon Hall|      Groceries| 905.0|2024-09-12|     Cancelled|    0.03|     Wallet|   2022-03-15|       2022-03-15| 3.221917808219178|  NULL|\n",
            "|         Grayside|   2169|    Carolyn Daniel|    Electronics| 14.09|2023-10-07|     Delivered|    0.25|Credit Card|   2021-05-09|       2021-05-09| 4.071232876712329|  NULL|\n",
            "|        Mariastad|   8527|      Valerie Gray|           Toys| 77.87|2024-08-04|     Delivered|    0.17|       Cash|   2022-11-15|       2022-11-15|2.5506849315068494|  NULL|\n",
            "|      Richardland|   6313|       Patty Perez|      Groceries| 79.83|2023-06-27|     Cancelled|    0.12|Credit Card|   2021-04-25|       2021-04-25| 4.109589041095891|  NULL|\n",
            "+-----------------+-------+------------------+---------------+------+----------+--------------+--------+-----------+-------------+-----------------+------------------+------+\n",
            "only showing top 20 rows\n",
            "\n"
          ]
        }
      ]
    },
    {
      "cell_type": "code",
      "source": [
        "df_2023 = df.filter(year(\"OrderDate\") == 2023)\n",
        "df_2024 = df.filter(year(\"OrderDate\") == 2024)\n",
        "df_union = df_2023.union(df_2024)\n",
        "df_union.show()"
      ],
      "metadata": {
        "colab": {
          "base_uri": "https://localhost:8080/"
        },
        "id": "Kemz2V2mFXne",
        "outputId": "20cdb1b8-85e0-4e83-d9b7-b892bae6c705"
      },
      "execution_count": 44,
      "outputs": [
        {
          "output_type": "stream",
          "name": "stdout",
          "text": [
            "+-------+----------------+---------------+------+----------+--------------+--------+-----------------+-----------+-------------+-----------------+------------------+\n",
            "|OrderID|    CustomerName|ProductCategory|Amount| OrderDate|DeliveryStatus|Discount|             City|PaymentMode|CustomerSince|CustomerSinceDate|      LoyaltyYears|\n",
            "+-------+----------------+---------------+------+----------+--------------+--------+-----------------+-----------+-------------+-----------------+------------------+\n",
            "|   2169|  Carolyn Daniel|    Electronics| 14.09|2023-10-07|     Delivered|    0.25|         Grayside|Credit Card|   2021-05-09|       2021-05-09| 4.071232876712329|\n",
            "|   6313|     Patty Perez|      Groceries| 79.83|2023-06-27|     Cancelled|    0.12|      Richardland|Credit Card|   2021-04-25|       2021-04-25| 4.109589041095891|\n",
            "|   2040|   Kyle Mcdonald|           Toys|327.52|2023-12-15|      Returned|    0.06|Lake Jenniferside|     Wallet|   2021-07-21|       2021-07-21| 3.871232876712329|\n",
            "|   6038|   David Bradley|        Fashion|348.51|2023-08-03|      Returned|    0.23|    Lake Toddland|        UPI|   2022-09-07|       2022-09-07|  2.73972602739726|\n",
            "|   3060|     John Pierce|           Toys|362.09|2023-12-25|      Returned|    0.03|       Brandtside|       Cash|   2023-05-09|       2023-05-09|2.0712328767123287|\n",
            "|   5061|  George Chapman|    Electronics|251.89|2023-11-28|       Pending|    0.27|       North Chad|       Cash|   2023-02-07|       2023-02-07|2.3205479452054796|\n",
            "|   1964|    Taylor Heath|           Toys| 578.5|2023-07-28|     Cancelled|    0.01|   West Elizabeth|       Cash|   2021-04-30|       2021-04-30| 4.095890410958904|\n",
            "|   2612|Nicholas Mcbride|        Fashion|219.05|2023-08-26|     Delivered|    0.27|       East James|        UPI|   2022-04-29|       2022-04-29|3.0986301369863014|\n",
            "|   1828|  Kimberly Smith|           Toys| 89.01|2023-08-14|     Delivered|    0.04|     East Richard|Credit Card|   2022-06-19|       2022-06-19| 2.958904109589041|\n",
            "|   4502|Stephanie Martin|    Electronics|656.32|2023-06-04|       Pending|     0.2|       Bakermouth|Credit Card|   2021-08-19|       2021-08-19| 3.791780821917808|\n",
            "|   1958| Kimberly Adkins|    Electronics| 98.66|2023-07-17|     Cancelled|    0.13|  New Thomashaven|     Wallet|   2021-02-01|       2021-02-01| 4.336986301369863|\n",
            "|   5905| Ashley Humphrey|          Books|844.87|2023-12-25|       Pending|    0.28|  North Juliaberg|       Cash|   2021-07-30|       2021-07-30|3.8465753424657536|\n",
            "|   8239|   Jessica Smith|          Books|610.08|2023-07-31|     Delivered|    0.09|        New Barry|        UPI|   2021-12-27|       2021-12-27|3.4356164383561643|\n",
            "|   9379|      Steven Lee|          Books|181.97|2023-07-07|      Returned|    0.22|        Smithside|        UPI|   2023-05-04|       2023-05-04| 2.084931506849315|\n",
            "|   3851|Elizabeth Kelley|        Fashion|517.15|2023-06-03|     Cancelled|    0.19|    Justinchester|Credit Card|   2022-11-19|       2022-11-19|2.5397260273972604|\n",
            "|   1757|   John Atkinson|          Books|724.04|2023-07-29|      Returned|    0.06|       Perryshire|       Cash|   2021-03-31|       2021-03-31| 4.178082191780822|\n",
            "|   9486|   Justin Lowery|    Electronics|554.55|2023-09-05|       Pending|    0.24|    Andersonmouth|     Wallet|   2023-04-05|       2023-04-05| 2.164383561643836|\n",
            "|   3607|     Karen Green|          Books|621.24|2023-12-12|     Cancelled|    0.18|       Katiehaven|        UPI|   2022-06-24|       2022-06-24|2.9452054794520546|\n",
            "|   4919|  Billy Mitchell|    Electronics|653.51|2023-12-31|     Delivered|    0.08|         Luisside|        UPI|   2020-10-05|       2020-10-05| 4.663013698630137|\n",
            "|   3267| James Hernandez|          Books|593.98|2023-11-16|      Returned|     0.2|   South Rickside|     Wallet|   2022-05-26|       2022-05-26|3.0246575342465754|\n",
            "+-------+----------------+---------------+------+----------+--------------+--------+-----------------+-----------+-------------+-----------------+------------------+\n",
            "only showing top 20 rows\n",
            "\n"
          ]
        }
      ]
    },
    {
      "cell_type": "markdown",
      "source": [
        " 8. Complex JSON Simulation"
      ],
      "metadata": {
        "id": "GJtC53W7KQzK"
      }
    },
    {
      "cell_type": "code",
      "source": [
        "from pyspark.sql.functions import to_json, struct, get_json_object, explode\n",
        "json_df = df.withColumn(\"order_json\", to_json(struct([col(c) for c in df.columns])))\n",
        "json_df.select(\"order_json\").show(truncate=False)"
      ],
      "metadata": {
        "colab": {
          "base_uri": "https://localhost:8080/"
        },
        "id": "XsFO8h_eKSHL",
        "outputId": "396c49ee-3e98-4c67-d11c-ec7c046c4e0a"
      },
      "execution_count": 45,
      "outputs": [
        {
          "output_type": "stream",
          "name": "stdout",
          "text": [
            "+------------------------------------------------------------------------------------------------------------------------------------------------------------------------------------------------------------------------------------------------------------------------------------------------------------------+\n",
            "|order_json                                                                                                                                                                                                                                                                                                        |\n",
            "+------------------------------------------------------------------------------------------------------------------------------------------------------------------------------------------------------------------------------------------------------------------------------------------------------------------+\n",
            "|{\"OrderID\":2824,\"CustomerName\":\"Donald Walker\",\"ProductCategory\":\"Books\",\"Amount\":783.04,\"OrderDate\":\"2024-12-26\",\"DeliveryStatus\":\"Returned\",\"Discount\":0.15,\"City\":\"Lake Joyside\",\"PaymentMode\":\"Credit Card\",\"CustomerSince\":\"2020-10-15\",\"CustomerSinceDate\":\"2020-10-15\",\"LoyaltyYears\":4.635616438356164}   |\n",
            "|{\"OrderID\":7912,\"CustomerName\":\"Brandon Hall\",\"ProductCategory\":\"Groceries\",\"Amount\":905.0,\"OrderDate\":\"2024-09-12\",\"DeliveryStatus\":\"Cancelled\",\"Discount\":0.03,\"City\":\"New Jamesside\",\"PaymentMode\":\"Wallet\",\"CustomerSince\":\"2022-03-15\",\"CustomerSinceDate\":\"2022-03-15\",\"LoyaltyYears\":3.221917808219178}    |\n",
            "|{\"OrderID\":4611,\"CustomerName\":\"Donald Booth\",\"ProductCategory\":\"Fashion\",\"Amount\":657.96,\"OrderDate\":\"2025-01-12\",\"DeliveryStatus\":\"Returned\",\"Discount\":0.01,\"City\":\"Lake Roberto\",\"PaymentMode\":\"Wallet\",\"CustomerSince\":\"2021-08-07\",\"CustomerSinceDate\":\"2021-08-07\",\"LoyaltyYears\":3.824657534246575}       |\n",
            "|{\"OrderID\":3547,\"CustomerName\":\"Phillip Garcia\",\"ProductCategory\":\"Fashion\",\"Amount\":606.89,\"OrderDate\":\"2024-03-24\",\"DeliveryStatus\":\"Returned\",\"Discount\":0.15,\"City\":\"West Melanieview\",\"PaymentMode\":\"Wallet\",\"CustomerSince\":\"2020-08-08\",\"CustomerSinceDate\":\"2020-08-08\",\"LoyaltyYears\":4.821917808219178} |\n",
            "|{\"OrderID\":8527,\"CustomerName\":\"Valerie Gray\",\"ProductCategory\":\"Toys\",\"Amount\":77.87,\"OrderDate\":\"2024-08-04\",\"DeliveryStatus\":\"Delivered\",\"Discount\":0.17,\"City\":\"Mariastad\",\"PaymentMode\":\"Cash\",\"CustomerSince\":\"2022-11-15\",\"CustomerSinceDate\":\"2022-11-15\",\"LoyaltyYears\":2.5506849315068494}              |\n",
            "|{\"OrderID\":4150,\"CustomerName\":\"Amber Perez\",\"ProductCategory\":\"Books\",\"Amount\":352.37,\"OrderDate\":\"2024-01-13\",\"DeliveryStatus\":\"Cancelled\",\"Discount\":0.24,\"City\":\"Port Jesseville\",\"PaymentMode\":\"Cash\",\"CustomerSince\":\"2022-01-13\",\"CustomerSinceDate\":\"2022-01-13\",\"LoyaltyYears\":3.389041095890411}        |\n",
            "|{\"OrderID\":5554,\"CustomerName\":\"Roy Martin\",\"ProductCategory\":\"Toys\",\"Amount\":148.33,\"OrderDate\":\"2024-03-04\",\"DeliveryStatus\":\"Cancelled\",\"Discount\":0.27,\"City\":\"Lake Joseph\",\"PaymentMode\":\"Cash\",\"CustomerSince\":\"2023-04-29\",\"CustomerSinceDate\":\"2023-04-29\",\"LoyaltyYears\":2.0986301369863014}             |\n",
            "|{\"OrderID\":2169,\"CustomerName\":\"Carolyn Daniel\",\"ProductCategory\":\"Electronics\",\"Amount\":14.09,\"OrderDate\":\"2023-10-07\",\"DeliveryStatus\":\"Delivered\",\"Discount\":0.25,\"City\":\"Grayside\",\"PaymentMode\":\"Credit Card\",\"CustomerSince\":\"2021-05-09\",\"CustomerSinceDate\":\"2021-05-09\",\"LoyaltyYears\":4.071232876712329}|\n",
            "|{\"OrderID\":6313,\"CustomerName\":\"Patty Perez\",\"ProductCategory\":\"Groceries\",\"Amount\":79.83,\"OrderDate\":\"2023-06-27\",\"DeliveryStatus\":\"Cancelled\",\"Discount\":0.12,\"City\":\"Richardland\",\"PaymentMode\":\"Credit Card\",\"CustomerSince\":\"2021-04-25\",\"CustomerSinceDate\":\"2021-04-25\",\"LoyaltyYears\":4.109589041095891}  |\n",
            "|{\"OrderID\":6155,\"CustomerName\":\"Jonathan Wilkerson\",\"ProductCategory\":\"Fashion\",\"Amount\":882.68,\"OrderDate\":\"2024-10-14\",\"DeliveryStatus\":\"Cancelled\",\"Discount\":0.27,\"City\":\"Thomasberg\",\"PaymentMode\":\"Cash\",\"CustomerSince\":\"2021-06-20\",\"CustomerSinceDate\":\"2021-06-20\",\"LoyaltyYears\":3.956164383561644}    |\n",
            "|{\"OrderID\":9830,\"CustomerName\":\"Kevin Hurst\",\"ProductCategory\":\"Books\",\"Amount\":870.55,\"OrderDate\":\"2024-04-08\",\"DeliveryStatus\":\"Delivered\",\"Discount\":0.22,\"City\":\"Jeffreyberg\",\"PaymentMode\":\"Wallet\",\"CustomerSince\":\"2022-08-02\",\"CustomerSinceDate\":\"2022-08-02\",\"LoyaltyYears\":2.8383561643835615}         |\n",
            "|{\"OrderID\":9085,\"CustomerName\":\"Anthony Rodriguez\",\"ProductCategory\":\"Groceries\",\"Amount\":921.73,\"OrderDate\":\"2024-10-02\",\"DeliveryStatus\":\"Cancelled\",\"Discount\":0.03,\"City\":\"Port Erin\",\"PaymentMode\":\"UPI\",\"CustomerSince\":\"2022-12-15\",\"CustomerSinceDate\":\"2022-12-15\",\"LoyaltyYears\":2.4684931506849317}    |\n",
            "|{\"OrderID\":2040,\"CustomerName\":\"Kyle Mcdonald\",\"ProductCategory\":\"Toys\",\"Amount\":327.52,\"OrderDate\":\"2023-12-15\",\"DeliveryStatus\":\"Returned\",\"Discount\":0.06,\"City\":\"Lake Jenniferside\",\"PaymentMode\":\"Wallet\",\"CustomerSince\":\"2021-07-21\",\"CustomerSinceDate\":\"2021-07-21\",\"LoyaltyYears\":3.871232876712329}    |\n",
            "|{\"OrderID\":6573,\"CustomerName\":\"Jeffrey Chavez\",\"ProductCategory\":\"Books\",\"Amount\":676.02,\"OrderDate\":\"2024-12-14\",\"DeliveryStatus\":\"Cancelled\",\"Discount\":0.19,\"City\":\"Teresaburgh\",\"PaymentMode\":\"Wallet\",\"CustomerSince\":\"2022-07-30\",\"CustomerSinceDate\":\"2022-07-30\",\"LoyaltyYears\":2.8465753424657536}      |\n",
            "|{\"OrderID\":2743,\"CustomerName\":\"Elizabeth Fowler\",\"ProductCategory\":\"Electronics\",\"Amount\":47.06,\"OrderDate\":\"2024-09-18\",\"DeliveryStatus\":\"Delivered\",\"Discount\":0.13,\"City\":\"East Nathaniel\",\"PaymentMode\":\"Cash\",\"CustomerSince\":\"2021-02-07\",\"CustomerSinceDate\":\"2021-02-07\",\"LoyaltyYears\":4.32054794520548}|\n",
            "|{\"OrderID\":9837,\"CustomerName\":\"Tammy Sellers\",\"ProductCategory\":\"Books\",\"Amount\":46.15,\"OrderDate\":\"2024-09-10\",\"DeliveryStatus\":\"Cancelled\",\"Discount\":0.05,\"City\":\"Tracyville\",\"PaymentMode\":\"UPI\",\"CustomerSince\":\"2021-12-17\",\"CustomerSinceDate\":\"2021-12-17\",\"LoyaltyYears\":3.463013698630137}             |\n",
            "|{\"OrderID\":6038,\"CustomerName\":\"David Bradley\",\"ProductCategory\":\"Fashion\",\"Amount\":348.51,\"OrderDate\":\"2023-08-03\",\"DeliveryStatus\":\"Returned\",\"Discount\":0.23,\"City\":\"Lake Toddland\",\"PaymentMode\":\"UPI\",\"CustomerSince\":\"2022-09-07\",\"CustomerSinceDate\":\"2022-09-07\",\"LoyaltyYears\":2.73972602739726}         |\n",
            "|{\"OrderID\":3060,\"CustomerName\":\"John Pierce\",\"ProductCategory\":\"Toys\",\"Amount\":362.09,\"OrderDate\":\"2023-12-25\",\"DeliveryStatus\":\"Returned\",\"Discount\":0.03,\"City\":\"Brandtside\",\"PaymentMode\":\"Cash\",\"CustomerSince\":\"2023-05-09\",\"CustomerSinceDate\":\"2023-05-09\",\"LoyaltyYears\":2.0712328767123287}              |\n",
            "|{\"OrderID\":4295,\"CustomerName\":\"Jennifer Powers\",\"ProductCategory\":\"Electronics\",\"Amount\":684.26,\"OrderDate\":\"2024-03-19\",\"DeliveryStatus\":\"Cancelled\",\"Discount\":0.21,\"City\":\"Lammouth\",\"PaymentMode\":\"UPI\",\"CustomerSince\":\"2020-12-06\",\"CustomerSinceDate\":\"2020-12-06\",\"LoyaltyYears\":4.493150684931507}      |\n",
            "|{\"OrderID\":5061,\"CustomerName\":\"George Chapman\",\"ProductCategory\":\"Electronics\",\"Amount\":251.89,\"OrderDate\":\"2023-11-28\",\"DeliveryStatus\":\"Pending\",\"Discount\":0.27,\"City\":\"North Chad\",\"PaymentMode\":\"Cash\",\"CustomerSince\":\"2023-02-07\",\"CustomerSinceDate\":\"2023-02-07\",\"LoyaltyYears\":2.3205479452054796}     |\n",
            "+------------------------------------------------------------------------------------------------------------------------------------------------------------------------------------------------------------------------------------------------------------------------------------------------------------------+\n",
            "only showing top 20 rows\n",
            "\n"
          ]
        }
      ]
    },
    {
      "cell_type": "code",
      "source": [
        "json_df.select(get_json_object(\"order_json\", \"$.CustomerName\").alias(\"Customer\")).show()\n"
      ],
      "metadata": {
        "colab": {
          "base_uri": "https://localhost:8080/"
        },
        "id": "nRmSO1jtFXq2",
        "outputId": "1c0bbfe6-489f-452e-88d3-7657f8b9e825"
      },
      "execution_count": 46,
      "outputs": [
        {
          "output_type": "stream",
          "name": "stdout",
          "text": [
            "+------------------+\n",
            "|          Customer|\n",
            "+------------------+\n",
            "|     Donald Walker|\n",
            "|      Brandon Hall|\n",
            "|      Donald Booth|\n",
            "|    Phillip Garcia|\n",
            "|      Valerie Gray|\n",
            "|       Amber Perez|\n",
            "|        Roy Martin|\n",
            "|    Carolyn Daniel|\n",
            "|       Patty Perez|\n",
            "|Jonathan Wilkerson|\n",
            "|       Kevin Hurst|\n",
            "| Anthony Rodriguez|\n",
            "|     Kyle Mcdonald|\n",
            "|    Jeffrey Chavez|\n",
            "|  Elizabeth Fowler|\n",
            "|     Tammy Sellers|\n",
            "|     David Bradley|\n",
            "|       John Pierce|\n",
            "|   Jennifer Powers|\n",
            "|    George Chapman|\n",
            "+------------------+\n",
            "only showing top 20 rows\n",
            "\n"
          ]
        }
      ]
    },
    {
      "cell_type": "markdown",
      "source": [
        " 9. Applying Functions (UDF)"
      ],
      "metadata": {
        "id": "ZQR3ByWqKax1"
      }
    },
    {
      "cell_type": "code",
      "source": [
        "from pyspark.sql.functions import udf\n",
        "from pyspark.sql.types import StringType\n",
        "def tag_order(amount):\n",
        "    if amount >= 800:\n",
        "        return \"Big\"\n",
        "    elif amount >= 300:\n",
        "        return \"Medium\"\n",
        "    else:\n",
        "        return \"Small\"\n",
        "tag_udf = udf(tag_order, StringType())\n",
        "df = df.withColumn(\"OrderSize\", tag_udf(col(\"Amount\")))\n",
        "df.select(\"Amount\", \"OrderSize\").show()\n"
      ],
      "metadata": {
        "colab": {
          "base_uri": "https://localhost:8080/"
        },
        "id": "euXO1Mv4FXuM",
        "outputId": "652986a6-5018-4070-b985-5571516fee80"
      },
      "execution_count": 48,
      "outputs": [
        {
          "output_type": "stream",
          "name": "stdout",
          "text": [
            "+------+---------+\n",
            "|Amount|OrderSize|\n",
            "+------+---------+\n",
            "|783.04|   Medium|\n",
            "| 905.0|      Big|\n",
            "|657.96|   Medium|\n",
            "|606.89|   Medium|\n",
            "| 77.87|    Small|\n",
            "|352.37|   Medium|\n",
            "|148.33|    Small|\n",
            "| 14.09|    Small|\n",
            "| 79.83|    Small|\n",
            "|882.68|      Big|\n",
            "|870.55|      Big|\n",
            "|921.73|      Big|\n",
            "|327.52|   Medium|\n",
            "|676.02|   Medium|\n",
            "| 47.06|    Small|\n",
            "| 46.15|    Small|\n",
            "|348.51|   Medium|\n",
            "|362.09|   Medium|\n",
            "|684.26|   Medium|\n",
            "|251.89|    Small|\n",
            "+------+---------+\n",
            "only showing top 20 rows\n",
            "\n"
          ]
        }
      ]
    }
  ]
}