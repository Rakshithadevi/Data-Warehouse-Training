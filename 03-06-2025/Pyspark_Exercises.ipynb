{
  "nbformat": 4,
  "nbformat_minor": 0,
  "metadata": {
    "colab": {
      "provenance": []
    },
    "kernelspec": {
      "name": "python3",
      "display_name": "Python 3"
    },
    "language_info": {
      "name": "python"
    }
  },
  "cells": [
    {
      "cell_type": "code",
      "execution_count": 1,
      "metadata": {
        "colab": {
          "base_uri": "https://localhost:8080/",
          "height": 219
        },
        "id": "_IgVm2lsGk31",
        "outputId": "04de5407-99c9-49d5-d51a-62004e140a17"
      },
      "outputs": [
        {
          "output_type": "execute_result",
          "data": {
            "text/plain": [
              "<pyspark.sql.session.SparkSession at 0x7e10fc325a90>"
            ],
            "text/html": [
              "\n",
              "            <div>\n",
              "                <p><b>SparkSession - in-memory</b></p>\n",
              "                \n",
              "        <div>\n",
              "            <p><b>SparkContext</b></p>\n",
              "\n",
              "            <p><a href=\"http://f440c4b85d4c:4040\">Spark UI</a></p>\n",
              "\n",
              "            <dl>\n",
              "              <dt>Version</dt>\n",
              "                <dd><code>v3.5.1</code></dd>\n",
              "              <dt>Master</dt>\n",
              "                <dd><code>local[*]</code></dd>\n",
              "              <dt>AppName</dt>\n",
              "                <dd><code>CourseTrackerAnalysis</code></dd>\n",
              "            </dl>\n",
              "        </div>\n",
              "        \n",
              "            </div>\n",
              "        "
            ]
          },
          "metadata": {},
          "execution_count": 1
        }
      ],
      "source": [
        "from pyspark.sql import SparkSession\n",
        "spark = SparkSession.builder \\\n",
        "    .appName(\"CourseTrackerAnalysis\") \\\n",
        "    .getOrCreate()\n",
        "spark"
      ]
    },
    {
      "cell_type": "code",
      "source": [
        "from google.colab import drive\n",
        "drive.mount('/content/drive')\n",
        "df = spark.read.csv(\"/content/drive/MyDrive/large_employee_dataset.csv\", header=True, inferSchema=True)\n",
        "df.show()\n"
      ],
      "metadata": {
        "colab": {
          "base_uri": "https://localhost:8080/"
        },
        "id": "TztL2C9iHqLL",
        "outputId": "018b329a-c71f-4569-b6f4-64f3b81edf27"
      },
      "execution_count": 3,
      "outputs": [
        {
          "output_type": "stream",
          "name": "stdout",
          "text": [
            "Drive already mounted at /content/drive; to attempt to forcibly remount, call drive.mount(\"/content/drive\", force_remount=True).\n",
            "+----------+--------------------+---+----------+------+-----------+--------+-------------------+\n",
            "|EmployeeID|                Name|Age|Department|Salary|JoiningDate|  Status|               City|\n",
            "+----------+--------------------+---+----------+------+-----------+--------+-------------------+\n",
            "|      4128|     Charles Johnson| 52|        HR| 64039| 2018-07-07|Resigned|          Allentown|\n",
            "|      6094|       Dylan Camacho| 57| Marketing| 34686| 2015-08-25|  Active|        Anthonyfort|\n",
            "|      5883| Mr. Ryan Bowman Jr.| 29|   Finance| 64541| 2025-03-11|On Leave|          Gilesstad|\n",
            "|      9146|          Brian Ball| 24|     Sales| 87831| 2015-10-01|Resigned|       Jenniferfurt|\n",
            "|      1918|       Angela Hooper| 26|   Finance|108773| 2019-08-14|On Leave|       Lake Amystad|\n",
            "|      4600|Alexander Johnson...| 45|     Sales| 75671| 2016-04-21|On Leave|         Russohaven|\n",
            "|      6253|         Steven Lane| 47|   Finance| 64982| 2021-07-25|  Active|        East Robert|\n",
            "|      8278|       Riley Johnson| 49|        HR| 43449| 2015-08-03|Resigned|         New Thomas|\n",
            "|      8520|    Emily Washington| 43|   Finance| 33851| 2021-11-30|Resigned|        West Ashley|\n",
            "|      1298|     Valerie Fleming| 42| Marketing| 70137| 2019-12-08|Resigned|        Caseborough|\n",
            "|      5157|     Tracy Hughes MD| 28|   Finance| 34381| 2020-06-01|  Active|       West Phillip|\n",
            "|      7403|    Johnathan Harmon| 50|        HR| 97666| 2021-03-09|On Leave|           Jillport|\n",
            "|      3326|       Michael Brown| 28|        HR| 85122| 2023-10-21|Resigned|          Port Mark|\n",
            "|      8989|       Scott Burnett| 48|     Sales| 93690| 2016-04-25|Resigned|     North Brittany|\n",
            "|      4676|  Christopher Fuller| 30|        HR| 63042| 2021-04-30|Resigned|   South Donnaville|\n",
            "|      6598|         Mary Henson| 58|        IT| 63951| 2021-08-25|  Active|        Port Tricia|\n",
            "|      4136|       Jerome Torres| 30|   Finance| 68213| 2024-11-30|  Active|North Justinborough|\n",
            "|      6640|     Isaiah Martinez| 51| Marketing| 72596| 2021-07-26|On Leave|       Mcgeechester|\n",
            "|      6406|       Patrick Chung| 27|        HR|116423| 2024-07-05|  Active|         Tonyamouth|\n",
            "|      1515|        Micheal Wade| 26|        HR| 41771| 2024-03-29|  Active|     Jimenezborough|\n",
            "+----------+--------------------+---+----------+------+-----------+--------+-------------------+\n",
            "only showing top 20 rows\n",
            "\n"
          ]
        }
      ]
    },
    {
      "cell_type": "markdown",
      "source": [
        "Basic Exploration\n"
      ],
      "metadata": {
        "id": "04WrJIZGIGZI"
      }
    },
    {
      "cell_type": "code",
      "source": [
        "df.show(10)"
      ],
      "metadata": {
        "colab": {
          "base_uri": "https://localhost:8080/"
        },
        "id": "8h2ttts9ICJd",
        "outputId": "b0716d7b-6075-4d84-c2dd-de5d776195ca"
      },
      "execution_count": 4,
      "outputs": [
        {
          "output_type": "stream",
          "name": "stdout",
          "text": [
            "+----------+--------------------+---+----------+------+-----------+--------+------------+\n",
            "|EmployeeID|                Name|Age|Department|Salary|JoiningDate|  Status|        City|\n",
            "+----------+--------------------+---+----------+------+-----------+--------+------------+\n",
            "|      4128|     Charles Johnson| 52|        HR| 64039| 2018-07-07|Resigned|   Allentown|\n",
            "|      6094|       Dylan Camacho| 57| Marketing| 34686| 2015-08-25|  Active| Anthonyfort|\n",
            "|      5883| Mr. Ryan Bowman Jr.| 29|   Finance| 64541| 2025-03-11|On Leave|   Gilesstad|\n",
            "|      9146|          Brian Ball| 24|     Sales| 87831| 2015-10-01|Resigned|Jenniferfurt|\n",
            "|      1918|       Angela Hooper| 26|   Finance|108773| 2019-08-14|On Leave|Lake Amystad|\n",
            "|      4600|Alexander Johnson...| 45|     Sales| 75671| 2016-04-21|On Leave|  Russohaven|\n",
            "|      6253|         Steven Lane| 47|   Finance| 64982| 2021-07-25|  Active| East Robert|\n",
            "|      8278|       Riley Johnson| 49|        HR| 43449| 2015-08-03|Resigned|  New Thomas|\n",
            "|      8520|    Emily Washington| 43|   Finance| 33851| 2021-11-30|Resigned| West Ashley|\n",
            "|      1298|     Valerie Fleming| 42| Marketing| 70137| 2019-12-08|Resigned| Caseborough|\n",
            "+----------+--------------------+---+----------+------+-----------+--------+------------+\n",
            "only showing top 10 rows\n",
            "\n"
          ]
        }
      ]
    },
    {
      "cell_type": "code",
      "source": [
        "print(\"Total Employees:\", df.count())"
      ],
      "metadata": {
        "colab": {
          "base_uri": "https://localhost:8080/"
        },
        "id": "JYecM89lIHWy",
        "outputId": "7c15c61b-8318-4432-8845-ec774c181910"
      },
      "execution_count": 5,
      "outputs": [
        {
          "output_type": "stream",
          "name": "stdout",
          "text": [
            "Total Employees: 500\n"
          ]
        }
      ]
    },
    {
      "cell_type": "code",
      "source": [
        "df.select(\"Department\").distinct().show()\n"
      ],
      "metadata": {
        "colab": {
          "base_uri": "https://localhost:8080/"
        },
        "id": "FakSApt6IPQ9",
        "outputId": "ccfd011e-e589-4ecb-a8bb-18dd3b8d501d"
      },
      "execution_count": 6,
      "outputs": [
        {
          "output_type": "stream",
          "name": "stdout",
          "text": [
            "+----------+\n",
            "|Department|\n",
            "+----------+\n",
            "|     Sales|\n",
            "|        HR|\n",
            "|   Finance|\n",
            "| Marketing|\n",
            "|        IT|\n",
            "+----------+\n",
            "\n"
          ]
        }
      ]
    },
    {
      "cell_type": "markdown",
      "source": [
        "Filtering & Sorting"
      ],
      "metadata": {
        "id": "d4RzXgGqIbAU"
      }
    },
    {
      "cell_type": "code",
      "source": [
        "df.filter(df.Department == \"IT\").show()\n"
      ],
      "metadata": {
        "colab": {
          "base_uri": "https://localhost:8080/"
        },
        "id": "_Cd_01mVIPTv",
        "outputId": "a8c82623-9009-49ff-f290-624e66c7e2d7"
      },
      "execution_count": 7,
      "outputs": [
        {
          "output_type": "stream",
          "name": "stdout",
          "text": [
            "+----------+-------------------+---+----------+------+-----------+--------+------------------+\n",
            "|EmployeeID|               Name|Age|Department|Salary|JoiningDate|  Status|              City|\n",
            "+----------+-------------------+---+----------+------+-----------+--------+------------------+\n",
            "|      6598|        Mary Henson| 58|        IT| 63951| 2021-08-25|  Active|       Port Tricia|\n",
            "|      8518|   Elizabeth Abbott| 22|        IT| 91732| 2022-11-05|  Active|       Douglasside|\n",
            "|      9506|        Thomas Dunn| 45|        IT| 90340| 2020-07-12|On Leave|    Lindseychester|\n",
            "|      9663|        Glenn Mason| 43|        IT|109189| 2020-03-27|On Leave|      Katelynburgh|\n",
            "|      2106|     Richard Bailey| 45|        IT| 30950| 2021-06-29|Resigned|        North John|\n",
            "|      8212|      Jacob Jackson| 35|        IT| 54812| 2020-09-18|On Leave|South Veronicastad|\n",
            "|      6354|     Nicole Gilmore| 35|        IT|104202| 2018-05-04|  Active|       East Joseph|\n",
            "|      5716|         David Wang| 49|        IT| 94317| 2016-03-12|Resigned|          Linmouth|\n",
            "|      1181|       Joseph Clark| 33|        IT|117142| 2016-05-31|On Leave|        Carlosfurt|\n",
            "|      8302|      Debra Swanson| 47|        IT| 35236| 2023-10-25|Resigned|     Maciasborough|\n",
            "|      9542|      Jeffrey Frank| 34|        IT| 57182| 2024-01-28|On Leave|          Paulside|\n",
            "|      4100|Christopher Jimenez| 25|        IT| 65524| 2017-03-13|  Active|      North Tamara|\n",
            "|      5780|     Kevin Harrison| 26|        IT| 77259| 2024-03-28|  Active|    New Laurietown|\n",
            "|      5572|    Andrew Harrison| 42|        IT|118992| 2021-12-08|  Active|      West Matthew|\n",
            "|      6388|        Melissa Lee| 49|        IT| 74933| 2016-05-10|  Active|       Barbermouth|\n",
            "|      7984|         Paige Hall| 28|        IT| 67290| 2017-01-29|On Leave|         Jamesfort|\n",
            "|      6043|        Casey Olson| 37|        IT| 80199| 2022-01-27|  Active|         Brianland|\n",
            "|      2817|      Tony Mcdonald| 28|        IT| 92665| 2018-06-21|On Leave|       East Ashley|\n",
            "|      1982|     Jackie Herring| 37|        IT| 65014| 2023-11-13|On Leave|       Michaeltown|\n",
            "|      9259|       Shelly James| 35|        IT|106417| 2018-04-13|On Leave|  Port Laurieburgh|\n",
            "+----------+-------------------+---+----------+------+-----------+--------+------------------+\n",
            "only showing top 20 rows\n",
            "\n"
          ]
        }
      ]
    },
    {
      "cell_type": "code",
      "source": [
        "df.filter((df.Age >= 30) & (df.Age <= 40)).show()\n"
      ],
      "metadata": {
        "colab": {
          "base_uri": "https://localhost:8080/"
        },
        "id": "zpqpWHANIPWj",
        "outputId": "5dcb7f65-6fde-44b1-e803-ccf40ea66ed6"
      },
      "execution_count": 8,
      "outputs": [
        {
          "output_type": "stream",
          "name": "stdout",
          "text": [
            "+----------+------------------+---+----------+------+-----------+--------+-------------------+\n",
            "|EmployeeID|              Name|Age|Department|Salary|JoiningDate|  Status|               City|\n",
            "+----------+------------------+---+----------+------+-----------+--------+-------------------+\n",
            "|      4676|Christopher Fuller| 30|        HR| 63042| 2021-04-30|Resigned|   South Donnaville|\n",
            "|      4136|     Jerome Torres| 30|   Finance| 68213| 2024-11-30|  Active|North Justinborough|\n",
            "|      1588|       Edwin Burns| 34|     Sales|108208| 2015-09-14|Resigned|        South David|\n",
            "|      8074|       Fred Brewer| 30|        HR|100736| 2021-06-06|On Leave|    Port Wendyville|\n",
            "|      3841|       April Allen| 36|        HR| 98845| 2020-05-20|  Active|      Rachelchester|\n",
            "|      8212|     Jacob Jackson| 35|        IT| 54812| 2020-09-18|On Leave| South Veronicastad|\n",
            "|      3325|       Brian Huynh| 40|   Finance| 59924| 2017-01-02|On Leave|           Johnside|\n",
            "|      6180|     Robert Cortez| 35| Marketing| 76109| 2023-12-31|Resigned|    Port Katiemouth|\n",
            "|      6354|    Nicole Gilmore| 35|        IT|104202| 2018-05-04|  Active|        East Joseph|\n",
            "|      6364|       James Hogan| 33|        HR| 79932| 2023-12-05|  Active|     Rodriguezshire|\n",
            "|      6913|   Dustin Williams| 34|   Finance| 91947| 2023-10-16|On Leave|      North Stephen|\n",
            "|      3115|   Benjamin Turner| 38|        HR| 99949| 2018-03-20|Resigned|     West Hollybury|\n",
            "|      7527|      Bobby Henson| 34|   Finance| 47038| 2022-11-24|On Leave|           Dianaton|\n",
            "|      5620|  Christina Reeves| 34|   Finance| 37858| 2024-01-16|On Leave|        Hannahhaven|\n",
            "|      9939|      Karen Hansen| 37|        HR|112082| 2021-07-30|Resigned|           New Tara|\n",
            "|      6509|     Joann Frazier| 38|   Finance| 87736| 2024-01-11|Resigned|  South Sabrinaview|\n",
            "|      6340|     Kenneth Smith| 38|     Sales|115731| 2018-12-29|Resigned|        Lake Sheila|\n",
            "|      1181|      Joseph Clark| 33|        IT|117142| 2016-05-31|On Leave|         Carlosfurt|\n",
            "|      7098|     Hayley Reeves| 38|        HR|115326| 2022-03-26|  Active|          Whiteview|\n",
            "|      9542|     Jeffrey Frank| 34|        IT| 57182| 2024-01-28|On Leave|           Paulside|\n",
            "+----------+------------------+---+----------+------+-----------+--------+-------------------+\n",
            "only showing top 20 rows\n",
            "\n"
          ]
        }
      ]
    },
    {
      "cell_type": "code",
      "source": [
        "df.orderBy(df.Salary.desc()).show()\n"
      ],
      "metadata": {
        "colab": {
          "base_uri": "https://localhost:8080/"
        },
        "id": "xkgbNZg1IPZv",
        "outputId": "ce8c9daf-ea88-426e-a7cd-7b5fcabf3074"
      },
      "execution_count": 9,
      "outputs": [
        {
          "output_type": "stream",
          "name": "stdout",
          "text": [
            "+----------+--------------------+---+----------+------+-----------+--------+-------------------+\n",
            "|EmployeeID|                Name|Age|Department|Salary|JoiningDate|  Status|               City|\n",
            "+----------+--------------------+---+----------+------+-----------+--------+-------------------+\n",
            "|      8860|       Cody Williams| 30|        IT|119978| 2019-03-16|Resigned|         Susanville|\n",
            "|      4585|      Sandra Webster| 30|        HR|119940| 2022-10-21|On Leave|       Thompsonport|\n",
            "|      4667|         Ronald Hunt| 58|     Sales|119677| 2019-08-29|Resigned|    Griffithchester|\n",
            "|      1602|    Deborah Williams| 25|        HR|119397| 2023-09-26|On Leave|    Port Terrimouth|\n",
            "|      3374|        Amanda Green| 41|        HR|119316| 2021-04-08|Resigned|    West Shelleyton|\n",
            "|      6329|       Heidi Shaffer| 36|        HR|119165| 2020-01-14|Resigned|          New Alexa|\n",
            "|      2428|        Mary Stevens| 55|     Sales|119137| 2022-03-06|On Leave|         Travisport|\n",
            "|      1545|Brittany Christensen| 57|   Finance|119038| 2020-10-25|Resigned|        Matthewside|\n",
            "|      2581|    Alexandria Jones| 34|        IT|119009| 2017-01-22|On Leave|           Toniside|\n",
            "|      5572|     Andrew Harrison| 42|        IT|118992| 2021-12-08|  Active|       West Matthew|\n",
            "|      7459|    Abigail Robinson| 23|     Sales|118959| 2021-09-23|  Active|        Leslieville|\n",
            "|      7431|    Richard Mccarthy| 41|        IT|118682| 2025-02-12|On Leave|          Welchview|\n",
            "|      5998|       Bruce Serrano| 36|        HR|118641| 2019-02-02|  Active|    South Elizabeth|\n",
            "|      9714|          Kevin Reid| 37| Marketing|118584| 2015-10-03|  Active|     New Howardfort|\n",
            "|      1143|     Stacey Schwartz| 55|   Finance|118504| 2022-01-24|  Active|Lake Michaelchester|\n",
            "|      3580|         Jamie Baker| 34| Marketing|118225| 2017-07-20|  Active|        Michaelstad|\n",
            "|      9485|        Dennis Rivas| 43| Marketing|118187| 2019-05-26|On Leave|         South Mark|\n",
            "|      1943|          Roy Willis| 41|        HR|118172| 2016-03-05|  Active|     East Daisystad|\n",
            "|      5755|        Erika Ortega| 42|        IT|117517| 2023-04-16|On Leave|          Kellyfort|\n",
            "|      7350|         Jenna Patel| 50| Marketing|117237| 2016-04-11|On Leave|         Port Brian|\n",
            "+----------+--------------------+---+----------+------+-----------+--------+-------------------+\n",
            "only showing top 20 rows\n",
            "\n"
          ]
        }
      ]
    },
    {
      "cell_type": "markdown",
      "source": [
        "Aggregation Tasks"
      ],
      "metadata": {
        "id": "I_KDabN8Iny5"
      }
    },
    {
      "cell_type": "code",
      "source": [
        "from pyspark.sql.functions import avg\n",
        "df.groupBy(\"Department\").agg(avg(\"Salary\").alias(\"AvgSalary\")).show()\n"
      ],
      "metadata": {
        "colab": {
          "base_uri": "https://localhost:8080/"
        },
        "id": "XZpXggMEIPch",
        "outputId": "a58d9aed-a961-4c7a-c531-06230413cb65"
      },
      "execution_count": 10,
      "outputs": [
        {
          "output_type": "stream",
          "name": "stdout",
          "text": [
            "+----------+-----------------+\n",
            "|Department|        AvgSalary|\n",
            "+----------+-----------------+\n",
            "|     Sales|77488.54545454546|\n",
            "|        HR|76091.27450980392|\n",
            "|   Finance|72834.75630252101|\n",
            "| Marketing| 71958.1888888889|\n",
            "|        IT|73116.25555555556|\n",
            "+----------+-----------------+\n",
            "\n"
          ]
        }
      ]
    },
    {
      "cell_type": "code",
      "source": [
        "df.groupBy(\"Status\").count().show()\n"
      ],
      "metadata": {
        "colab": {
          "base_uri": "https://localhost:8080/"
        },
        "id": "Zm0HkWQoIPe3",
        "outputId": "7c8928f5-df11-48be-ed31-0003d7ef7575"
      },
      "execution_count": 11,
      "outputs": [
        {
          "output_type": "stream",
          "name": "stdout",
          "text": [
            "+--------+-----+\n",
            "|  Status|count|\n",
            "+--------+-----+\n",
            "|Resigned|  159|\n",
            "|  Active|  172|\n",
            "|On Leave|  169|\n",
            "+--------+-----+\n",
            "\n"
          ]
        }
      ]
    },
    {
      "cell_type": "code",
      "source": [
        "from pyspark.sql.functions import max\n",
        "df.groupBy(\"City\").agg(max(\"Salary\").alias(\"MaxSalary\")).show()\n"
      ],
      "metadata": {
        "colab": {
          "base_uri": "https://localhost:8080/"
        },
        "id": "F2UXSBYJIPhl",
        "outputId": "175f5ff6-3d66-4c88-f0e4-855d929a5226"
      },
      "execution_count": 12,
      "outputs": [
        {
          "output_type": "stream",
          "name": "stdout",
          "text": [
            "+----------------+---------+\n",
            "|            City|MaxSalary|\n",
            "+----------------+---------+\n",
            "|   Wilsonchester|    67025|\n",
            "|     Bradshawton|   111116|\n",
            "|       Steventon|    32009|\n",
            "|     Lake Alyssa|    84903|\n",
            "|      North Lisa|    57898|\n",
            "|    North Marvin|    66252|\n",
            "|     Jenniferton|    39907|\n",
            "|     Buckleyview|    50109|\n",
            "|     Burtonville|    98492|\n",
            "|    Johnsonmouth|    48799|\n",
            "|    South Joseph|    52456|\n",
            "|  Lindseychester|    90340|\n",
            "|   North Stephen|    91947|\n",
            "|Port Nicoleshire|    57537|\n",
            "|    Jerrychester|    53374|\n",
            "|  North Jennifer|    82486|\n",
            "|      Laurenstad|    44608|\n",
            "|West Brendanbury|    90698|\n",
            "|       Juliaberg|    50170|\n",
            "|       New James|    54378|\n",
            "+----------------+---------+\n",
            "only showing top 20 rows\n",
            "\n"
          ]
        }
      ]
    },
    {
      "cell_type": "markdown",
      "source": [
        "GroupBy and Analysis"
      ],
      "metadata": {
        "id": "IwsUkCFDI1sD"
      }
    },
    {
      "cell_type": "code",
      "source": [
        "from pyspark.sql.functions import year\n",
        "df.withColumn(\"JoiningYear\", year(\"JoiningDate\")).groupBy(\"JoiningYear\").count().show()\n"
      ],
      "metadata": {
        "colab": {
          "base_uri": "https://localhost:8080/"
        },
        "id": "oHaQqzl2IPkS",
        "outputId": "71804503-928c-445b-f8e4-d8777229aaa1"
      },
      "execution_count": 13,
      "outputs": [
        {
          "output_type": "stream",
          "name": "stdout",
          "text": [
            "+-----------+-----+\n",
            "|JoiningYear|count|\n",
            "+-----------+-----+\n",
            "|       2025|   27|\n",
            "|       2018|   52|\n",
            "|       2015|   37|\n",
            "|       2023|   47|\n",
            "|       2022|   49|\n",
            "|       2019|   52|\n",
            "|       2020|   56|\n",
            "|       2016|   49|\n",
            "|       2024|   38|\n",
            "|       2017|   44|\n",
            "|       2021|   49|\n",
            "+-----------+-----+\n",
            "\n"
          ]
        }
      ]
    },
    {
      "cell_type": "code",
      "source": [
        "df.filter(df.Status == \"Active\").groupBy(\"Department\").count().show()\n"
      ],
      "metadata": {
        "colab": {
          "base_uri": "https://localhost:8080/"
        },
        "id": "2N5tjnzYI5LV",
        "outputId": "7f07fd9f-d07a-43b9-fc4d-aa3b5109a181"
      },
      "execution_count": 14,
      "outputs": [
        {
          "output_type": "stream",
          "name": "stdout",
          "text": [
            "+----------+-----+\n",
            "|Department|count|\n",
            "+----------+-----+\n",
            "|     Sales|   32|\n",
            "|        HR|   37|\n",
            "|   Finance|   45|\n",
            "| Marketing|   32|\n",
            "|        IT|   26|\n",
            "+----------+-----+\n",
            "\n"
          ]
        }
      ]
    },
    {
      "cell_type": "code",
      "source": [
        "df.groupBy(\"Department\").agg(avg(\"Age\").alias(\"AvgAge\")).show()\n"
      ],
      "metadata": {
        "colab": {
          "base_uri": "https://localhost:8080/"
        },
        "id": "nJQKlc6FI5OL",
        "outputId": "814a26c1-ed95-4bc3-cb70-1404d2bba40e"
      },
      "execution_count": 15,
      "outputs": [
        {
          "output_type": "stream",
          "name": "stdout",
          "text": [
            "+----------+------------------+\n",
            "|Department|            AvgAge|\n",
            "+----------+------------------+\n",
            "|     Sales|40.535353535353536|\n",
            "|        HR| 41.46078431372549|\n",
            "|   Finance| 39.21008403361345|\n",
            "| Marketing| 41.82222222222222|\n",
            "|        IT| 38.68888888888889|\n",
            "+----------+------------------+\n",
            "\n"
          ]
        }
      ]
    },
    {
      "cell_type": "markdown",
      "source": [
        "Joining (Use another DataFrame for mapping)"
      ],
      "metadata": {
        "id": "xBHsqegGJCjM"
      }
    },
    {
      "cell_type": "code",
      "source": [
        "region_data = [\n",
        "    (\"New York\", \"East\"),\n",
        "    (\"Los Angeles\", \"West\"),\n",
        "    (\"Chicago\", \"Central\"),\n",
        "    (\"Houston\", \"South\"),\n",
        "    (\"San Francisco\", \"West\")\n",
        "]\n",
        "\n",
        "region_columns = [\"City\", \"Region\"]\n",
        "region_df = spark.createDataFrame(region_data, region_columns)\n",
        "\n",
        "# Join\n",
        "df_joined = df.join(region_df, on=\"City\", how=\"left\")\n",
        "df_joined.show()\n"
      ],
      "metadata": {
        "colab": {
          "base_uri": "https://localhost:8080/"
        },
        "id": "VxNjY5piI5RN",
        "outputId": "ed67e029-d644-4c35-b14f-0b19e7a9e2af"
      },
      "execution_count": 16,
      "outputs": [
        {
          "output_type": "stream",
          "name": "stdout",
          "text": [
            "+-------------------+----------+--------------------+---+----------+------+-----------+--------+------+\n",
            "|               City|EmployeeID|                Name|Age|Department|Salary|JoiningDate|  Status|Region|\n",
            "+-------------------+----------+--------------------+---+----------+------+-----------+--------+------+\n",
            "|        East Robert|      6253|         Steven Lane| 47|   Finance| 64982| 2021-07-25|  Active|  NULL|\n",
            "|          Allentown|      4128|     Charles Johnson| 52|        HR| 64039| 2018-07-07|Resigned|  NULL|\n",
            "|         Tonyamouth|      6406|       Patrick Chung| 27|        HR|116423| 2024-07-05|  Active|  NULL|\n",
            "|       Jenniferfurt|      9146|          Brian Ball| 24|     Sales| 87831| 2015-10-01|Resigned|  NULL|\n",
            "|     North Brittany|      8989|       Scott Burnett| 48|     Sales| 93690| 2016-04-25|Resigned|  NULL|\n",
            "|          Gilesstad|      5883| Mr. Ryan Bowman Jr.| 29|   Finance| 64541| 2025-03-11|On Leave|  NULL|\n",
            "|          Port Mark|      3326|       Michael Brown| 28|        HR| 85122| 2023-10-21|Resigned|  NULL|\n",
            "|        West Ashley|      8520|    Emily Washington| 43|   Finance| 33851| 2021-11-30|Resigned|  NULL|\n",
            "|   South Donnaville|      4676|  Christopher Fuller| 30|        HR| 63042| 2021-04-30|Resigned|  NULL|\n",
            "|           Jillport|      7403|    Johnathan Harmon| 50|        HR| 97666| 2021-03-09|On Leave|  NULL|\n",
            "|     Jimenezborough|      1515|        Micheal Wade| 26|        HR| 41771| 2024-03-29|  Active|  NULL|\n",
            "|       Lake Amystad|      1918|       Angela Hooper| 26|   Finance|108773| 2019-08-14|On Leave|  NULL|\n",
            "|        Anthonyfort|      6094|       Dylan Camacho| 57| Marketing| 34686| 2015-08-25|  Active|  NULL|\n",
            "|        Bennettstad|      2758|       Brittany Kerr| 58|     Sales| 71105| 2019-03-24|  Active|  NULL|\n",
            "|       Mcgeechester|      6640|     Isaiah Martinez| 51| Marketing| 72596| 2021-07-26|On Leave|  NULL|\n",
            "|        Caseborough|      1298|     Valerie Fleming| 42| Marketing| 70137| 2019-12-08|Resigned|  NULL|\n",
            "|North Justinborough|      4136|       Jerome Torres| 30|   Finance| 68213| 2024-11-30|  Active|  NULL|\n",
            "|         Russohaven|      4600|Alexander Johnson...| 45|     Sales| 75671| 2016-04-21|On Leave|  NULL|\n",
            "|         New Thomas|      8278|       Riley Johnson| 49|        HR| 43449| 2015-08-03|Resigned|  NULL|\n",
            "|       West Phillip|      5157|     Tracy Hughes MD| 28|   Finance| 34381| 2020-06-01|  Active|  NULL|\n",
            "+-------------------+----------+--------------------+---+----------+------+-----------+--------+------+\n",
            "only showing top 20 rows\n",
            "\n"
          ]
        }
      ]
    },
    {
      "cell_type": "code",
      "source": [
        "df_joined.groupBy(\"Region\").agg(avg(\"Salary\").alias(\"AvgSalary\")).show()\n"
      ],
      "metadata": {
        "colab": {
          "base_uri": "https://localhost:8080/"
        },
        "id": "J4ie1jwrI5Tz",
        "outputId": "4c128f79-7cee-417d-ce8a-ea894c8a9b7e"
      },
      "execution_count": 17,
      "outputs": [
        {
          "output_type": "stream",
          "name": "stdout",
          "text": [
            "+------+---------+\n",
            "|Region|AvgSalary|\n",
            "+------+---------+\n",
            "|  NULL|74313.424|\n",
            "+------+---------+\n",
            "\n"
          ]
        }
      ]
    },
    {
      "cell_type": "markdown",
      "source": [
        "Date Operations"
      ],
      "metadata": {
        "id": "ZI8cFZqXJOtx"
      }
    },
    {
      "cell_type": "code",
      "source": [
        "from pyspark.sql.functions import datediff, current_date\n",
        "\n",
        "df_exp = df.withColumn(\"YearsExperience\", datediff(current_date(), df.JoiningDate) / 365)\n",
        "df_exp.select(\"EmployeeID\", \"Name\", \"YearsExperience\").show()\n"
      ],
      "metadata": {
        "colab": {
          "base_uri": "https://localhost:8080/"
        },
        "id": "Dny5qR5rI5XT",
        "outputId": "84fb1630-62a2-4bb5-d07f-1848a3d83dc6"
      },
      "execution_count": 18,
      "outputs": [
        {
          "output_type": "stream",
          "name": "stdout",
          "text": [
            "+----------+--------------------+-------------------+\n",
            "|EmployeeID|                Name|    YearsExperience|\n",
            "+----------+--------------------+-------------------+\n",
            "|      4128|     Charles Johnson|  6.912328767123288|\n",
            "|      6094|       Dylan Camacho|  9.780821917808218|\n",
            "|      5883| Mr. Ryan Bowman Jr.|0.23013698630136986|\n",
            "|      9146|          Brian Ball|   9.67945205479452|\n",
            "|      1918|       Angela Hooper|  5.808219178082192|\n",
            "|      4600|Alexander Johnson...|  9.123287671232877|\n",
            "|      6253|         Steven Lane| 3.8602739726027395|\n",
            "|      8278|       Riley Johnson|  9.841095890410958|\n",
            "|      8520|    Emily Washington| 3.5095890410958903|\n",
            "|      1298|     Valerie Fleming|   5.49041095890411|\n",
            "|      5157|     Tracy Hughes MD|  5.008219178082192|\n",
            "|      7403|    Johnathan Harmon|  4.238356164383561|\n",
            "|      3326|       Michael Brown| 1.6191780821917807|\n",
            "|      8989|       Scott Burnett|  9.112328767123287|\n",
            "|      4676|  Christopher Fuller|  4.095890410958904|\n",
            "|      6598|         Mary Henson| 3.7753424657534245|\n",
            "|      4136|       Jerome Torres| 0.5068493150684932|\n",
            "|      6640|     Isaiah Martinez| 3.8575342465753426|\n",
            "|      6406|       Patrick Chung| 0.9123287671232877|\n",
            "|      1515|        Micheal Wade|  1.180821917808219|\n",
            "+----------+--------------------+-------------------+\n",
            "only showing top 20 rows\n",
            "\n"
          ]
        }
      ]
    },
    {
      "cell_type": "code",
      "source": [
        "df_exp.filter((datediff(current_date(), df.JoiningDate) / 365) > 5).show()\n"
      ],
      "metadata": {
        "colab": {
          "base_uri": "https://localhost:8080/"
        },
        "id": "iVDgTZrAJSIK",
        "outputId": "7971b26b-7344-4a82-f529-abf302fbbf77"
      },
      "execution_count": 19,
      "outputs": [
        {
          "output_type": "stream",
          "name": "stdout",
          "text": [
            "+----------+--------------------+---+----------+------+-----------+--------+-----------------+------------------+\n",
            "|EmployeeID|                Name|Age|Department|Salary|JoiningDate|  Status|             City|   YearsExperience|\n",
            "+----------+--------------------+---+----------+------+-----------+--------+-----------------+------------------+\n",
            "|      4128|     Charles Johnson| 52|        HR| 64039| 2018-07-07|Resigned|        Allentown| 6.912328767123288|\n",
            "|      6094|       Dylan Camacho| 57| Marketing| 34686| 2015-08-25|  Active|      Anthonyfort| 9.780821917808218|\n",
            "|      9146|          Brian Ball| 24|     Sales| 87831| 2015-10-01|Resigned|     Jenniferfurt|  9.67945205479452|\n",
            "|      1918|       Angela Hooper| 26|   Finance|108773| 2019-08-14|On Leave|     Lake Amystad| 5.808219178082192|\n",
            "|      4600|Alexander Johnson...| 45|     Sales| 75671| 2016-04-21|On Leave|       Russohaven| 9.123287671232877|\n",
            "|      8278|       Riley Johnson| 49|        HR| 43449| 2015-08-03|Resigned|       New Thomas| 9.841095890410958|\n",
            "|      1298|     Valerie Fleming| 42| Marketing| 70137| 2019-12-08|Resigned|      Caseborough|  5.49041095890411|\n",
            "|      5157|     Tracy Hughes MD| 28|   Finance| 34381| 2020-06-01|  Active|     West Phillip| 5.008219178082192|\n",
            "|      8989|       Scott Burnett| 48|     Sales| 93690| 2016-04-25|Resigned|   North Brittany| 9.112328767123287|\n",
            "|      2758|       Brittany Kerr| 58|     Sales| 71105| 2019-03-24|  Active|      Bennettstad|               6.2|\n",
            "|      1588|         Edwin Burns| 34|     Sales|108208| 2015-09-14|Resigned|      South David| 9.726027397260275|\n",
            "|      8729|       Mary Reynolds| 25|     Sales|112515| 2018-07-02|Resigned|    Lake Sethfort| 6.926027397260274|\n",
            "|      2039|           Erin Berg| 42| Marketing| 71886| 2018-04-27|On Leave|   Port Elizabeth|7.1068493150684935|\n",
            "|      8923|         Jason Hines| 59|   Finance| 38955| 2015-11-30|  Active|       Lindaville| 9.515068493150684|\n",
            "|      8423|Christopher Mcdaniel| 59|        HR|116819| 2015-06-03|  Active|     South Joshua|10.008219178082191|\n",
            "|      3841|         April Allen| 36|        HR| 98845| 2020-05-20|  Active|    Rachelchester| 5.041095890410959|\n",
            "|      9663|         Glenn Mason| 43|        IT|109189| 2020-03-27|On Leave|     Katelynburgh| 5.189041095890411|\n",
            "|      6257|      Victoria Kelly| 57|   Finance| 65204| 2017-10-01|  Active|South Amandamouth| 7.676712328767123|\n",
            "|      6706|     Michael Trevino| 24| Marketing| 63953| 2020-05-13|Resigned|        Lisaburgh|  5.06027397260274|\n",
            "|      6580|      Heather Nelson| 48|     Sales| 91699| 2015-06-03|Resigned|      Ronaldville|10.008219178082191|\n",
            "+----------+--------------------+---+----------+------+-----------+--------+-----------------+------------------+\n",
            "only showing top 20 rows\n",
            "\n"
          ]
        }
      ]
    }
  ]
}