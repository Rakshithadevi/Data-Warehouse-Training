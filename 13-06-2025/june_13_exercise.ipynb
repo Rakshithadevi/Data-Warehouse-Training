{
  "nbformat": 4,
  "nbformat_minor": 0,
  "metadata": {
    "colab": {
      "provenance": []
    },
    "kernelspec": {
      "name": "python3",
      "display_name": "Python 3"
    },
    "language_info": {
      "name": "python"
    }
  },
  "cells": [
    {
      "cell_type": "code",
      "execution_count": 2,
      "metadata": {
        "id": "7UIdXKlKbr2a"
      },
      "outputs": [],
      "source": [
        "from pyspark.sql import SparkSession\n",
        "from pyspark.sql.functions import avg, count\n",
        "\n",
        "spark = SparkSession.builder \\\n",
        "    .appName(\"Customer Orders Analysis\") \\\n",
        "    .getOrCreate()\n",
        "\n",
        "df_customers = spark.read.csv(\"customers(1).csv\", header=True, inferSchema=True)\n",
        "df_orders = spark.read.csv(\"orders(1).csv\", header=True, inferSchema=True)"
      ]
    },
    {
      "cell_type": "code",
      "source": [
        "df_customers.printSchema()\n",
        "df_customers.show()\n",
        "df_orders.printSchema()\n",
        "df_orders.show()"
      ],
      "metadata": {
        "colab": {
          "base_uri": "https://localhost:8080/"
        },
        "id": "96Ae3zYGdUWQ",
        "outputId": "8681edba-e8fe-418d-e04c-fb6d8aa9dea6"
      },
      "execution_count": 3,
      "outputs": [
        {
          "output_type": "stream",
          "name": "stdout",
          "text": [
            "root\n",
            " |-- CustomerID: integer (nullable = true)\n",
            " |-- Name: string (nullable = true)\n",
            " |-- City: string (nullable = true)\n",
            " |-- Age: integer (nullable = true)\n",
            "\n",
            "+----------+-----+---------+---+\n",
            "|CustomerID| Name|     City|Age|\n",
            "+----------+-----+---------+---+\n",
            "|       101|Aditi|   Mumbai| 28|\n",
            "|       102|Rohan|    Delhi| 35|\n",
            "|       103|Meena|Bangalore| 41|\n",
            "|       104|Kabir|Hyderabad| 30|\n",
            "|       105| Zoya|  Chennai| 25|\n",
            "+----------+-----+---------+---+\n",
            "\n",
            "root\n",
            " |-- OrderID: integer (nullable = true)\n",
            " |-- CustomerID: integer (nullable = true)\n",
            " |-- Product: string (nullable = true)\n",
            " |-- Quantity: integer (nullable = true)\n",
            " |-- Price: integer (nullable = true)\n",
            " |-- OrderDate: date (nullable = true)\n",
            "\n",
            "+-------+----------+-------+--------+-----+----------+\n",
            "|OrderID|CustomerID|Product|Quantity|Price| OrderDate|\n",
            "+-------+----------+-------+--------+-----+----------+\n",
            "|   1001|       101| Laptop|       1|70000|2024-01-05|\n",
            "|   1002|       102| Mobile|       2|25000|2024-02-10|\n",
            "|   1003|       103|   Desk|       1|10000|2024-03-15|\n",
            "|   1004|       101|  Mouse|       3| 1000|2024-04-01|\n",
            "|   1005|       104|Monitor|       1|12000|2024-04-25|\n",
            "+-------+----------+-------+--------+-----+----------+\n",
            "\n"
          ]
        }
      ]
    },
    {
      "cell_type": "code",
      "source": [
        "from pyspark.sql.functions import col\n",
        "df_orders=df_orders.withColumn(\"total_amount\", col(\"Quantity\")*col(\"Price\"))"
      ],
      "metadata": {
        "id": "QfbF3qoEdUZH"
      },
      "execution_count": 6,
      "outputs": []
    },
    {
      "cell_type": "code",
      "source": [
        "df_joined=df_orders.join(df_customers,on=\"CustomerID\")"
      ],
      "metadata": {
        "id": "K1SPPpERdUb1"
      },
      "execution_count": 9,
      "outputs": []
    },
    {
      "cell_type": "code",
      "source": [
        "df_high_value = df_joined.filter(col(\"total_amount\") > 20000)\n",
        "df_high_value.show()\n"
      ],
      "metadata": {
        "colab": {
          "base_uri": "https://localhost:8080/"
        },
        "id": "EHtVCOjVfPhK",
        "outputId": "00495ff0-6f6b-447c-d629-d4574077396e"
      },
      "execution_count": 13,
      "outputs": [
        {
          "output_type": "stream",
          "name": "stdout",
          "text": [
            "+----------+-------+-------+--------+-----+----------+------------+-----+------+---+\n",
            "|CustomerID|OrderID|Product|Quantity|Price| OrderDate|total_amount| Name|  City|Age|\n",
            "+----------+-------+-------+--------+-----+----------+------------+-----+------+---+\n",
            "|       101|   1001| Laptop|       1|70000|2024-01-05|       70000|Aditi|Mumbai| 28|\n",
            "|       102|   1002| Mobile|       2|25000|2024-02-10|       50000|Rohan| Delhi| 35|\n",
            "+----------+-------+-------+--------+-----+----------+------------+-----+------+---+\n",
            "\n"
          ]
        }
      ]
    },
    {
      "cell_type": "code",
      "source": [
        "df_orders.groupBy(\"CustomerID\").count().filter(\"count > 1\").show()"
      ],
      "metadata": {
        "colab": {
          "base_uri": "https://localhost:8080/"
        },
        "id": "J75IAi2RdUhf",
        "outputId": "0779cd20-f058-4476-9583-3d6abbf27491"
      },
      "execution_count": 14,
      "outputs": [
        {
          "output_type": "stream",
          "name": "stdout",
          "text": [
            "+----------+-----+\n",
            "|CustomerID|count|\n",
            "+----------+-----+\n",
            "|       101|    2|\n",
            "+----------+-----+\n",
            "\n"
          ]
        }
      ]
    },
    {
      "cell_type": "code",
      "source": [
        "df_joined.groupBy(\"City\").agg(avg(\"total_amount\").alias(\"AvgOrderValue\")).show()"
      ],
      "metadata": {
        "colab": {
          "base_uri": "https://localhost:8080/"
        },
        "id": "Q_rqeIj0dUk3",
        "outputId": "f08bc5e9-b00a-43ca-a9ea-e1c29cbe3d12"
      },
      "execution_count": 16,
      "outputs": [
        {
          "output_type": "stream",
          "name": "stdout",
          "text": [
            "+---------+-------------+\n",
            "|     City|AvgOrderValue|\n",
            "+---------+-------------+\n",
            "|Bangalore|      10000.0|\n",
            "|   Mumbai|      36500.0|\n",
            "|    Delhi|      50000.0|\n",
            "|Hyderabad|      12000.0|\n",
            "+---------+-------------+\n",
            "\n"
          ]
        }
      ]
    },
    {
      "cell_type": "code",
      "source": [
        "df_joined.orderBy(col(\"OrderDate\").desc()).show()"
      ],
      "metadata": {
        "colab": {
          "base_uri": "https://localhost:8080/"
        },
        "id": "GjUx6GFif7mA",
        "outputId": "58e4c693-39d5-4f23-a26d-c3b715666182"
      },
      "execution_count": 17,
      "outputs": [
        {
          "output_type": "stream",
          "name": "stdout",
          "text": [
            "+----------+-------+-------+--------+-----+----------+------------+-----+---------+---+\n",
            "|CustomerID|OrderID|Product|Quantity|Price| OrderDate|total_amount| Name|     City|Age|\n",
            "+----------+-------+-------+--------+-----+----------+------------+-----+---------+---+\n",
            "|       104|   1005|Monitor|       1|12000|2024-04-25|       12000|Kabir|Hyderabad| 30|\n",
            "|       101|   1004|  Mouse|       3| 1000|2024-04-01|        3000|Aditi|   Mumbai| 28|\n",
            "|       103|   1003|   Desk|       1|10000|2024-03-15|       10000|Meena|Bangalore| 41|\n",
            "|       102|   1002| Mobile|       2|25000|2024-02-10|       50000|Rohan|    Delhi| 35|\n",
            "|       101|   1001| Laptop|       1|70000|2024-01-05|       70000|Aditi|   Mumbai| 28|\n",
            "+----------+-------+-------+--------+-----+----------+------------+-----+---------+---+\n",
            "\n"
          ]
        }
      ]
    },
    {
      "cell_type": "code",
      "source": [
        "df_joined.write.mode(\"overwrite\").partitionBy(\"City\").parquet(\"/content/customer_orders_parquet\")\n"
      ],
      "metadata": {
        "id": "MoTnc8gTf7pW"
      },
      "execution_count": 18,
      "outputs": []
    },
    {
      "cell_type": "code",
      "source": [
        "df_joined.createOrReplaceTempView(\"customer_orders\")"
      ],
      "metadata": {
        "id": "qNFF5UKgf7r6"
      },
      "execution_count": 19,
      "outputs": []
    },
    {
      "cell_type": "code",
      "source": [
        "from pyspark.sql.functions import col, expr, count, avg, sum, desc\n",
        "from pyspark.sql.types import IntegerType\n",
        "from pyspark.sql import SparkSession\n",
        "\n",
        "spark.sql(\"\"\"\n",
        "SELECT Name, SUM(total_amount) as TotalSales\n",
        "FROM customer_orders\n",
        "GROUP BY Name\n",
        "ORDER BY TotalSales DESC\n",
        "\"\"\").show()"
      ],
      "metadata": {
        "colab": {
          "base_uri": "https://localhost:8080/"
        },
        "id": "3kehEEpCf7va",
        "outputId": "22313021-d907-43d7-85f7-3c67dd8053f3"
      },
      "execution_count": 23,
      "outputs": [
        {
          "output_type": "stream",
          "name": "stdout",
          "text": [
            "+-----+----------+\n",
            "| Name|TotalSales|\n",
            "+-----+----------+\n",
            "|Aditi|     73000|\n",
            "|Rohan|     50000|\n",
            "|Kabir|     12000|\n",
            "|Meena|     10000|\n",
            "+-----+----------+\n",
            "\n"
          ]
        }
      ]
    },
    {
      "cell_type": "code",
      "source": [
        "spark.sql(\"\"\"\n",
        "SELECT City, COUNT(Product) as ProductCount\n",
        "FROM customer_orders\n",
        "GROUP BY City\n",
        "\"\"\").show()\n"
      ],
      "metadata": {
        "colab": {
          "base_uri": "https://localhost:8080/"
        },
        "id": "vt3TmbvgiomK",
        "outputId": "37809787-16d7-468e-9da9-aafd2d4f0ad8"
      },
      "execution_count": 24,
      "outputs": [
        {
          "output_type": "stream",
          "name": "stdout",
          "text": [
            "+---------+------------+\n",
            "|     City|ProductCount|\n",
            "+---------+------------+\n",
            "|Bangalore|           1|\n",
            "|   Mumbai|           2|\n",
            "|    Delhi|           1|\n",
            "|Hyderabad|           1|\n",
            "+---------+------------+\n",
            "\n"
          ]
        }
      ]
    },
    {
      "cell_type": "code",
      "source": [
        "spark.sql(\"\"\"\n",
        "SELECT City, SUM(total_amount) as Revenue\n",
        "FROM customer_orders\n",
        "GROUP BY City\n",
        "ORDER BY Revenue DESC\n",
        "LIMIT 2\n",
        "\"\"\").show()"
      ],
      "metadata": {
        "colab": {
          "base_uri": "https://localhost:8080/"
        },
        "id": "PkBQXqHFiook",
        "outputId": "1ace7df4-079b-4062-b01b-b093487ccb18"
      },
      "execution_count": 26,
      "outputs": [
        {
          "output_type": "stream",
          "name": "stdout",
          "text": [
            "+------+-------+\n",
            "|  City|Revenue|\n",
            "+------+-------+\n",
            "|Mumbai|  73000|\n",
            "| Delhi|  50000|\n",
            "+------+-------+\n",
            "\n"
          ]
        }
      ]
    },
    {
      "cell_type": "code",
      "source": [],
      "metadata": {
        "id": "_TdpBY6LiosH"
      },
      "execution_count": null,
      "outputs": []
    }
  ]
}