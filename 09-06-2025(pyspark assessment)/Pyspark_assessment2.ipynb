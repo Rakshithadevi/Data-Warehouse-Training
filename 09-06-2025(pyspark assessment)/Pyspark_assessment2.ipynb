{
  "nbformat": 4,
  "nbformat_minor": 0,
  "metadata": {
    "colab": {
      "provenance": []
    },
    "kernelspec": {
      "name": "python3",
      "display_name": "Python 3"
    },
    "language_info": {
      "name": "python"
    }
  },
  "cells": [
    {
      "cell_type": "code",
      "execution_count": 1,
      "metadata": {
        "id": "bT-99DtaAzoN"
      },
      "outputs": [],
      "source": [
        "from pyspark.sql import SparkSession\n",
        "from pyspark.sql.functions import *\n",
        "\n",
        "spark = SparkSession.builder.appName(\"HRAnalytics\").getOrCreate()"
      ]
    },
    {
      "cell_type": "code",
      "source": [
        "from google.colab import drive\n",
        "drive.mount('/content/drive')\n",
        "employees_df = spark.read.csv(\"/content/drive/MyDrive/employees.csv\", header=True, inferSchema=True)\n",
        "attendance_df= spark.read.csv(\"/content/drive/MyDrive/attendance.csv\", header=True, inferSchema=True)\n",
        "bonuses_df = spark.read.json(\"/content/drive/MyDrive/bonuses.json\", multiLine=True)\n"
      ],
      "metadata": {
        "colab": {
          "base_uri": "https://localhost:8080/"
        },
        "id": "8oWN3yzwBSKc",
        "outputId": "0429f501-82a4-4a5a-cfec-7842fcda4bee"
      },
      "execution_count": 17,
      "outputs": [
        {
          "output_type": "stream",
          "name": "stdout",
          "text": [
            "Drive already mounted at /content/drive; to attempt to forcibly remount, call drive.mount(\"/content/drive\", force_remount=True).\n"
          ]
        }
      ]
    },
    {
      "cell_type": "markdown",
      "source": [
        "1. Ingestion & Exploration"
      ],
      "metadata": {
        "id": "EZYK_1BnCtS6"
      }
    },
    {
      "cell_type": "code",
      "source": [
        "employees_df.printSchema()\n",
        "employees_df.show()\n",
        "attendance_df.printSchema()\n",
        "attendance_df.show()\n",
        "bonuses_df.printSchema()\n",
        "bonuses_df.show()"
      ],
      "metadata": {
        "colab": {
          "base_uri": "https://localhost:8080/"
        },
        "id": "3_2FtDhSCm8V",
        "outputId": "4c6c78ab-9597-45b2-ffb3-634eb5227a94"
      },
      "execution_count": 18,
      "outputs": [
        {
          "output_type": "stream",
          "name": "stdout",
          "text": [
            "root\n",
            " |-- EmpID: integer (nullable = true)\n",
            " |-- Name: string (nullable = true)\n",
            " |-- Department: string (nullable = true)\n",
            " |-- JoinDate: date (nullable = true)\n",
            " |-- Salary: integer (nullable = true)\n",
            " |-- ManagerID: double (nullable = true)\n",
            "\n",
            "+-----+------+-----------+----------+------+---------+\n",
            "|EmpID|  Name| Department|  JoinDate|Salary|ManagerID|\n",
            "+-----+------+-----------+----------+------+---------+\n",
            "|    1| Anita|         HR|2021-05-01| 55000|     NULL|\n",
            "|    2|   Raj|Engineering|2020-03-15| 80000|      1.0|\n",
            "|    3|Simran|Engineering|2022-07-10| 75000|      1.0|\n",
            "|    4| Aamir|  Marketing|2019-11-20| 60000|      1.0|\n",
            "|    5| Nisha|         HR|2023-01-05| 50000|      1.0|\n",
            "+-----+------+-----------+----------+------+---------+\n",
            "\n",
            "root\n",
            " |-- EmpID: integer (nullable = true)\n",
            " |-- Date: date (nullable = true)\n",
            " |-- Status: string (nullable = true)\n",
            "\n",
            "+-----+----------+-------+\n",
            "|EmpID|      Date| Status|\n",
            "+-----+----------+-------+\n",
            "|    1|2024-04-01|Present|\n",
            "|    1|2024-04-02|Present|\n",
            "|    2|2024-04-01| Absent|\n",
            "|    2|2024-04-02|Present|\n",
            "|    3|2024-04-01|Present|\n",
            "|    3|2024-04-02|Present|\n",
            "|    4|2024-04-01| Absent|\n",
            "|    4|2024-04-02| Absent|\n",
            "|    5|2024-04-01|Present|\n",
            "|    5|2024-04-02|Present|\n",
            "+-----+----------+-------+\n",
            "\n",
            "root\n",
            " |-- Bonus: long (nullable = true)\n",
            " |-- EmpID: long (nullable = true)\n",
            " |-- Year: long (nullable = true)\n",
            "\n",
            "+-----+-----+----+\n",
            "|Bonus|EmpID|Year|\n",
            "+-----+-----+----+\n",
            "| 5000|    1|2023|\n",
            "| 7000|    2|2023|\n",
            "| 6500|    3|2023|\n",
            "| 6000|    4|2023|\n",
            "| 4000|    5|2023|\n",
            "+-----+-----+----+\n",
            "\n"
          ]
        }
      ]
    },
    {
      "cell_type": "code",
      "source": [
        "employees_df.select(\"Department\").distinct().count()"
      ],
      "metadata": {
        "colab": {
          "base_uri": "https://localhost:8080/"
        },
        "id": "360hZw5uCyZM",
        "outputId": "02716815-696a-43c7-d93f-9a8b21f39473"
      },
      "execution_count": 5,
      "outputs": [
        {
          "output_type": "execute_result",
          "data": {
            "text/plain": [
              "3"
            ]
          },
          "metadata": {},
          "execution_count": 5
        }
      ]
    },
    {
      "cell_type": "markdown",
      "source": [
        "2. DataFrame Operations"
      ],
      "metadata": {
        "id": "tu75Y-b2DM5x"
      }
    },
    {
      "cell_type": "code",
      "source": [
        "from pyspark.sql.functions import current_date, datediff, round\n",
        "employees_df = employees_df.withColumn(\"TenureYears\", round(datediff(current_date(), col(\"JoinDate\")) / 365, 2))"
      ],
      "metadata": {
        "id": "SOhL6F2uCycH"
      },
      "execution_count": 6,
      "outputs": []
    },
    {
      "cell_type": "code",
      "source": [
        "employees_with_bonus = employees_df.join(bonuses_df, \"EmpID\", \"left\")\n",
        "employees_with_bonus = employees_with_bonus.withColumn(\"TotalCompensation\", col(\"Salary\") + col(\"Bonus\"))\n"
      ],
      "metadata": {
        "id": "GdDdpCrCCyfR"
      },
      "execution_count": 7,
      "outputs": []
    },
    {
      "cell_type": "code",
      "source": [
        "employees_with_bonus.filter(col(\"TenureYears\") > 2).show()"
      ],
      "metadata": {
        "colab": {
          "base_uri": "https://localhost:8080/"
        },
        "id": "NTbPKlekCyjH",
        "outputId": "d97d9196-83a7-4bef-dcaa-e465cea6c2f9"
      },
      "execution_count": 8,
      "outputs": [
        {
          "output_type": "stream",
          "name": "stdout",
          "text": [
            "+-----+------+-----------+----------+------+---------+-----------+-----+----+-----------------+\n",
            "|EmpID|  Name| Department|  JoinDate|Salary|ManagerID|TenureYears|Bonus|Year|TotalCompensation|\n",
            "+-----+------+-----------+----------+------+---------+-----------+-----+----+-----------------+\n",
            "|    1| Anita|         HR|2021-05-01| 55000|     NULL|       4.11| 5000|2023|            60000|\n",
            "|    2|   Raj|Engineering|2020-03-15| 80000|      1.0|       5.24| 7000|2023|            87000|\n",
            "|    3|Simran|Engineering|2022-07-10| 75000|      1.0|       2.92| 6500|2023|            81500|\n",
            "|    4| Aamir|  Marketing|2019-11-20| 60000|      1.0|       5.56| 6000|2023|            66000|\n",
            "|    5| Nisha|         HR|2023-01-05| 50000|      1.0|       2.43| 4000|2023|            54000|\n",
            "+-----+------+-----------+----------+------+---------+-----------+-----+----+-----------------+\n",
            "\n"
          ]
        }
      ]
    },
    {
      "cell_type": "code",
      "source": [
        "employees_with_bonus.filter(col(\"ManagerID\").isNotNull()).show()"
      ],
      "metadata": {
        "colab": {
          "base_uri": "https://localhost:8080/"
        },
        "id": "S6K3MSGqCymE",
        "outputId": "b40a9a5d-0cbd-4c35-fe33-2906f58b0712"
      },
      "execution_count": 9,
      "outputs": [
        {
          "output_type": "stream",
          "name": "stdout",
          "text": [
            "+-----+------+-----------+----------+------+---------+-----------+-----+----+-----------------+\n",
            "|EmpID|  Name| Department|  JoinDate|Salary|ManagerID|TenureYears|Bonus|Year|TotalCompensation|\n",
            "+-----+------+-----------+----------+------+---------+-----------+-----+----+-----------------+\n",
            "|    2|   Raj|Engineering|2020-03-15| 80000|      1.0|       5.24| 7000|2023|            87000|\n",
            "|    3|Simran|Engineering|2022-07-10| 75000|      1.0|       2.92| 6500|2023|            81500|\n",
            "|    4| Aamir|  Marketing|2019-11-20| 60000|      1.0|       5.56| 6000|2023|            66000|\n",
            "|    5| Nisha|         HR|2023-01-05| 50000|      1.0|       2.43| 4000|2023|            54000|\n",
            "+-----+------+-----------+----------+------+---------+-----------+-----+----+-----------------+\n",
            "\n"
          ]
        }
      ]
    },
    {
      "cell_type": "markdown",
      "source": [
        "3. Aggregation"
      ],
      "metadata": {
        "id": "s2nWxq5wDkpb"
      }
    },
    {
      "cell_type": "code",
      "source": [
        "employees_df.groupBy(\"Department\").agg(avg(\"Salary\").alias(\"AvgSalary\")).show()\n"
      ],
      "metadata": {
        "colab": {
          "base_uri": "https://localhost:8080/"
        },
        "id": "6c4y07VJCysT",
        "outputId": "c907d880-2c50-477d-cf14-cfc91b24f2db"
      },
      "execution_count": 11,
      "outputs": [
        {
          "output_type": "stream",
          "name": "stdout",
          "text": [
            "+-----------+---------+\n",
            "| Department|AvgSalary|\n",
            "+-----------+---------+\n",
            "|Engineering|  77500.0|\n",
            "|         HR|  52500.0|\n",
            "|  Marketing|  60000.0|\n",
            "+-----------+---------+\n",
            "\n"
          ]
        }
      ]
    },
    {
      "cell_type": "code",
      "source": [
        "employees_df.groupBy(\"ManagerID\").count().show()"
      ],
      "metadata": {
        "colab": {
          "base_uri": "https://localhost:8080/"
        },
        "id": "dNGgqGlDIwdG",
        "outputId": "ba66d8be-5e59-4621-e448-75638810fd5a"
      },
      "execution_count": 12,
      "outputs": [
        {
          "output_type": "stream",
          "name": "stdout",
          "text": [
            "+---------+-----+\n",
            "|ManagerID|count|\n",
            "+---------+-----+\n",
            "|     NULL|    1|\n",
            "|      1.0|    4|\n",
            "+---------+-----+\n",
            "\n"
          ]
        }
      ]
    },
    {
      "cell_type": "code",
      "source": [
        "attendance_df.filter(col(\"Status\") == \"Absent\") \\\n",
        "    .groupBy(\"EmpID\").count().withColumnRenamed(\"count\", \"AbsenceCount\").show()"
      ],
      "metadata": {
        "colab": {
          "base_uri": "https://localhost:8080/"
        },
        "id": "D3rEtt8nIwf1",
        "outputId": "eb91aa00-6526-4699-e8a1-6bfdb32102b7"
      },
      "execution_count": 19,
      "outputs": [
        {
          "output_type": "stream",
          "name": "stdout",
          "text": [
            "+-----+------------+\n",
            "|EmpID|AbsenceCount|\n",
            "+-----+------------+\n",
            "|    4|           2|\n",
            "|    2|           1|\n",
            "+-----+------------+\n",
            "\n"
          ]
        }
      ]
    },
    {
      "cell_type": "markdown",
      "source": [
        "4. Joins"
      ],
      "metadata": {
        "id": "HGUeKpXiKSt0"
      }
    },
    {
      "cell_type": "code",
      "source": [
        "attendance_summary = attendance_df.groupBy(\"EmpID\", \"Status\").count() \\\n",
        "    .groupBy(\"EmpID\") \\\n",
        "    .pivot(\"Status\", [\"Present\", \"Absent\"]) \\\n",
        "    .sum(\"count\") \\\n",
        "    .fillna(0)"
      ],
      "metadata": {
        "id": "43GOy7TzIwiP"
      },
      "execution_count": 20,
      "outputs": []
    },
    {
      "cell_type": "code",
      "source": [
        "attendance_summary = attendance_summary.withColumn(\"AttendancePercent\", round(col(\"Present\") / (col(\"Present\") + col(\"Absent\")) * 100, 2))\n",
        "attendance_summary.show()\n"
      ],
      "metadata": {
        "colab": {
          "base_uri": "https://localhost:8080/"
        },
        "id": "qJHvyiafIwkl",
        "outputId": "fdf62339-5137-4c01-eb32-5ab5edef9b42"
      },
      "execution_count": 22,
      "outputs": [
        {
          "output_type": "stream",
          "name": "stdout",
          "text": [
            "+-----+-------+------+-----------------+\n",
            "|EmpID|Present|Absent|AttendancePercent|\n",
            "+-----+-------+------+-----------------+\n",
            "|    1|      2|     0|            100.0|\n",
            "|    3|      2|     0|            100.0|\n",
            "|    5|      2|     0|            100.0|\n",
            "|    4|      0|     2|              0.0|\n",
            "|    2|      1|     1|             50.0|\n",
            "+-----+-------+------+-----------------+\n",
            "\n"
          ]
        }
      ]
    },
    {
      "cell_type": "code",
      "source": [
        "employees_with_bonus.orderBy(col(\"TotalCompensation\").desc()).select(\"EmpID\", \"Name\", \"TotalCompensation\").show(3)"
      ],
      "metadata": {
        "colab": {
          "base_uri": "https://localhost:8080/"
        },
        "id": "I-gxgjvNIwn5",
        "outputId": "4818c3a9-b9aa-42ef-ce00-24b9115c4fff"
      },
      "execution_count": 23,
      "outputs": [
        {
          "output_type": "stream",
          "name": "stdout",
          "text": [
            "+-----+------+-----------------+\n",
            "|EmpID|  Name|TotalCompensation|\n",
            "+-----+------+-----------------+\n",
            "|    2|   Raj|            87000|\n",
            "|    3|Simran|            81500|\n",
            "|    4| Aamir|            66000|\n",
            "+-----+------+-----------------+\n",
            "only showing top 3 rows\n",
            "\n"
          ]
        }
      ]
    },
    {
      "cell_type": "code",
      "source": [
        "multi_join_df = employees_df.join(bonuses_df, \"EmpID\").join(attendance_summary, \"EmpID\")\n",
        "multi_join_df.show()"
      ],
      "metadata": {
        "colab": {
          "base_uri": "https://localhost:8080/"
        },
        "id": "IEUtrXLhKqaf",
        "outputId": "cc8ed912-3bc9-416d-aa4b-38268fe3aa1f"
      },
      "execution_count": 24,
      "outputs": [
        {
          "output_type": "stream",
          "name": "stdout",
          "text": [
            "+-----+------+-----------+----------+------+---------+-----+----+-------+------+-----------------+\n",
            "|EmpID|  Name| Department|  JoinDate|Salary|ManagerID|Bonus|Year|Present|Absent|AttendancePercent|\n",
            "+-----+------+-----------+----------+------+---------+-----+----+-------+------+-----------------+\n",
            "|    1| Anita|         HR|2021-05-01| 55000|     NULL| 5000|2023|      2|     0|            100.0|\n",
            "|    2|   Raj|Engineering|2020-03-15| 80000|      1.0| 7000|2023|      1|     1|             50.0|\n",
            "|    3|Simran|Engineering|2022-07-10| 75000|      1.0| 6500|2023|      2|     0|            100.0|\n",
            "|    4| Aamir|  Marketing|2019-11-20| 60000|      1.0| 6000|2023|      0|     2|              0.0|\n",
            "|    5| Nisha|         HR|2023-01-05| 50000|      1.0| 4000|2023|      2|     0|            100.0|\n",
            "+-----+------+-----------+----------+------+---------+-----+----+-------+------+-----------------+\n",
            "\n"
          ]
        }
      ]
    },
    {
      "cell_type": "markdown",
      "source": [
        "5. String & Date Functions"
      ],
      "metadata": {
        "id": "HBZ9ntemKu6G"
      }
    },
    {
      "cell_type": "code",
      "source": [
        "employees_df = employees_df.withColumn(\"JoinYear\", year(\"JoinDate\")) \\\n",
        "                           .withColumn(\"JoinMonth\", month(\"JoinDate\"))\n"
      ],
      "metadata": {
        "id": "W3sUX1ciKqeA"
      },
      "execution_count": 25,
      "outputs": []
    },
    {
      "cell_type": "code",
      "source": [
        "employees_df = employees_df.withColumn(\"MaskedName\", regexp_replace(\"Name\", \".\", \"*\"))"
      ],
      "metadata": {
        "id": "t_EL8n3zKyCU"
      },
      "execution_count": 26,
      "outputs": []
    },
    {
      "cell_type": "code",
      "source": [
        "employees_df = employees_df.withColumn(\"EmpCode\", concat(lit(\"EMP\"), lpad(col(\"EmpID\").cast(\"string\"), 3, \"0\")))\n",
        "employees_df.select(\"EmpID\", \"Name\", \"MaskedName\", \"EmpCode\").show()"
      ],
      "metadata": {
        "colab": {
          "base_uri": "https://localhost:8080/"
        },
        "id": "AIuhaks1KyEp",
        "outputId": "5beceb3c-1f62-4477-ab06-b530437992c4"
      },
      "execution_count": 27,
      "outputs": [
        {
          "output_type": "stream",
          "name": "stdout",
          "text": [
            "+-----+------+----------+-------+\n",
            "|EmpID|  Name|MaskedName|EmpCode|\n",
            "+-----+------+----------+-------+\n",
            "|    1| Anita|     *****| EMP001|\n",
            "|    2|   Raj|       ***| EMP002|\n",
            "|    3|Simran|    ******| EMP003|\n",
            "|    4| Aamir|     *****| EMP004|\n",
            "|    5| Nisha|     *****| EMP005|\n",
            "+-----+------+----------+-------+\n",
            "\n"
          ]
        }
      ]
    },
    {
      "cell_type": "markdown",
      "source": [
        "6. Conditional & Null Handling"
      ],
      "metadata": {
        "id": "ewdzmFawL2r3"
      }
    },
    {
      "cell_type": "code",
      "source": [
        "bonuses_df = bonuses_df.withColumn(\"Performance\", when(col(\"Bonus\") > 6000, \"High\")\n",
        "                                   .when(col(\"Bonus\").between(4000, 6000), \"Medium\")\n",
        "                                   .otherwise(\"Low\"))\n",
        "\n"
      ],
      "metadata": {
        "id": "rG2z36DFKyH_"
      },
      "execution_count": 28,
      "outputs": []
    },
    {
      "cell_type": "code",
      "source": [
        "employees_df = employees_df.fillna({\"ManagerID\": \"No Manager\"})\n"
      ],
      "metadata": {
        "id": "rl39TIinL8fg"
      },
      "execution_count": 29,
      "outputs": []
    },
    {
      "cell_type": "markdown",
      "source": [
        "7. Spark SQL"
      ],
      "metadata": {
        "id": "Is-Lrxm9L_om"
      }
    },
    {
      "cell_type": "code",
      "source": [
        "spark.sql(\"CREATE DATABASE IF NOT EXISTS hr\")\n",
        "spark.catalog.setCurrentDatabase(\"hr\")\n",
        "employees_df.write.mode(\"overwrite\").saveAsTable(\"employees\")\n",
        "attendance_df.write.mode(\"overwrite\").saveAsTable(\"attendance\")\n",
        "bonuses_df.write.mode(\"overwrite\").saveAsTable(\"bonuses\")\n"
      ],
      "metadata": {
        "id": "6YQ2qK06MBiC"
      },
      "execution_count": 31,
      "outputs": []
    },
    {
      "cell_type": "code",
      "source": [
        "spark.sql(\"\"\"\n",
        "SELECT Department, Name, MAX(Salary) as TopSalary\n",
        "FROM employees\n",
        "GROUP BY Department, Name\n",
        "ORDER BY Department\n",
        "\"\"\").show()\n",
        "\n",
        "spark.sql(\"\"\"\n",
        "SELECT e.Department, ROUND(AVG(CASE WHEN a.Status = 'Present' THEN 1 ELSE 0 END)/COUNT(*), 2) AS AttendanceRate\n",
        "FROM employees e\n",
        "JOIN attendance a ON e.EmpID = a.EmpID\n",
        "GROUP BY e.Department\n",
        "\"\"\").show()\n",
        "\n",
        "spark.sql(\"\"\"\n",
        "SELECT * FROM employees\n",
        "WHERE JoinDate > '2021-01-01' AND Salary > 70000\n",
        "\"\"\").show()"
      ],
      "metadata": {
        "colab": {
          "base_uri": "https://localhost:8080/"
        },
        "id": "YQt9-DYbMBmV",
        "outputId": "9c9bc655-195c-48d9-9bef-0fcfc1c6e013"
      },
      "execution_count": 32,
      "outputs": [
        {
          "output_type": "stream",
          "name": "stdout",
          "text": [
            "+-----------+------+---------+\n",
            "| Department|  Name|TopSalary|\n",
            "+-----------+------+---------+\n",
            "|Engineering|   Raj|    80000|\n",
            "|Engineering|Simran|    75000|\n",
            "|         HR| Nisha|    50000|\n",
            "|         HR| Anita|    55000|\n",
            "|  Marketing| Aamir|    60000|\n",
            "+-----------+------+---------+\n",
            "\n",
            "+-----------+--------------+\n",
            "| Department|AttendanceRate|\n",
            "+-----------+--------------+\n",
            "|Engineering|          0.19|\n",
            "|         HR|          0.25|\n",
            "|  Marketing|           0.0|\n",
            "+-----------+--------------+\n",
            "\n",
            "+-----+------+-----------+----------+------+---------+--------+---------+----------+-------+\n",
            "|EmpID|  Name| Department|  JoinDate|Salary|ManagerID|JoinYear|JoinMonth|MaskedName|EmpCode|\n",
            "+-----+------+-----------+----------+------+---------+--------+---------+----------+-------+\n",
            "|    3|Simran|Engineering|2022-07-10| 75000|      1.0|    2022|        7|    ******| EMP003|\n",
            "+-----+------+-----------+----------+------+---------+--------+---------+----------+-------+\n",
            "\n"
          ]
        }
      ]
    },
    {
      "cell_type": "markdown",
      "source": [
        "8. Advanced"
      ],
      "metadata": {
        "id": "MpeDAXOXMTlW"
      }
    },
    {
      "cell_type": "code",
      "source": [
        "from pyspark.sql.types import StringType\n",
        "from pyspark.sql.functions import udf\n",
        "def classify_dept(dept):\n",
        "    return \"Tech\" if dept == \"Engineering\" else \"Non-Tech\"\n",
        "\n",
        "classify_dept_udf = udf(classify_dept, StringType())\n",
        "\n",
        "employees_df = employees_df.withColumn(\"DeptType\", classify_dept_udf(\"Department\"))\n"
      ],
      "metadata": {
        "id": "mxO1qr-WMTIf"
      },
      "execution_count": 33,
      "outputs": []
    },
    {
      "cell_type": "code",
      "source": [
        "emp_attendance_summary = multi_join_df.select(\"EmpID\", \"Name\", \"Department\", \"AttendancePercent\")\n",
        "emp_attendance_summary.createOrReplaceTempView(\"emp_attendance_summary\")\n",
        "\n",
        "emp_attendance_summary.write.mode(\"overwrite\").partitionBy(\"Department\").parquet(\"/content/emp_attendance_summary\")"
      ],
      "metadata": {
        "id": "DV0JjRt6MBpN"
      },
      "execution_count": 34,
      "outputs": []
    },
    {
      "cell_type": "code",
      "source": [],
      "metadata": {
        "id": "eYAZXTJ6MBrv"
      },
      "execution_count": null,
      "outputs": []
    },
    {
      "cell_type": "code",
      "source": [],
      "metadata": {
        "id": "dwXY5jB_MBue"
      },
      "execution_count": null,
      "outputs": []
    }
  ]
}