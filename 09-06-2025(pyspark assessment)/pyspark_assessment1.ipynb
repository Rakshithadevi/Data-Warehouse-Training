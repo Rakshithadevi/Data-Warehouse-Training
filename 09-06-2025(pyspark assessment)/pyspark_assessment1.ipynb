{
  "nbformat": 4,
  "nbformat_minor": 0,
  "metadata": {
    "colab": {
      "provenance": []
    },
    "kernelspec": {
      "name": "python3",
      "display_name": "Python 3"
    },
    "language_info": {
      "name": "python"
    }
  },
  "cells": [
    {
      "cell_type": "code",
      "execution_count": 1,
      "metadata": {
        "id": "orVtR01oNlMf"
      },
      "outputs": [],
      "source": [
        "from pyspark.sql import SparkSession\n",
        "from pyspark.sql.functions import *\n",
        "from pyspark.sql.types import *\n",
        "spark = SparkSession.builder.appName(\"SalesDataAnalysis\").getOrCreate()\n"
      ]
    },
    {
      "cell_type": "markdown",
      "source": [
        "1. Data Ingestion & Exploration"
      ],
      "metadata": {
        "id": "YKQJJ2iUOb4A"
      }
    },
    {
      "cell_type": "code",
      "source": [
        "from google.colab import drive\n",
        "drive.mount('/content/drive')\n",
        "customers_df = spark.read.csv(\"/content/drive/MyDrive/customers.csv\", header=True, inferSchema=True)\n",
        "orders_df= spark.read.csv(\"/content/drive/MyDrive/orders.csv\", header=True, inferSchema=True)\n"
      ],
      "metadata": {
        "colab": {
          "base_uri": "https://localhost:8080/"
        },
        "id": "48T41r8OOcrX",
        "outputId": "cf7a2736-c794-41fd-c236-8f426ef8a1fb"
      },
      "execution_count": 18,
      "outputs": [
        {
          "output_type": "stream",
          "name": "stdout",
          "text": [
            "Drive already mounted at /content/drive; to attempt to forcibly remount, call drive.mount(\"/content/drive\", force_remount=True).\n"
          ]
        }
      ]
    },
    {
      "cell_type": "code",
      "source": [
        "customers_df.printSchema()\n",
        "customers_df.show()\n",
        "orders_df.printSchema()\n",
        "orders_df.show()"
      ],
      "metadata": {
        "colab": {
          "base_uri": "https://localhost:8080/"
        },
        "id": "1QIbRiyUOct3",
        "outputId": "7b4d331b-e3c4-45f2-8f86-a79c1f099874"
      },
      "execution_count": 5,
      "outputs": [
        {
          "output_type": "stream",
          "name": "stdout",
          "text": [
            "root\n",
            " |-- CustomerID: integer (nullable = true)\n",
            " |-- Name: string (nullable = true)\n",
            " |-- Email: string (nullable = true)\n",
            " |-- City: string (nullable = true)\n",
            " |-- SignupDate: date (nullable = true)\n",
            "\n",
            "+----------+-----+-----------------+---------+----------+\n",
            "|CustomerID| Name|            Email|     City|SignupDate|\n",
            "+----------+-----+-----------------+---------+----------+\n",
            "|       101|  Ali|    ali@gmail.com|   Mumbai|2022-05-10|\n",
            "|       102| Neha|   neha@yahoo.com|    Delhi|2023-01-15|\n",
            "|       103| Ravi| ravi@hotmail.com|Bangalore|2021-11-01|\n",
            "|       104|Sneha|sneha@outlook.com|Hyderabad|2020-07-22|\n",
            "|       105| Amit|   amit@gmail.com|  Chennai|2023-03-10|\n",
            "+----------+-----+-----------------+---------+----------+\n",
            "\n",
            "root\n",
            " |-- OrderID: integer (nullable = true)\n",
            " |-- CustomerID: integer (nullable = true)\n",
            " |-- Product: string (nullable = true)\n",
            " |-- Category: string (nullable = true)\n",
            " |-- Quantity: integer (nullable = true)\n",
            " |-- Price: double (nullable = true)\n",
            " |-- OrderDate: date (nullable = true)\n",
            "\n",
            "+-------+----------+---------+-----------+--------+-------+----------+\n",
            "|OrderID|CustomerID|  Product|   Category|Quantity|  Price| OrderDate|\n",
            "+-------+----------+---------+-----------+--------+-------+----------+\n",
            "|      1|       101|   Laptop|Electronics|       2|50000.0|2024-01-10|\n",
            "|      2|       101|    Mouse|Electronics|       1| 1200.0|2024-01-15|\n",
            "|      3|       102|   Tablet|Electronics|       1|20000.0|2024-02-01|\n",
            "|      4|       103|Bookshelf|  Furniture|       1| 3500.0|2024-02-10|\n",
            "|      5|       104|    Mixer| Appliances|       1| 5000.0|2024-02-15|\n",
            "|      6|       105| Notebook| Stationery|       5|  500.0|2024-03-01|\n",
            "|      7|       102|    Phone|Electronics|       1|30000.0|2024-03-02|\n",
            "+-------+----------+---------+-----------+--------+-------+----------+\n",
            "\n"
          ]
        }
      ]
    },
    {
      "cell_type": "code",
      "source": [
        "print(\"Total Customers:\", customers_df.count())\n",
        "print(\"Total Orders:\", orders_df.count())\n"
      ],
      "metadata": {
        "colab": {
          "base_uri": "https://localhost:8080/"
        },
        "id": "hEhR74t3Ocwy",
        "outputId": "c15978c5-12e2-4195-cfcc-bd5176fe8a6c"
      },
      "execution_count": 6,
      "outputs": [
        {
          "output_type": "stream",
          "name": "stdout",
          "text": [
            "Total Customers: 5\n",
            "Total Orders: 7\n"
          ]
        }
      ]
    },
    {
      "cell_type": "code",
      "source": [
        "customers_df.select(\"City\").distinct().show()"
      ],
      "metadata": {
        "colab": {
          "base_uri": "https://localhost:8080/"
        },
        "id": "3Tu93tmrOczZ",
        "outputId": "29e26ad3-5eca-4e6d-dc5f-fdebf2f9625c"
      },
      "execution_count": 7,
      "outputs": [
        {
          "output_type": "stream",
          "name": "stdout",
          "text": [
            "+---------+\n",
            "|     City|\n",
            "+---------+\n",
            "|Bangalore|\n",
            "|  Chennai|\n",
            "|   Mumbai|\n",
            "|    Delhi|\n",
            "|Hyderabad|\n",
            "+---------+\n",
            "\n"
          ]
        }
      ]
    },
    {
      "cell_type": "markdown",
      "source": [
        "2. DataFrame Transformations"
      ],
      "metadata": {
        "id": "ErD6wTAzPYFm"
      }
    },
    {
      "cell_type": "code",
      "source": [
        "orders_df = orders_df.withColumn(\"TotalAmount\", col(\"Price\") * col(\"Quantity\"))\n",
        "orders_df = orders_df.withColumn(\"OrderYear\", year(col(\"OrderDate\")))\n",
        "orders_df.filter(col(\"TotalAmount\") > 10000).show()\n",
        "customers_df = customers_df.drop(\"Email\")"
      ],
      "metadata": {
        "colab": {
          "base_uri": "https://localhost:8080/"
        },
        "id": "gzGdjjLlOc2t",
        "outputId": "04507b04-4ba5-41e3-d70f-d746afd27c8e"
      },
      "execution_count": 8,
      "outputs": [
        {
          "output_type": "stream",
          "name": "stdout",
          "text": [
            "+-------+----------+-------+-----------+--------+-------+----------+-----------+---------+\n",
            "|OrderID|CustomerID|Product|   Category|Quantity|  Price| OrderDate|TotalAmount|OrderYear|\n",
            "+-------+----------+-------+-----------+--------+-------+----------+-----------+---------+\n",
            "|      1|       101| Laptop|Electronics|       2|50000.0|2024-01-10|   100000.0|     2024|\n",
            "|      3|       102| Tablet|Electronics|       1|20000.0|2024-02-01|    20000.0|     2024|\n",
            "|      7|       102|  Phone|Electronics|       1|30000.0|2024-03-02|    30000.0|     2024|\n",
            "+-------+----------+-------+-----------+--------+-------+----------+-----------+---------+\n",
            "\n"
          ]
        }
      ]
    },
    {
      "cell_type": "markdown",
      "source": [
        "3. Handling Nulls & Conditionals"
      ],
      "metadata": {
        "id": "fyHR6vtyPhS6"
      }
    },
    {
      "cell_type": "code",
      "source": [
        "customers_df = customers_df.withColumn(\"City\", when(col(\"City\").isNull(), \"Unknown\").otherwise(col(\"City\")))\n",
        "customers_df = customers_df.withColumn(\"CustomerType\", when(col(\"SignupDate\") < \"2022-01-01\", \"Loyal\").otherwise(\"New\"))\n",
        "orders_df = orders_df.withColumn(\"OrderType\", when(col(\"TotalAmount\") < 5000, \"Low\").otherwise(\"High\"))\n",
        "\n"
      ],
      "metadata": {
        "id": "3rco66zpPiWk"
      },
      "execution_count": 9,
      "outputs": []
    },
    {
      "cell_type": "markdown",
      "source": [
        "4. Joins & Aggregations"
      ],
      "metadata": {
        "id": "vYroSVdnPqil"
      }
    },
    {
      "cell_type": "code",
      "source": [
        "joined_df = orders_df.join(customers_df, on=\"CustomerID\", how=\"inner\")\n",
        "joined_df.groupBy(\"City\").agg(count(\"OrderID\").alias(\"TotalOrders\"), sum(\"TotalAmount\").alias(\"TotalRevenue\")).show()\n"
      ],
      "metadata": {
        "colab": {
          "base_uri": "https://localhost:8080/"
        },
        "id": "GgB-bhqSPiZZ",
        "outputId": "72e2d8fe-d56e-4ec2-e128-35656d371d9c"
      },
      "execution_count": 11,
      "outputs": [
        {
          "output_type": "stream",
          "name": "stdout",
          "text": [
            "+---------+-----------+------------+\n",
            "|     City|TotalOrders|TotalRevenue|\n",
            "+---------+-----------+------------+\n",
            "|Bangalore|          1|      3500.0|\n",
            "|  Chennai|          1|      2500.0|\n",
            "|   Mumbai|          2|    101200.0|\n",
            "|    Delhi|          2|     50000.0|\n",
            "|Hyderabad|          1|      5000.0|\n",
            "+---------+-----------+------------+\n",
            "\n"
          ]
        }
      ]
    },
    {
      "cell_type": "code",
      "source": [
        "joined_df.groupBy(\"CustomerID\").agg(sum(\"TotalAmount\").alias(\"TotalSpend\")).orderBy(desc(\"TotalSpend\")).limit(3).show()"
      ],
      "metadata": {
        "colab": {
          "base_uri": "https://localhost:8080/"
        },
        "id": "NBTHw6VOPicA",
        "outputId": "e619ecd4-a958-4e9e-9433-afa29f6ce5b7"
      },
      "execution_count": 12,
      "outputs": [
        {
          "output_type": "stream",
          "name": "stdout",
          "text": [
            "+----------+----------+\n",
            "|CustomerID|TotalSpend|\n",
            "+----------+----------+\n",
            "|       101|  101200.0|\n",
            "|       102|   50000.0|\n",
            "|       104|    5000.0|\n",
            "+----------+----------+\n",
            "\n"
          ]
        }
      ]
    },
    {
      "cell_type": "code",
      "source": [
        "orders_df.groupBy(\"Category\").agg(sum(\"Quantity\").alias(\"TotalProductsSold\")).show()"
      ],
      "metadata": {
        "colab": {
          "base_uri": "https://localhost:8080/"
        },
        "id": "l7e-hQVxPifn",
        "outputId": "180efdef-2a3c-4c22-aefc-ee51409c6e4c"
      },
      "execution_count": 13,
      "outputs": [
        {
          "output_type": "stream",
          "name": "stdout",
          "text": [
            "+-----------+-----------------+\n",
            "|   Category|TotalProductsSold|\n",
            "+-----------+-----------------+\n",
            "| Stationery|                5|\n",
            "|Electronics|                5|\n",
            "|  Furniture|                1|\n",
            "| Appliances|                1|\n",
            "+-----------+-----------------+\n",
            "\n"
          ]
        }
      ]
    },
    {
      "cell_type": "markdown",
      "source": [
        "5. Spark SQL Tasks"
      ],
      "metadata": {
        "id": "N80Q-uhoP-Je"
      }
    },
    {
      "cell_type": "code",
      "source": [
        "spark.sql(\"CREATE DATABASE IF NOT EXISTS sales\")\n",
        "spark.sql(\"USE sales\")\n",
        "customers_df.write.mode(\"overwrite\").saveAsTable(\"sales.customers\")\n",
        "orders_df.write.mode(\"overwrite\").saveAsTable(\"sales.orders\")"
      ],
      "metadata": {
        "id": "4Hd4GDM2PjpT"
      },
      "execution_count": 14,
      "outputs": []
    },
    {
      "cell_type": "code",
      "source": [
        "spark.sql(\"SELECT * FROM sales.orders o JOIN sales.customers c ON o.CustomerID = c.CustomerID WHERE c.City = 'Delhi'\").show()\n",
        "spark.sql(\"SELECT Category, AVG(Price * Quantity) AS AvgOrderValue FROM sales.orders GROUP BY Category\").show()\n",
        "spark.sql(\"CREATE OR REPLACE VIEW monthly_orders AS SELECT MONTH(OrderDate) AS Month, SUM(Price * Quantity) AS TotalAmount FROM sales.orders GROUP BY MONTH(OrderDate)\")\n",
        "spark.sql(\"SELECT * FROM monthly_orders\").show()"
      ],
      "metadata": {
        "colab": {
          "base_uri": "https://localhost:8080/"
        },
        "id": "iMKvMKKGQJmX",
        "outputId": "d16c5833-453e-4fcb-8052-fe4ed059122e"
      },
      "execution_count": 15,
      "outputs": [
        {
          "output_type": "stream",
          "name": "stdout",
          "text": [
            "+-------+----------+-------+-----------+--------+-------+----------+-----------+---------+---------+----------+----+-----+----------+------------+\n",
            "|OrderID|CustomerID|Product|   Category|Quantity|  Price| OrderDate|TotalAmount|OrderYear|OrderType|CustomerID|Name| City|SignupDate|CustomerType|\n",
            "+-------+----------+-------+-----------+--------+-------+----------+-----------+---------+---------+----------+----+-----+----------+------------+\n",
            "|      3|       102| Tablet|Electronics|       1|20000.0|2024-02-01|    20000.0|     2024|     High|       102|Neha|Delhi|2023-01-15|         New|\n",
            "|      7|       102|  Phone|Electronics|       1|30000.0|2024-03-02|    30000.0|     2024|     High|       102|Neha|Delhi|2023-01-15|         New|\n",
            "+-------+----------+-------+-----------+--------+-------+----------+-----------+---------+---------+----------+----+-----+----------+------------+\n",
            "\n",
            "+-----------+-------------+\n",
            "|   Category|AvgOrderValue|\n",
            "+-----------+-------------+\n",
            "| Stationery|       2500.0|\n",
            "|Electronics|      37800.0|\n",
            "|  Furniture|       3500.0|\n",
            "| Appliances|       5000.0|\n",
            "+-----------+-------------+\n",
            "\n",
            "+-----+-----------+\n",
            "|Month|TotalAmount|\n",
            "+-----+-----------+\n",
            "|    1|   101200.0|\n",
            "|    3|    32500.0|\n",
            "|    2|    28500.0|\n",
            "+-----+-----------+\n",
            "\n"
          ]
        }
      ]
    },
    {
      "cell_type": "markdown",
      "source": [
        "6. String & Date Functions"
      ],
      "metadata": {
        "id": "5dzTFFpaQFCX"
      }
    },
    {
      "cell_type": "code",
      "source": [
        "customers_df = customers_df.withColumn(\"MaskedEmail\", regexp_replace(col(\"Email\"), r\"(\\w)\\w+@\", \"$1***@\"))\n",
        "customers_df = customers_df.withColumn(\"NameCity\", concat_ws(\" from \", col(\"Name\"), col(\"City\")))\n",
        "customers_df = customers_df.withColumn(\"CustomerAgeDays\", datediff(current_date(), col(\"SignupDate\")))\n",
        "orders_df = orders_df.withColumn(\"OrderMonthName\", date_format(col(\"OrderDate\"), \"MMMM\"))\n"
      ],
      "metadata": {
        "id": "cLODN-xRQGcS"
      },
      "execution_count": 19,
      "outputs": []
    },
    {
      "cell_type": "markdown",
      "source": [
        "7. UDFs and Complex Logic"
      ],
      "metadata": {
        "id": "cAStOeYmQ7Mu"
      }
    },
    {
      "cell_type": "code",
      "source": [
        "from pyspark.sql.functions import udf\n",
        "from pyspark.sql.types import StringType\n",
        "def tag_customer(spend):\n",
        "    if spend > 50000:\n",
        "        return \"Gold\"\n",
        "    elif spend >= 10000:\n",
        "        return \"Silver\"\n",
        "    else:\n",
        "        return \"Bronze\"\n",
        "tag_customer_udf = udf(tag_customer, StringType())\n",
        "spend_df = joined_df.groupBy(\"CustomerID\").agg(sum(\"TotalAmount\").alias(\"TotalSpend\"))\n",
        "spend_df = spend_df.withColumn(\"Tier\", tag_customer_udf(col(\"TotalSpend\")))\n",
        "spend_df.show()\n",
        "def shorten_product(name):\n",
        "    return name[:3] + \"...\" if name else None\n",
        "\n",
        "shorten_udf = udf(shorten_product, StringType())\n",
        "orders_df = orders_df.withColumn(\"ShortProduct\", shorten_udf(col(\"Product\")))\n",
        "\n"
      ],
      "metadata": {
        "colab": {
          "base_uri": "https://localhost:8080/"
        },
        "id": "UuPt-trlQGfB",
        "outputId": "bff8e0f0-26f6-4f9e-a6ac-06f8fb30d4d0"
      },
      "execution_count": 20,
      "outputs": [
        {
          "output_type": "stream",
          "name": "stdout",
          "text": [
            "+----------+----------+------+\n",
            "|CustomerID|TotalSpend|  Tier|\n",
            "+----------+----------+------+\n",
            "|       101|  101200.0|  Gold|\n",
            "|       103|    3500.0|Bronze|\n",
            "|       102|   50000.0|Silver|\n",
            "|       105|    2500.0|Bronze|\n",
            "|       104|    5000.0|Bronze|\n",
            "+----------+----------+------+\n",
            "\n"
          ]
        }
      ]
    },
    {
      "cell_type": "markdown",
      "source": [
        "8. Parquet & Views"
      ],
      "metadata": {
        "id": "KEtjBCQTRE0q"
      }
    },
    {
      "cell_type": "code",
      "source": [
        "# 8. Parquet & Views\n",
        "joined_df.write.mode(\"overwrite\").parquet(\"/content/drive/MyDrive/joined_sales.parquet\")\n",
        "parquet_df = spark.read.parquet(\"/content/drive/MyDrive/joined_sales.parquet\")\n",
        "parquet_df.printSchema()\n",
        "\n",
        "parquet_df.createOrReplaceGlobalTempView(\"global_sales_view\")\n",
        "spark.sql(\"SELECT City, SUM(TotalAmount) AS Revenue FROM global_temp.global_sales_view GROUP BY City\").show()\n"
      ],
      "metadata": {
        "colab": {
          "base_uri": "https://localhost:8080/"
        },
        "id": "F4WLRCL4QGie",
        "outputId": "01338d9f-308a-4d38-8663-20c7c37c60e9"
      },
      "execution_count": 21,
      "outputs": [
        {
          "output_type": "stream",
          "name": "stdout",
          "text": [
            "root\n",
            " |-- CustomerID: integer (nullable = true)\n",
            " |-- OrderID: integer (nullable = true)\n",
            " |-- Product: string (nullable = true)\n",
            " |-- Category: string (nullable = true)\n",
            " |-- Quantity: integer (nullable = true)\n",
            " |-- Price: double (nullable = true)\n",
            " |-- OrderDate: date (nullable = true)\n",
            " |-- TotalAmount: double (nullable = true)\n",
            " |-- OrderYear: integer (nullable = true)\n",
            " |-- OrderType: string (nullable = true)\n",
            " |-- Name: string (nullable = true)\n",
            " |-- City: string (nullable = true)\n",
            " |-- SignupDate: date (nullable = true)\n",
            " |-- CustomerType: string (nullable = true)\n",
            "\n",
            "+---------+--------+\n",
            "|     City| Revenue|\n",
            "+---------+--------+\n",
            "|Bangalore|  3500.0|\n",
            "|  Chennai|  2500.0|\n",
            "|   Mumbai|101200.0|\n",
            "|    Delhi| 50000.0|\n",
            "|Hyderabad|  5000.0|\n",
            "+---------+--------+\n",
            "\n"
          ]
        }
      ]
    }
  ]
}