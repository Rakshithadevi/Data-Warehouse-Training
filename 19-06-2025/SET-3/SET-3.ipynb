{
 "cells": [
  {
   "cell_type": "code",
   "execution_count": 0,
   "metadata": {
    "application/vnd.databricks.v1+cell": {
     "cellMetadata": {
      "byteLimit": 2048000,
      "rowLimit": 10000
     },
     "inputWidgets": {},
     "nuid": "2fd5d0fa-ccba-47e7-a3f8-63ddf668dc9e",
     "showTitle": false,
     "tableResultSettingsMap": {},
     "title": ""
    }
   },
   "outputs": [],
   "source": [
    "from pyspark.sql.types import *\n",
    "from pyspark.sql.functions import *\n",
    "\n",
    "inventory_schema = StructType([\n",
    "    StructField(\"ItemID\", StringType()),\n",
    "    StructField(\"ItemName\", StringType()),\n",
    "    StructField(\"Category\", StringType()),\n",
    "    StructField(\"Warehouse\", StringType()),\n",
    "    StructField(\"StockQty\", IntegerType()),\n",
    "    StructField(\"ReorderLevel\", IntegerType()),\n",
    "    StructField(\"LastRestocked\", DateType()),\n",
    "    StructField(\"UnitPrice\", IntegerType()),\n",
    "    StructField(\"Supplier\", StringType())\n",
    "])\n",
    "\n",
    "inventory_df = spark.read.option(\"header\", True).schema(inventory_schema).csv(\"file:/Workspace/Shared/inventory_supply.csv\")\n"
   ]
  },
  {
   "cell_type": "markdown",
   "metadata": {
    "application/vnd.databricks.v1+cell": {
     "cellMetadata": {
      "byteLimit": 2048000,
      "rowLimit": 10000
     },
     "inputWidgets": {},
     "nuid": "4673e4d9-28ff-497a-80ef-738cf0553d98",
     "showTitle": false,
     "tableResultSettingsMap": {},
     "title": ""
    }
   },
   "source": [
    "Scenario 1: Inventory Alerting System"
   ]
  },
  {
   "cell_type": "code",
   "execution_count": 0,
   "metadata": {
    "application/vnd.databricks.v1+cell": {
     "cellMetadata": {
      "byteLimit": 2048000,
      "rowLimit": 10000
     },
     "inputWidgets": {},
     "nuid": "838257a0-fef5-499b-87f1-5171cac49569",
     "showTitle": false,
     "tableResultSettingsMap": {},
     "title": ""
    }
   },
   "outputs": [],
   "source": [
    "inventory_df = inventory_df.withColumn(\"NeedsReorder\", col(\"StockQty\") < col(\"ReorderLevel\"))\n",
    "\n",
    "inventory_df.filter(\"NeedsReorder\").createOrReplaceTempView(\"items_needing_restock\")\n",
    "warehouse_alerts = inventory_df.filter(\"NeedsReorder\") \\\n",
    "    .groupBy(\"Warehouse\").count().filter(\"count > 2\")\n"
   ]
  },
  {
   "cell_type": "markdown",
   "metadata": {
    "application/vnd.databricks.v1+cell": {
     "cellMetadata": {
      "byteLimit": 2048000,
      "rowLimit": 10000
     },
     "inputWidgets": {},
     "nuid": "8ec681b7-81df-4666-a999-b6cc1fea7372",
     "showTitle": false,
     "tableResultSettingsMap": {},
     "title": ""
    }
   },
   "source": [
    "Scenario 2: Supplier Price Optimization"
   ]
  },
  {
   "cell_type": "code",
   "execution_count": 0,
   "metadata": {
    "application/vnd.databricks.v1+cell": {
     "cellMetadata": {
      "byteLimit": 2048000,
      "rowLimit": 10000
     },
     "inputWidgets": {},
     "nuid": "ff7f81dd-ed42-4e67-aab2-80ee90b2bb50",
     "showTitle": false,
     "tableResultSettingsMap": {},
     "title": ""
    }
   },
   "outputs": [],
   "source": [
    "\n",
    "category_avg = inventory_df.groupBy(\"Category\").agg(avg(\"UnitPrice\").alias(\"AvgCategoryPrice\"))\n",
    "joined_df = inventory_df.join(category_avg, on=\"Category\")\n",
    "joined_df = joined_df.withColumn(\"BelowMarket\", col(\"UnitPrice\") < col(\"AvgCategoryPrice\"))\n",
    "supplier_deal = joined_df.groupBy(\"Supplier\").agg(\n",
    "    (sum(when(col(\"BelowMarket\"), 1).otherwise(0)) / count(\"*\")).alias(\"BelowMarketRatio\")\n",
    ").withColumn(\"GoodDeal\", col(\"BelowMarketRatio\") > 0.5)\n"
   ]
  },
  {
   "cell_type": "markdown",
   "metadata": {
    "application/vnd.databricks.v1+cell": {
     "cellMetadata": {
      "byteLimit": 2048000,
      "rowLimit": 10000
     },
     "inputWidgets": {},
     "nuid": "2912312e-d8ae-406a-aabc-82544fe70604",
     "showTitle": false,
     "tableResultSettingsMap": {},
     "title": ""
    }
   },
   "source": [
    "Scenario 3: Cost Forecasting"
   ]
  },
  {
   "cell_type": "code",
   "execution_count": 0,
   "metadata": {
    "application/vnd.databricks.v1+cell": {
     "cellMetadata": {
      "byteLimit": 2048000,
      "rowLimit": 10000
     },
     "inputWidgets": {},
     "nuid": "d2f59695-36d1-494e-aedf-37490654874d",
     "showTitle": false,
     "tableResultSettingsMap": {},
     "title": ""
    }
   },
   "outputs": [],
   "source": [
    "inventory_df = inventory_df.withColumn(\"TotalStockValue\", col(\"StockQty\") * col(\"UnitPrice\"))\n",
    "\n",
    "top3_value_items = inventory_df.orderBy(col(\"TotalStockValue\").desc()).limit(3)\n",
    "inventory_df.write.partitionBy(\"Warehouse\").mode(\"overwrite\").parquet(\"file:/Workspace/Shared/value_partitioned\")\n"
   ]
  },
  {
   "cell_type": "markdown",
   "metadata": {
    "application/vnd.databricks.v1+cell": {
     "cellMetadata": {},
     "inputWidgets": {},
     "nuid": "9809d892-4a46-414c-96e7-b67018ffd732",
     "showTitle": false,
     "tableResultSettingsMap": {},
     "title": ""
    }
   },
   "source": [
    "Scenario 4: Warehouse Utilization"
   ]
  },
  {
   "cell_type": "code",
   "execution_count": 0,
   "metadata": {
    "application/vnd.databricks.v1+cell": {
     "cellMetadata": {
      "byteLimit": 2048000,
      "rowLimit": 10000
     },
     "inputWidgets": {},
     "nuid": "c22999e3-7bd8-4086-850a-03b482636370",
     "showTitle": false,
     "tableResultSettingsMap": {},
     "title": ""
    }
   },
   "outputs": [],
   "source": [
    "\n",
    "items_per_warehouse = inventory_df.groupBy(\"Warehouse\").count()\n",
    "\n",
    "\n",
    "avg_stock = inventory_df.groupBy(\"Warehouse\", \"Category\").agg(avg(\"StockQty\").alias(\"AvgStock\"))\n",
    "\n",
    "\n",
    "total_stock = inventory_df.groupBy(\"Warehouse\").agg(sum(\"StockQty\").alias(\"TotalStock\"))\n",
    "underutilized = total_stock.filter(\"TotalStock < 100\")\n"
   ]
  },
  {
   "cell_type": "markdown",
   "metadata": {
    "application/vnd.databricks.v1+cell": {
     "cellMetadata": {},
     "inputWidgets": {},
     "nuid": "a5e51621-4a58-4b9e-976b-94a66ed5f0be",
     "showTitle": false,
     "tableResultSettingsMap": {},
     "title": ""
    }
   },
   "source": [
    "Scenario 5: Delta Audit Trail\n",
    "\n"
   ]
  },
  {
   "cell_type": "code",
   "execution_count": 0,
   "metadata": {
    "application/vnd.databricks.v1+cell": {
     "cellMetadata": {
      "byteLimit": 2048000,
      "rowLimit": 10000
     },
     "inputWidgets": {},
     "nuid": "3bb4d2d7-c2d9-4286-9654-38395279a582",
     "showTitle": false,
     "tableResultSettingsMap": {},
     "title": ""
    }
   },
   "outputs": [
    {
     "output_type": "stream",
     "name": "stdout",
     "output_type": "stream",
     "text": [
      "+-------+--------------------+----------------+--------------------+---------+--------------------+----+------------------+--------------------+-----------+-----------------+-------------+--------------------+------------+--------------------+\n|version|           timestamp|          userId|            userName|operation| operationParameters| job|          notebook|           clusterId|readVersion|   isolationLevel|isBlindAppend|    operationMetrics|userMetadata|          engineInfo|\n+-------+--------------------+----------------+--------------------+---------+--------------------+----+------------------+--------------------+-----------+-----------------+-------------+--------------------+------------+--------------------+\n|      3|2025-06-19 05:30:...|7868838587549447|azuser3557_mml.lo...| OPTIMIZE|{predicate -> [],...|NULL|{1222209826929774}|0619-042535-5t46f450|          1|SnapshotIsolation|        false|{numRemovedFiles ...|        NULL|Databricks-Runtim...|\n|      2|2025-06-19 05:30:...|7868838587549447|azuser3557_mml.lo...|   DELETE|{predicate -> [\"(...|NULL|{1222209826929774}|0619-042535-5t46f450|          1|WriteSerializable|        false|{numRemovedFiles ...|        NULL|Databricks-Runtim...|\n|      1|2025-06-19 05:30:...|7868838587549447|azuser3557_mml.lo...|   UPDATE|{predicate -> [\"(...|NULL|{1222209826929774}|0619-042535-5t46f450|          0|WriteSerializable|        false|{numRemovedFiles ...|        NULL|Databricks-Runtim...|\n|      0|2025-06-19 05:30:...|7868838587549447|azuser3557_mml.lo...|    WRITE|{mode -> Overwrit...|NULL|{1222209826929774}|0619-042535-5t46f450|       NULL|WriteSerializable|        false|{numFiles -> 1, n...|        NULL|Databricks-Runtim...|\n+-------+--------------------+----------------+--------------------+---------+--------------------+----+------------------+--------------------+-----------+-----------------+-------------+--------------------+------------+--------------------+\n\n"
     ]
    }
   ],
   "source": [
    "\n",
    "delta_path = \"file:/Workspace/Shared/retail_inventory\"\n",
    "inventory_df.write.format(\"delta\").mode(\"overwrite\").save(delta_path)\n",
    "\n",
    "from delta.tables import DeltaTable\n",
    "delta_table = DeltaTable.forPath(spark, delta_path)\n",
    "\n",
    "\n",
    "delta_table.update(\"ItemName = 'Laptop'\", {\"StockQty\": \"20\"})\n",
    "delta_table.delete(\"StockQty = 0\")\n",
    "delta_table.history().show()\n",
    "version_0 = spark.read.format(\"delta\").option(\"versionAsOf\", 0).load(delta_path)\n"
   ]
  },
  {
   "cell_type": "markdown",
   "metadata": {
    "application/vnd.databricks.v1+cell": {
     "cellMetadata": {},
     "inputWidgets": {},
     "nuid": "60a9d1ed-e7e6-458a-bc89-cd8091b8495d",
     "showTitle": false,
     "tableResultSettingsMap": {},
     "title": ""
    }
   },
   "source": [
    "Scenario 6: Alerts from Restock Logs"
   ]
  },
  {
   "cell_type": "code",
   "execution_count": 0,
   "metadata": {
    "application/vnd.databricks.v1+cell": {
     "cellMetadata": {
      "byteLimit": 2048000,
      "rowLimit": 10000
     },
     "inputWidgets": {},
     "nuid": "e9c737d8-6a3c-454b-98ad-3f10aa613a44",
     "showTitle": false,
     "tableResultSettingsMap": {},
     "title": ""
    }
   },
   "outputs": [],
   "source": [
    "\n",
    "restock_log = spark.read.option(\"header\", True).option(\"inferSchema\", True).csv(\"file:/Workspace/Shared/restock_logs.csv\")\n",
    "\n",
    "\n",
    "restock_joined = inventory_df.join(restock_log, on=\"ItemID\", how=\"left\") \\\n",
    "    .withColumn(\"NewStockQty\", col(\"StockQty\") + coalesce(col(\"QuantityAdded\"), lit(0))) \\\n",
    "    .withColumn(\"RestockedRecently\", col(\"QuantityAdded\").isNotNull())\n",
    "\n",
    "\n",
    "updates_df = restock_joined.select(\"ItemID\", \"NewStockQty\", \"RestockedRecently\")\n",
    "\n",
    "delta_table.alias(\"target\").merge(\n",
    "    updates_df.alias(\"updates\"),\n",
    "    \"target.ItemID = updates.ItemID\"\n",
    ").whenMatchedUpdate(set={\n",
    "    \"StockQty\": \"updates.NewStockQty\"\n",
    "}).execute()\n"
   ]
  },
  {
   "cell_type": "markdown",
   "metadata": {
    "application/vnd.databricks.v1+cell": {
     "cellMetadata": {},
     "inputWidgets": {},
     "nuid": "0853410a-f176-4d63-a441-4692b0305926",
     "showTitle": false,
     "tableResultSettingsMap": {},
     "title": ""
    }
   },
   "source": [
    "Scenario 7: Report Generation with SQL Views"
   ]
  },
  {
   "cell_type": "code",
   "execution_count": 0,
   "metadata": {
    "application/vnd.databricks.v1+cell": {
     "cellMetadata": {
      "byteLimit": 2048000,
      "rowLimit": 10000
     },
     "inputWidgets": {},
     "nuid": "890608d0-3dbb-495e-be16-a6c7165a61a6",
     "showTitle": false,
     "tableResultSettingsMap": {},
     "title": ""
    }
   },
   "outputs": [
    {
     "output_type": "execute_result",
     "data": {
      "text/plain": [
       "DataFrame[]"
      ]
     },
     "execution_count": 32,
     "metadata": {},
     "output_type": "execute_result"
    }
   ],
   "source": [
    "inventory_df.createOrReplaceTempView(\"inventory\")\n",
    "\n",
    "spark.sql(\"\"\"\n",
    "CREATE OR REPLACE TEMP VIEW inventory_summary AS\n",
    "SELECT ItemName, Category, StockQty, NeedsReorder, (StockQty * UnitPrice) AS TotalStockValue\n",
    "FROM inventory\n",
    "\"\"\")\n",
    "\n",
    "spark.sql(\"\"\"\n",
    "CREATE OR REPLACE TEMP VIEW supplier_leaderboard AS\n",
    "SELECT Supplier, AVG(UnitPrice) AS AvgPrice\n",
    "FROM inventory\n",
    "GROUP BY Supplier\n",
    "ORDER BY AvgPrice ASC\n",
    "\"\"\")\n"
   ]
  },
  {
   "cell_type": "markdown",
   "metadata": {
    "application/vnd.databricks.v1+cell": {
     "cellMetadata": {},
     "inputWidgets": {},
     "nuid": "cdcd47d9-0d5c-4dfe-a101-9c690b30a3d2",
     "showTitle": false,
     "tableResultSettingsMap": {},
     "title": ""
    }
   },
   "source": [
    "Scenario 8: Advanced Filtering"
   ]
  },
  {
   "cell_type": "code",
   "execution_count": 0,
   "metadata": {
    "application/vnd.databricks.v1+cell": {
     "cellMetadata": {
      "byteLimit": 2048000,
      "rowLimit": 10000
     },
     "inputWidgets": {},
     "nuid": "9c99a98d-84ab-4ed0-94f2-ac2d8f484a62",
     "showTitle": false,
     "tableResultSettingsMap": {},
     "title": ""
    }
   },
   "outputs": [],
   "source": [
    "\n",
    "inventory_df = inventory_df.withColumn(\"StockStatus\", when(col(\"StockQty\") > 2 * col(\"ReorderLevel\"), \"Overstocked\")\n",
    "                                        .when(col(\"StockQty\") < col(\"ReorderLevel\"), \"LowStock\")\n",
    "                                        .otherwise(\"Normal\"))\n",
    "\n",
    "\n",
    "low_stock_filter = inventory_df.filter(\"StockStatus = 'LowStock'\")\n",
    "\n",
    "\n",
    "overstock_filter = inventory_df.where(col(\"StockStatus\") == \"Overstocked\")\n"
   ]
  },
  {
   "cell_type": "markdown",
   "metadata": {
    "application/vnd.databricks.v1+cell": {
     "cellMetadata": {},
     "inputWidgets": {},
     "nuid": "480373fc-7f22-4865-a4f7-18933734021a",
     "showTitle": false,
     "tableResultSettingsMap": {},
     "title": ""
    }
   },
   "source": [
    "Scenario 9: Feature Engineering\n"
   ]
  },
  {
   "cell_type": "code",
   "execution_count": 0,
   "metadata": {
    "application/vnd.databricks.v1+cell": {
     "cellMetadata": {
      "byteLimit": 2048000,
      "rowLimit": 10000
     },
     "inputWidgets": {},
     "nuid": "1148a434-177b-4872-80a3-43a27426ab1f",
     "showTitle": false,
     "tableResultSettingsMap": {},
     "title": ""
    }
   },
   "outputs": [],
   "source": [
    "\n",
    "inventory_df = inventory_df.withColumn(\"RestockMonth\", month(\"LastRestocked\"))\n",
    "inventory_df = inventory_df.withColumn(\"StockAge\", datediff(current_date(), col(\"LastRestocked\")))\n",
    "inventory_df = inventory_df.withColumn(\"StockAgeBucket\", when(col(\"StockAge\") < 30, \"New\")\n",
    "                                       .when(col(\"StockAge\") < 90, \"Moderate\")\n",
    "                                       .otherwise(\"Stale\"))\n"
   ]
  },
  {
   "cell_type": "markdown",
   "metadata": {
    "application/vnd.databricks.v1+cell": {
     "cellMetadata": {},
     "inputWidgets": {},
     "nuid": "760d1121-1ceb-4bed-a7b9-6e57e5851434",
     "showTitle": false,
     "tableResultSettingsMap": {},
     "title": ""
    }
   },
   "source": [
    "Scenario 10: Export Options"
   ]
  },
  {
   "cell_type": "code",
   "execution_count": 0,
   "metadata": {
    "application/vnd.databricks.v1+cell": {
     "cellMetadata": {
      "byteLimit": 2048000,
      "rowLimit": 10000
     },
     "inputWidgets": {},
     "nuid": "1dc38dc9-9659-4648-b57e-14dff8d895bb",
     "showTitle": false,
     "tableResultSettingsMap": {},
     "title": ""
    }
   },
   "outputs": [],
   "source": [
    "\n",
    "inventory_df.write.mode(\"overwrite\").option(\"header\", True).csv(\"file:/Workspace/Shared/analyst_csv\")\n",
    "inventory_df.write.mode(\"overwrite\").json(\"file:/Workspace/Shared/integration_json\")\n",
    "inventory_df.write.format(\"delta\").mode(\"overwrite\").save(\"file:/Workspace/Shared/pipeline_delta\")\n",
    "\n",
    "inventory_df.filter(\"StockAgeBucket = 'Stale'\") \\\n",
    "    .write.mode(\"overwrite\").json(\"file:/Workspace/Shared/\")\n"
   ]
  }
 ],
 "metadata": {
  "application/vnd.databricks.v1+notebook": {
   "computePreferences": null,
   "dashboards": [],
   "environmentMetadata": {
    "base_environment": "",
    "environment_version": "2"
   },
   "inputWidgetPreferences": null,
   "language": "python",
   "notebookMetadata": {
    "pythonIndentUnit": 4
   },
   "notebookName": "SET-3",
   "widgets": {}
  },
  "language_info": {
   "name": "python"
  }
 },
 "nbformat": 4,
 "nbformat_minor": 0
}