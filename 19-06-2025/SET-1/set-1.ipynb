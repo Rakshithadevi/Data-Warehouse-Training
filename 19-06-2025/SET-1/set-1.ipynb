{
 "cells": [
  {
   "cell_type": "code",
   "execution_count": 0,
   "metadata": {
    "application/vnd.databricks.v1+cell": {
     "cellMetadata": {
      "byteLimit": 2048000,
      "rowLimit": 10000
     },
     "inputWidgets": {},
     "nuid": "f16a57ae-5660-45c3-a716-1e959b20d600",
     "showTitle": false,
     "tableResultSettingsMap": {},
     "title": ""
    }
   },
   "outputs": [],
   "source": [
    "from pyspark.sql import SparkSession\n",
    "from pyspark.sql.types import StructType, StructField, StringType, TimestampType, DoubleType\n",
    "from pyspark.sql.functions import *"
   ]
  },
  {
   "cell_type": "code",
   "execution_count": 0,
   "metadata": {
    "application/vnd.databricks.v1+cell": {
     "cellMetadata": {
      "byteLimit": 2048000,
      "rowLimit": 10000
     },
     "inputWidgets": {},
     "nuid": "ef979488-ebc9-4ab2-91ab-65858c6b6cd3",
     "showTitle": false,
     "tableResultSettingsMap": {},
     "title": ""
    }
   },
   "outputs": [],
   "source": [
    "traffic_path = \"file:/Workspace/Shared/traffic_logs.csv\"\n",
    "registry_path = \"file:/Workspace/Shared/vehicle_registry.csv\"\n"
   ]
  },
  {
   "cell_type": "code",
   "execution_count": 0,
   "metadata": {
    "application/vnd.databricks.v1+cell": {
     "cellMetadata": {
      "byteLimit": 2048000,
      "rowLimit": 10000
     },
     "inputWidgets": {},
     "nuid": "b20876e1-8a95-4b90-88fe-d8b810068b33",
     "showTitle": false,
     "tableResultSettingsMap": {},
     "title": ""
    }
   },
   "outputs": [],
   "source": [
    "manual_schema = StructType([\n",
    "    StructField(\"LogID\", StringType(), True),\n",
    "    StructField(\"VehicleID\", StringType(), True),\n",
    "    StructField(\"EntryPoint\", StringType(), True),\n",
    "    StructField(\"ExitPoint\", StringType(), True),\n",
    "    StructField(\"EntryTime\", TimestampType(), True),\n",
    "    StructField(\"ExitTime\", TimestampType(), True),\n",
    "    StructField(\"VehicleType\", StringType(), True),\n",
    "    StructField(\"SpeedKMH\", DoubleType(), True),\n",
    "    StructField(\"TollPaid\", DoubleType(), True)\n",
    "])"
   ]
  },
  {
   "cell_type": "code",
   "execution_count": 0,
   "metadata": {
    "application/vnd.databricks.v1+cell": {
     "cellMetadata": {
      "byteLimit": 2048000,
      "rowLimit": 10000
     },
     "inputWidgets": {},
     "nuid": "f4450512-68c0-40e6-b62d-a8df68bbd07c",
     "showTitle": false,
     "tableResultSettingsMap": {},
     "title": ""
    }
   },
   "outputs": [
    {
     "output_type": "stream",
     "name": "stdout",
     "output_type": "stream",
     "text": [
      "+-----+---------+----------+---------+-------------------+-------------------+-----------+--------+--------+\n|LogID|VehicleID|EntryPoint|ExitPoint|          EntryTime|           ExitTime|VehicleType|SpeedKMH|TollPaid|\n+-----+---------+----------+---------+-------------------+-------------------+-----------+--------+--------+\n| L001|     V001|     GateA|    GateC|2024-05-01 08:01:00|2024-05-01 08:20:00|        Car|    60.0|    50.0|\n| L002|     V002|     GateB|    GateC|2024-05-01 08:10:00|2024-05-01 08:45:00|      Truck|    45.0|   100.0|\n| L003|     V003|     GateA|    GateD|2024-05-01 09:00:00|2024-05-01 09:18:00|       Bike|    55.0|    30.0|\n| L004|     V004|     GateC|    GateD|2024-05-01 09:15:00|2024-05-01 09:35:00|        Car|    80.0|    50.0|\n| L005|     V005|     GateB|    GateA|2024-05-01 10:05:00|2024-05-01 10:40:00|        Bus|    40.0|    70.0|\n+-----+---------+----------+---------+-------------------+-------------------+-----------+--------+--------+\n\n"
     ]
    }
   ],
   "source": [
    "traffic_df = spark.read.option(\"header\", True).schema(manual_schema).csv(traffic_path)\n",
    "traffic_df.show()"
   ]
  },
  {
   "cell_type": "code",
   "execution_count": 0,
   "metadata": {
    "application/vnd.databricks.v1+cell": {
     "cellMetadata": {
      "byteLimit": 2048000,
      "rowLimit": 10000
     },
     "inputWidgets": {},
     "nuid": "2e8d98a5-f78c-4f2e-aee3-0cc873bb4e4b",
     "showTitle": false,
     "tableResultSettingsMap": {},
     "title": ""
    }
   },
   "outputs": [],
   "source": [
    "traffic_df = traffic_df.withColumn(\"TripDurationMinutes\", (unix_timestamp(\"ExitTime\") - unix_timestamp(\"EntryTime\")) / 60)\n",
    "traffic_df = traffic_df.withColumn(\"IsOverspeed\", col(\"SpeedKMH\") > 60)\n"
   ]
  },
  {
   "cell_type": "code",
   "execution_count": 0,
   "metadata": {
    "application/vnd.databricks.v1+cell": {
     "cellMetadata": {
      "byteLimit": 2048000,
      "rowLimit": 10000
     },
     "inputWidgets": {},
     "nuid": "3d27fc2f-a160-4ede-af05-3944c6580d7a",
     "showTitle": false,
     "tableResultSettingsMap": {},
     "title": ""
    }
   },
   "outputs": [],
   "source": [
    "avg_speed = traffic_df.groupBy(\"VehicleType\").agg(avg(\"SpeedKMH\").alias(\"AvgSpeed\"))\n",
    "total_toll_per_gate = traffic_df.groupBy(\"EntryPoint\").agg(sum(\"TollPaid\").alias(\"TotalToll\"))\n",
    "most_used_exit = traffic_df.groupBy(\"ExitPoint\").count().orderBy(col(\"count\").desc())\n"
   ]
  },
  {
   "cell_type": "code",
   "execution_count": 0,
   "metadata": {
    "application/vnd.databricks.v1+cell": {
     "cellMetadata": {
      "byteLimit": 2048000,
      "rowLimit": 10000
     },
     "inputWidgets": {},
     "nuid": "f54721d0-72f9-4755-83cf-d30fd4acd76a",
     "showTitle": false,
     "tableResultSettingsMap": {},
     "title": ""
    }
   },
   "outputs": [],
   "source": [
    "from pyspark.sql.window import Window\n",
    "\n",
    "speed_rank_window = Window.partitionBy(\"VehicleType\").orderBy(col(\"SpeedKMH\").desc())\n",
    "traffic_df = traffic_df.withColumn(\"SpeedRank\", rank().over(speed_rank_window))\n",
    "\n",
    "vehicle_window = Window.partitionBy(\"VehicleID\").orderBy(\"EntryTime\")\n",
    "traffic_df = traffic_df.withColumn(\"LastExitTime\", lag(\"ExitTime\").over(vehicle_window))\n",
    "\n"
   ]
  },
  {
   "cell_type": "code",
   "execution_count": 0,
   "metadata": {
    "application/vnd.databricks.v1+cell": {
     "cellMetadata": {
      "byteLimit": 2048000,
      "rowLimit": 10000
     },
     "inputWidgets": {},
     "nuid": "eeb056fe-349f-46af-ba4c-574e6bd79190",
     "showTitle": false,
     "tableResultSettingsMap": {},
     "title": ""
    }
   },
   "outputs": [],
   "source": [
    "\n",
    "traffic_df = traffic_df.withColumn(\"IdleTimeMinutes\",\n",
    "                                   (unix_timestamp(\"EntryTime\") - unix_timestamp(\"LastExitTime\")) / 60)\n"
   ]
  },
  {
   "cell_type": "code",
   "execution_count": 0,
   "metadata": {
    "application/vnd.databricks.v1+cell": {
     "cellMetadata": {
      "byteLimit": 2048000,
      "rowLimit": 10000
     },
     "inputWidgets": {},
     "nuid": "074b802f-7432-4a49-bf59-754448d430ef",
     "showTitle": false,
     "tableResultSettingsMap": {},
     "title": ""
    }
   },
   "outputs": [],
   "source": [
    "anomaly_speed = traffic_df.filter((col(\"SpeedKMH\") > 70) & (col(\"TripDurationMinutes\") < 10))\n",
    "anomaly_toll = traffic_df.filter((col(\"TripDurationMinutes\") > 30) & (col(\"TollPaid\") < 40))\n",
    "anomaly_backtrack = traffic_df.filter(expr(\"EntryPoint > ExitPoint\"))  # example backtracking logic\n"
   ]
  },
  {
   "cell_type": "code",
   "execution_count": 0,
   "metadata": {
    "application/vnd.databricks.v1+cell": {
     "cellMetadata": {
      "byteLimit": 2048000,
      "rowLimit": 10000
     },
     "inputWidgets": {},
     "nuid": "dc25d038-9c30-4c99-b0bb-e25c2ffbeeed",
     "showTitle": false,
     "tableResultSettingsMap": {},
     "title": ""
    }
   },
   "outputs": [],
   "source": [
    "registry_schema = StructType([\n",
    "    StructField(\"VehicleID\", StringType(), True),\n",
    "    StructField(\"OwnerName\", StringType(), True),\n",
    "    StructField(\"Model\", StringType(), True),\n",
    "    StructField(\"RegisteredCity\", StringType(), True)\n",
    "])\n",
    "vehicle_registry_df = spark.read.option(\"header\", True).schema(registry_schema).csv(registry_path)\n",
    "\n",
    "enriched_df = traffic_df.join(vehicle_registry_df, on=\"VehicleID\", how=\"left\")\n",
    "trips_by_city = enriched_df.groupBy(\"RegisteredCity\").count()\n"
   ]
  },
  {
   "cell_type": "code",
   "execution_count": 0,
   "metadata": {
    "application/vnd.databricks.v1+cell": {
     "cellMetadata": {
      "byteLimit": 2048000,
      "rowLimit": 10000
     },
     "inputWidgets": {},
     "nuid": "e8f6e311-f9a9-4d88-b8db-561feaed0487",
     "showTitle": false,
     "tableResultSettingsMap": {},
     "title": ""
    }
   },
   "outputs": [],
   "source": [
    "delta_path = \"/mnt/data/traffic_delta\"\n",
    "enriched_df.write.format(\"delta\").mode(\"overwrite\").save(delta_path)\n",
    "\n",
    "from delta.tables import DeltaTable\n",
    "delta_table = DeltaTable.forPath(spark, delta_path)"
   ]
  },
  {
   "cell_type": "code",
   "execution_count": 0,
   "metadata": {
    "application/vnd.databricks.v1+cell": {
     "cellMetadata": {
      "byteLimit": 2048000,
      "rowLimit": 10000
     },
     "inputWidgets": {},
     "nuid": "f2f01e0d-ed5f-47d6-ac02-d857aa6b2859",
     "showTitle": false,
     "tableResultSettingsMap": {},
     "title": ""
    }
   },
   "outputs": [],
   "source": [
    "delta_table.update(\"VehicleType = 'Bike'\", {\"TollPaid\": \"40\"})"
   ]
  },
  {
   "cell_type": "code",
   "execution_count": 0,
   "metadata": {
    "application/vnd.databricks.v1+cell": {
     "cellMetadata": {
      "byteLimit": 2048000,
      "rowLimit": 10000
     },
     "inputWidgets": {},
     "nuid": "e0573a36-5094-4196-ba24-5c011aed164c",
     "showTitle": false,
     "tableResultSettingsMap": {},
     "title": ""
    }
   },
   "outputs": [],
   "source": [
    "delta_table.delete(\"(unix_timestamp(ExitTime) - unix_timestamp(EntryTime))/60 > 60\")"
   ]
  },
  {
   "cell_type": "code",
   "execution_count": 0,
   "metadata": {
    "application/vnd.databricks.v1+cell": {
     "cellMetadata": {
      "byteLimit": 2048000,
      "rowLimit": 10000
     },
     "inputWidgets": {},
     "nuid": "2ddfcb72-41e6-4fdc-8d0d-279787217f8e",
     "showTitle": false,
     "tableResultSettingsMap": {},
     "title": ""
    }
   },
   "outputs": [
    {
     "output_type": "stream",
     "name": "stdout",
     "output_type": "stream",
     "text": [
      "+-------+-------------------+----------------+--------------------+---------+--------------------+----+------------------+--------------------+-----------+-----------------+-------------+--------------------+------------+--------------------+\n|version|          timestamp|          userId|            userName|operation| operationParameters| job|          notebook|           clusterId|readVersion|   isolationLevel|isBlindAppend|    operationMetrics|userMetadata|          engineInfo|\n+-------+-------------------+----------------+--------------------+---------+--------------------+----+------------------+--------------------+-----------+-----------------+-------------+--------------------+------------+--------------------+\n|      3|2025-06-19 04:40:29|7868838587549447|azuser3557_mml.lo...|   DELETE|{predicate -> [\"(...|NULL|{1222209826929585}|0619-042535-5t46f450|          2|WriteSerializable|        false|{numRemovedFiles ...|        NULL|Databricks-Runtim...|\n|      2|2025-06-19 04:40:21|7868838587549447|azuser3557_mml.lo...| OPTIMIZE|{predicate -> [],...|NULL|{1222209826929585}|0619-042535-5t46f450|          1|SnapshotIsolation|        false|{numRemovedFiles ...|        NULL|Databricks-Runtim...|\n|      1|2025-06-19 04:40:17|7868838587549447|azuser3557_mml.lo...|   UPDATE|{predicate -> [\"(...|NULL|{1222209826929585}|0619-042535-5t46f450|          0|WriteSerializable|        false|{numRemovedFiles ...|        NULL|Databricks-Runtim...|\n|      0|2025-06-19 04:40:00|7868838587549447|azuser3557_mml.lo...|    WRITE|{mode -> Overwrit...|NULL|{1222209826929585}|0619-042535-5t46f450|       NULL|WriteSerializable|        false|{numFiles -> 1, n...|        NULL|Databricks-Runtim...|\n+-------+-------------------+----------------+--------------------+---------+--------------------+----+------------------+--------------------+-----------+-----------------+-------------+--------------------+------------+--------------------+\n\n"
     ]
    }
   ],
   "source": [
    "delta_table.history().show()\n",
    "version_0_df = spark.read.format(\"delta\").option(\"versionAsOf\", 0).load(delta_path)\n"
   ]
  },
  {
   "cell_type": "code",
   "execution_count": 0,
   "metadata": {
    "application/vnd.databricks.v1+cell": {
     "cellMetadata": {
      "byteLimit": 2048000,
      "rowLimit": 10000
     },
     "inputWidgets": {},
     "nuid": "eb6c3a08-537c-442a-9500-eda0932017e4",
     "showTitle": false,
     "tableResultSettingsMap": {},
     "title": ""
    }
   },
   "outputs": [],
   "source": [
    "enriched_df = enriched_df.withColumn(\"TripType\",\n",
    "    when(col(\"TripDurationMinutes\") < 15, \"Short\")\n",
    "    .when(col(\"TripDurationMinutes\") <= 30, \"Medium\")\n",
    "    .otherwise(\"Long\")\n",
    ")\n",
    "\n",
    "trip_daily = enriched_df.withColumn(\"TripDate\", to_date(\"EntryTime\")) \\\n",
    "    .groupBy(\"VehicleID\", \"TripDate\") \\\n",
    "    .agg(count(\"*\").alias(\"DailyTripCount\")) \\\n",
    "    .withColumn(\"TripFlag\", when(col(\"DailyTripCount\") > 3, \"Frequent\").otherwise(\"Normal\"))\n"
   ]
  },
  {
   "cell_type": "code",
   "execution_count": 0,
   "metadata": {
    "application/vnd.databricks.v1+cell": {
     "cellMetadata": {
      "byteLimit": 2048000,
      "rowLimit": 10000
     },
     "inputWidgets": {},
     "nuid": "994474d4-2a43-421f-946b-57f75485f02c",
     "showTitle": false,
     "tableResultSettingsMap": {},
     "title": ""
    }
   },
   "outputs": [],
   "source": [
    "output_parquet = \"file:/Workspace/Shared/final_output_parquet\"\n",
    "output_csv = \"file:/Workspace/Shared/final_output_csv\"\n"
   ]
  },
  {
   "cell_type": "code",
   "execution_count": 0,
   "metadata": {
    "application/vnd.databricks.v1+cell": {
     "cellMetadata": {
      "byteLimit": 2048000,
      "rowLimit": 10000
     },
     "inputWidgets": {},
     "nuid": "99ba9607-e5a8-48e0-b220-a46de42636df",
     "showTitle": false,
     "tableResultSettingsMap": {},
     "title": ""
    }
   },
   "outputs": [],
   "source": [
    "enriched_df.write.partitionBy(\"VehicleType\").parquet(output_parquet, mode=\"overwrite\")\n",
    "enriched_df.write.option(\"header\", True).mode(\"overwrite\").csv(output_csv)\n"
   ]
  },
  {
   "cell_type": "code",
   "execution_count": 0,
   "metadata": {
    "application/vnd.databricks.v1+cell": {
     "cellMetadata": {
      "byteLimit": 2048000,
      "rowLimit": 10000
     },
     "inputWidgets": {},
     "nuid": "7ed881d2-3ec9-4087-8dc7-d1be31cb24f0",
     "showTitle": false,
     "tableResultSettingsMap": {},
     "title": ""
    }
   },
   "outputs": [
    {
     "output_type": "stream",
     "name": "stdout",
     "output_type": "stream",
     "text": [
      "+-----------+---------+---------+\n|VehicleType|ExitPoint|TotalToll|\n+-----------+---------+---------+\n|        Car|    GateD|     50.0|\n|      Truck|    GateC|    100.0|\n|       Bike|    GateD|     30.0|\n|        Bus|    GateA|     70.0|\n|        Car|    GateC|     50.0|\n+-----------+---------+---------+\n\n"
     ]
    }
   ],
   "source": [
    "enriched_df.createOrReplaceTempView(\"traffic_view\")\n",
    "summary_sql = spark.sql(\"\"\"\n",
    "SELECT VehicleType, ExitPoint, SUM(TollPaid) AS TotalToll\n",
    "FROM traffic_view\n",
    "GROUP BY VehicleType, ExitPoint\n",
    "\"\"\")\n",
    "summary_sql.show()"
   ]
  }
 ],
 "metadata": {
  "application/vnd.databricks.v1+notebook": {
   "computePreferences": null,
   "dashboards": [],
   "environmentMetadata": {
    "base_environment": "",
    "environment_version": "2"
   },
   "inputWidgetPreferences": null,
   "language": "python",
   "notebookMetadata": {
    "pythonIndentUnit": 4
   },
   "notebookName": "set-1",
   "widgets": {}
  },
  "language_info": {
   "name": "python"
  }
 },
 "nbformat": 4,
 "nbformat_minor": 0
}